{
 "cells": [
  {
   "cell_type": "code",
   "execution_count": 1,
   "metadata": {},
   "outputs": [
    {
     "name": "stderr",
     "output_type": "stream",
     "text": [
      "/home/aansh/nnsightusage/nns2env/lib/python3.10/site-packages/tqdm/auto.py:21: TqdmWarning: IProgress not found. Please update jupyter and ipywidgets. See https://ipywidgets.readthedocs.io/en/stable/user_install.html\n",
      "  from .autonotebook import tqdm as notebook_tqdm\n"
     ]
    }
   ],
   "source": [
    "import torch as t\n",
    "import nnsight\n",
    "from nnsight import LanguageModel, LanguageModel\n",
    "import plotly.graph_objects as go\n",
    "import numpy as np\n",
    "import matplotlib.pyplot as plt\n",
    "import seaborn as sns\n",
    "import re\n",
    "import os\n",
    "\n",
    "os.environ[\"CUDA_VISIBLE_DEVICES\"] = \"1\""
   ]
  },
  {
   "cell_type": "code",
   "execution_count": 2,
   "metadata": {},
   "outputs": [
    {
     "name": "stdout",
     "output_type": "stream",
     "text": [
      "Qwen2ForCausalLM(\n",
      "  (model): Qwen2Model(\n",
      "    (embed_tokens): Embedding(151936, 1536)\n",
      "    (layers): ModuleList(\n",
      "      (0-27): 28 x Qwen2DecoderLayer(\n",
      "        (self_attn): Qwen2Attention(\n",
      "          (q_proj): Linear(in_features=1536, out_features=1536, bias=True)\n",
      "          (k_proj): Linear(in_features=1536, out_features=256, bias=True)\n",
      "          (v_proj): Linear(in_features=1536, out_features=256, bias=True)\n",
      "          (o_proj): Linear(in_features=1536, out_features=1536, bias=False)\n",
      "        )\n",
      "        (mlp): Qwen2MLP(\n",
      "          (gate_proj): Linear(in_features=1536, out_features=8960, bias=False)\n",
      "          (up_proj): Linear(in_features=1536, out_features=8960, bias=False)\n",
      "          (down_proj): Linear(in_features=8960, out_features=1536, bias=False)\n",
      "          (act_fn): SiLU()\n",
      "        )\n",
      "        (input_layernorm): Qwen2RMSNorm((1536,), eps=1e-06)\n",
      "        (post_attention_layernorm): Qwen2RMSNorm((1536,), eps=1e-06)\n",
      "      )\n",
      "    )\n",
      "    (norm): Qwen2RMSNorm((1536,), eps=1e-06)\n",
      "    (rotary_emb): Qwen2RotaryEmbedding()\n",
      "  )\n",
      "  (lm_head): Linear(in_features=1536, out_features=151936, bias=False)\n",
      "  (generator): Generator(\n",
      "    (streamer): Streamer()\n",
      "  )\n",
      ")\n"
     ]
    }
   ],
   "source": [
    "llm = LanguageModel(\"deepseek-ai/DeepSeek-R1-Distill-Qwen-1.5B\", device_map=\"auto\")\n",
    "print(llm)"
   ]
  },
  {
   "cell_type": "code",
   "execution_count": 3,
   "metadata": {},
   "outputs": [],
   "source": [
    "def rearrange_activations(file_path: str):\n",
    "    out_dict = t.load(file_path)\n",
    "    final_array = t.empty(1)\n",
    "    for i in range(len(llm.model.layers)):\n",
    "        if i == 0:\n",
    "            final_array = t.cat(out_dict[f\"layer_{i}\"], dim=1)\n",
    "        else:\n",
    "            prompt_array = t.cat(out_dict[f\"layer_{i}\"], dim=1)\n",
    "            final_array = t.cat([final_array, prompt_array], dim=0)\n",
    "\n",
    "    final_array = t.cat([final_array[:, 0:1, :], final_array[:, 20:, :]], dim=1)\n",
    "    return final_array"
   ]
  },
  {
   "cell_type": "code",
   "execution_count": 4,
   "metadata": {},
   "outputs": [],
   "source": [
    "def find_first_chinese_token(file_path: str):\n",
    "    # Define a regex pattern for Chinese characters (Unicode range for CJK Unified Ideographs)\n",
    "    chinese_pattern = re.compile(r'[\\u4e00-\\u9fff]+')\n",
    "\n",
    "    # Read the text from the file\n",
    "    with open(file_path, 'r', encoding='utf-8') as file:\n",
    "        text = file.read()\n",
    "\n",
    "    # Tokenize the text\n",
    "    tokens = llm.tokenizer(text)\n",
    "    # Find the first token containing Chinese characters\n",
    "    for idx, token_id in enumerate(tokens[\"input_ids\"]):\n",
    "        if chinese_pattern.search(llm.tokenizer.decode(token_id)):\n",
    "            return llm.tokenizer.decode(token_id), token_id, idx  # Return the first Chinese token found\n",
    "\n",
    "    return None  # Return None if no Chinese token is found"
   ]
  },
  {
   "cell_type": "code",
   "execution_count": 5,
   "metadata": {},
   "outputs": [],
   "source": [
    "# # Assume `activation_probability` is the computed (28, 1536) matrix\n",
    "# plt.figure(figsize=(15, 6))  # Adjust figure size for better visibility\n",
    "\n",
    "# # Plot the heatmap\n",
    "# sns.heatmap(thresholded_tensor.numpy(), cmap=\"jet\", xticklabels=False, yticklabels=True)\n",
    "\n",
    "# # Labels and title\n",
    "# plt.xlabel(\"Neuron Index\")\n",
    "# plt.ylabel(\"Layer Index\")\n",
    "# # plt.title(\"Activation Probability Heatmap (Above 95th Percentile)\")\n",
    "\n",
    "# # Show the plot\n",
    "# plt.show()\n"
   ]
  },
  {
   "cell_type": "code",
   "execution_count": 6,
   "metadata": {},
   "outputs": [],
   "source": [
    "# colorscale = [\n",
    "#     [0.0, \"black\"],  # 0 maps to white\n",
    "#     [1e-10, \"rgb(68, 1, 84)\"],  # Start of Viridis colormap\n",
    "#     [1.0, \"rgb(253, 231, 37)\"]  # End of Viridis colormap\n",
    "# ]\n",
    "\n",
    "# # Step 3: Plot the heatmap\n",
    "# fig = go.Figure(data=go.Heatmap(\n",
    "#     z=(thresholded_tensor.T/thresholded_tensor.T.flatten().max()),\n",
    "#     colorscale=colorscale,\n",
    "#     colorbar=dict(title='Normalized Value'),\n",
    "#     zmin=0,  # Ensure 0 is mapped to white\n",
    "#     zmax=1   # Ensure normalization is respected\n",
    "# ))\n",
    "\n",
    "# # Update layout for better visualization\n",
    "# fig.update_layout(\n",
    "#     title='>95 Percentile Neuron Activations',\n",
    "#     xaxis=dict(title='Layer Number'),\n",
    "#     yaxis=dict(title='Neuron'),\n",
    "#     width=800,\n",
    "#     height=600,\n",
    "#     template=\"plotly_dark\"\n",
    "# )\n",
    "\n",
    "# # Show the plot\n",
    "# fig.show()"
   ]
  },
  {
   "cell_type": "code",
   "execution_count": 7,
   "metadata": {},
   "outputs": [],
   "source": [
    "# num_non_zero = t.count_nonzero(thresholded_tensor)\n",
    "# num_non_zero/(28*1536)"
   ]
  },
  {
   "cell_type": "code",
   "execution_count": 8,
   "metadata": {},
   "outputs": [],
   "source": [
    "def get_activated_neuron_indices(llm: LanguageModel,\n",
    "                                 ans_dir_path: str, \n",
    "                                 act_dir_path: str,\n",
    "                                 k_percentile: float = 0.95):\n",
    "    \n",
    "    ans_dir = os.listdir(ans_dir_path)\n",
    "    act_dir = os.listdir(act_dir_path)\n",
    "    act_dir.sort()\n",
    "    ans_dir.sort()\n",
    "    act_ls = []\n",
    "\n",
    "    for i, act in enumerate(act_dir):\n",
    "        print(f\"File: {i}\")\n",
    "        act_path = os.path.join(act_dir_path, act)\n",
    "        ans_path = os.path.join(ans_dir_path, ans_dir[i])\n",
    "        print(f\"act_path: {act_path}\")\n",
    "        print(f\"ans_path: {ans_path}\")\n",
    "        fa = rearrange_activations(act_path)\n",
    "        ch_token, token_id, token_idx = find_first_chinese_token(ans_path)\n",
    "        print(f\"ch_token: {ch_token}\")\n",
    "        act_ls.append(fa[:, token_idx, :])\n",
    "        \n",
    "    activations = t.stack(act_ls, dim=0)\n",
    "    expected_activations = activations.mean(dim=0)\n",
    "    threshold = t.quantile(expected_activations, k_percentile)\n",
    "    thresholded_tensor = t.where(expected_activations >= threshold, expected_activations, t.tensor(0.0))\n",
    "    return thresholded_tensor"
   ]
  },
  {
   "cell_type": "code",
   "execution_count": 9,
   "metadata": {},
   "outputs": [
    {
     "name": "stdout",
     "output_type": "stream",
     "text": [
      "File: 0\n",
      "act_path: /home/aansh/nnsightusage/Logs/Partitioned_Cached_Runs_1/Activations/Chinese/act_run_1.pth\n",
      "ans_path: /home/aansh/nnsightusage/Logs/Partitioned_Cached_Runs_1/Answers/Chinese/ans_run_1.txt\n",
      "ch_token: 要\n",
      "File: 1\n",
      "act_path: /home/aansh/nnsightusage/Logs/Partitioned_Cached_Runs_1/Activations/Chinese/act_run_16.pth\n",
      "ans_path: /home/aansh/nnsightusage/Logs/Partitioned_Cached_Runs_1/Answers/Chinese/ans_run_16.txt\n",
      "ch_token: 要\n",
      "File: 2\n",
      "act_path: /home/aansh/nnsightusage/Logs/Partitioned_Cached_Runs_1/Activations/Chinese/act_run_21.pth\n",
      "ans_path: /home/aansh/nnsightusage/Logs/Partitioned_Cached_Runs_1/Answers/Chinese/ans_run_21.txt\n",
      "ch_token: 要\n",
      "File: 3\n",
      "act_path: /home/aansh/nnsightusage/Logs/Partitioned_Cached_Runs_1/Activations/Chinese/act_run_23.pth\n",
      "ans_path: /home/aansh/nnsightusage/Logs/Partitioned_Cached_Runs_1/Answers/Chinese/ans_run_23.txt\n",
      "ch_token: 要\n",
      "File: 4\n",
      "act_path: /home/aansh/nnsightusage/Logs/Partitioned_Cached_Runs_1/Activations/Chinese/act_run_24.pth\n",
      "ans_path: /home/aansh/nnsightusage/Logs/Partitioned_Cached_Runs_1/Answers/Chinese/ans_run_24.txt\n",
      "ch_token: 要\n",
      "File: 5\n",
      "act_path: /home/aansh/nnsightusage/Logs/Partitioned_Cached_Runs_1/Activations/Chinese/act_run_32.pth\n",
      "ans_path: /home/aansh/nnsightusage/Logs/Partitioned_Cached_Runs_1/Answers/Chinese/ans_run_32.txt\n",
      "ch_token: 要\n",
      "File: 6\n",
      "act_path: /home/aansh/nnsightusage/Logs/Partitioned_Cached_Runs_1/Activations/Chinese/act_run_4.pth\n",
      "ans_path: /home/aansh/nnsightusage/Logs/Partitioned_Cached_Runs_1/Answers/Chinese/ans_run_4.txt\n",
      "ch_token: 要\n",
      "File: 7\n",
      "act_path: /home/aansh/nnsightusage/Logs/Partitioned_Cached_Runs_1/Activations/Chinese/act_run_51.pth\n",
      "ans_path: /home/aansh/nnsightusage/Logs/Partitioned_Cached_Runs_1/Answers/Chinese/ans_run_51.txt\n",
      "ch_token: 好\n",
      "File: 8\n",
      "act_path: /home/aansh/nnsightusage/Logs/Partitioned_Cached_Runs_1/Activations/Chinese/act_run_57.pth\n",
      "ans_path: /home/aansh/nnsightusage/Logs/Partitioned_Cached_Runs_1/Answers/Chinese/ans_run_57.txt\n",
      "ch_token: 要\n",
      "File: 9\n",
      "act_path: /home/aansh/nnsightusage/Logs/Partitioned_Cached_Runs_1/Activations/Chinese/act_run_68.pth\n",
      "ans_path: /home/aansh/nnsightusage/Logs/Partitioned_Cached_Runs_1/Answers/Chinese/ans_run_68.txt\n",
      "ch_token: 要\n",
      "File: 10\n",
      "act_path: /home/aansh/nnsightusage/Logs/Partitioned_Cached_Runs_1/Activations/Chinese/act_run_76.pth\n",
      "ans_path: /home/aansh/nnsightusage/Logs/Partitioned_Cached_Runs_1/Answers/Chinese/ans_run_76.txt\n",
      "ch_token: 好的\n",
      "File: 11\n",
      "act_path: /home/aansh/nnsightusage/Logs/Partitioned_Cached_Runs_1/Activations/Chinese/act_run_78.pth\n",
      "ans_path: /home/aansh/nnsightusage/Logs/Partitioned_Cached_Runs_1/Answers/Chinese/ans_run_78.txt\n",
      "ch_token: 好吧\n",
      "File: 12\n",
      "act_path: /home/aansh/nnsightusage/Logs/Partitioned_Cached_Runs_1/Activations/Chinese/act_run_84.pth\n",
      "ans_path: /home/aansh/nnsightusage/Logs/Partitioned_Cached_Runs_1/Answers/Chinese/ans_run_84.txt\n",
      "ch_token: 要\n",
      "File: 13\n",
      "act_path: /home/aansh/nnsightusage/Logs/Partitioned_Cached_Runs_1/Activations/Chinese/act_run_95.pth\n",
      "ans_path: /home/aansh/nnsightusage/Logs/Partitioned_Cached_Runs_1/Answers/Chinese/ans_run_95.txt\n",
      "ch_token: 好的\n"
     ]
    }
   ],
   "source": [
    "ans_dir_path = \"/home/aansh/nnsightusage/Logs/Partitioned_Cached_Runs_1/Answers/Chinese\"\n",
    "act_dir_path = \"/home/aansh/nnsightusage/Logs/Partitioned_Cached_Runs_1/Activations/Chinese\"\n",
    "activationss = get_activated_neuron_indices(llm, ans_dir_path, act_dir_path, k_percentile=0.99)"
   ]
  },
  {
   "cell_type": "code",
   "execution_count": 10,
   "metadata": {},
   "outputs": [],
   "source": [
    "# import pandas as pd\n",
    "\n",
    "# import plotly.express as px\n",
    "\n",
    "# # Convert the activations tensor to a DataFrame for easier plotting\n",
    "# activations_np = activationss.numpy()\n",
    "# num_layers, num_neurons = activations_np.shape\n",
    "\n",
    "# # Create a DataFrame with layer, neuron index, and activation value\n",
    "# data = {\n",
    "#     'Layer': [],\n",
    "#     'Neuron': [],\n",
    "#     'Activation': []\n",
    "# }\n",
    "\n",
    "# for layer in range(num_layers):\n",
    "#     for neuron in range(num_neurons):\n",
    "#         data['Layer'].append(layer)\n",
    "#         data['Neuron'].append(neuron)\n",
    "#         data['Activation'].append(activations_np[layer, neuron])\n",
    "\n",
    "# df = pd.DataFrame(data)\n",
    "\n",
    "# # Filter out zero activations for better visualization\n",
    "# df = df[df['Activation'] > 0]\n",
    "\n",
    "# # # Create the scatter plot\n",
    "# # fig = px.scatter(df, x='Neuron', y='Layer', size='Activation', color='Activation',\n",
    "# #                  color_continuous_scale='Viridis', title='Active Neurons in LLM',\n",
    "# #                  labels={'Neuron': 'Neuron Index', 'Layer': 'Layer Index', 'Activation': 'Activation Value'})\n",
    "\n",
    "# # # Update layout for better visualization\n",
    "# # fig.update_layout(height=800, width=1200)\n",
    "# # Create the scatter plot with Layer on the x-axis\n",
    "\n",
    "# fig = px.scatter(df, x='Layer', y='Neuron', size='Activation', color='Activation',\n",
    "#                  color_continuous_scale='Viridis', title='Active Neurons in LLM',\n",
    "#                  labels={'Neuron': 'Neuron Index', 'Layer': 'Layer Index', 'Activation': 'Activation Value'})\n",
    "\n",
    "# # Update layout for better visualization\n",
    "# fig.update_layout(height=500, width=1000)\n",
    "# fig.show()\n",
    "\n",
    "# # Customizing the scatter plot with additional features\n",
    "\n"
   ]
  },
  {
   "cell_type": "code",
   "execution_count": 11,
   "metadata": {},
   "outputs": [],
   "source": [
    "# import plotly.graph_objects as go\n",
    "\n",
    "# # Create a list of dropdown options for each layer\n",
    "# dropdown_buttons = [\n",
    "#     {\n",
    "#         'label': f'Layer {i}',\n",
    "#         'method': 'update',\n",
    "#         'args': [{'visible': [j == i for j in range(num_layers)]},\n",
    "#                  {'title': f'Active Neurons in Layer {i}'}]\n",
    "#     }\n",
    "#     for i in range(num_layers)\n",
    "# ]\n",
    "\n",
    "# # Create a list of traces, one for each layer\n",
    "# traces = []\n",
    "# for i in range(num_layers):\n",
    "#     layer_df = df[df['Layer'] == i]\n",
    "#     trace = go.Scatter(\n",
    "#         x=layer_df['Neuron'],\n",
    "#         y=layer_df['Activation'],\n",
    "#         mode='markers',\n",
    "#         marker=dict(size=layer_df['Activation'], color=layer_df['Activation'], colorscale='Viridis'),\n",
    "#         name=f'Layer {i}',\n",
    "#         visible=(i == 0)  # Only the first layer is visible initially\n",
    "#     )\n",
    "#     traces.append(trace)\n",
    "\n",
    "# # Create the figure with the traces and add the dropdown menu\n",
    "# fig = go.Figure(data=traces)\n",
    "# fig.update_layout(\n",
    "#     updatemenus=[{\n",
    "#         'buttons': dropdown_buttons,\n",
    "#         'direction': 'down',\n",
    "#         'showactive': True,\n",
    "#     }],\n",
    "#     title='Active Neurons in Layer 0',\n",
    "#     xaxis_title='Neuron Index',\n",
    "#     yaxis_title='Activation Value',\n",
    "#     height=500,\n",
    "#     width=1000\n",
    "# )\n",
    "\n",
    "# fig.show()"
   ]
  },
  {
   "cell_type": "code",
   "execution_count": 12,
   "metadata": {},
   "outputs": [],
   "source": [
    "def save_text_to_file(text: dict,\n",
    "                      filename:str,\n",
    "                      dir_path: str):\n",
    "    \n",
    "    os.makedirs(dir_path, exist_ok=True)  \n",
    "    file_path = os.path.join(dir_path, filename)  \n",
    "    with open(file_path, \"w\", encoding=\"utf-8\") as file:\n",
    "        file.write(text)\n",
    "    print(f\"File saved at: {file_path}\")\n",
    "    \n",
    "def save_acts_to_file(hidden_states: dict,\n",
    "                      filename: str,\n",
    "                      dir_path: str):\n",
    "\n",
    "    os.makedirs(dir_path, exist_ok=True)\n",
    "    file_path = os.path.join(dir_path, filename)\n",
    "    t.save(hidden_states, file_path)\n",
    "    print(f\"File saved at: {file_path}\")\n",
    "    "
   ]
  },
  {
   "cell_type": "code",
   "execution_count": 13,
   "metadata": {},
   "outputs": [],
   "source": [
    "prompt = \"\"\"\n",
    "Prove that the sum of first n odd natural numbers is equal to n^2.\n",
    "\"\"\""
   ]
  },
  {
   "cell_type": "code",
   "execution_count": 14,
   "metadata": {},
   "outputs": [],
   "source": [
    "def generate_output(llm: LanguageModel,\n",
    "                    prompt:str,\n",
    "                    append_eos_token: bool = True,\n",
    "                    n_new_tokens:int = 200,\n",
    "                    temperature: float = 1,\n",
    "                    print_ans: bool = True,\n",
    "                    save_ans: bool = False, \n",
    "                    ans_filename: str = \"ans.txt\",\n",
    "                    ans_dir_path: str = \"/home/aansh/nnsightusage/Logs/Patched_Runs_1/Answers\",\n",
    "                    save_activations: bool = False,\n",
    "                    act_filename: str = \"acts.pth\",\n",
    "                    act_dir_path: str = \"/home/aansh/nnsightusage/Logs/Patched_Runs_1/Activations\", \n",
    "                    thresholded_tensor: t.Tensor = None):\n",
    "    \n",
    "    if append_eos_token:\n",
    "        prompt += llm.tokenizer.eos_token\n",
    "    \n",
    "    with llm.generate(prompt, max_new_tokens=n_new_tokens, temperature=temperature) as tracer:\n",
    "        hidden_states = nnsight.dict().save()\n",
    "        for i in range(len(llm.model.layers)):\n",
    "            hidden_states[f\"layer_{i}\"] = []\n",
    "        llm.model.layers.all()\n",
    "        nz_x = t.nonzero(thresholded_tensor)\n",
    "        nz_x = [(nz[0].item(), nz[1].item()) for nz in nz_x]\n",
    "        for i in range(len(llm.model.layers)):\n",
    "            for j in range(1536):\n",
    "                if (i, j) in nz_x:\n",
    "                    llm.model.layers[i].mlp.output[:, -1, j] = thresholded_tensor[i, j]\n",
    "                \n",
    "        for i in range(len(llm.model.layers)):\n",
    "            hidden_states[f\"layer_{i}\"].append(llm.model.layers[i].mlp.output.cpu())\n",
    "        out = llm.generator.output.cpu().save()\n",
    "        \n",
    "    decoded_prompt = llm.tokenizer.decode(out[0][0:50])\n",
    "    decoded_answer = llm.tokenizer.decode(out[0][-n_new_tokens:])\n",
    "    \n",
    "    if print_ans:\n",
    "        print(f\"Prompt: {decoded_prompt}\")\n",
    "        print(f\"Generated Answer: {decoded_answer}\")\n",
    "        \n",
    "    if save_ans:\n",
    "        save_text_to_file(decoded_answer, ans_filename, ans_dir_path)\n",
    "        \n",
    "    if save_activations:\n",
    "        save_acts_to_file(hidden_states, act_filename, act_dir_path)"
   ]
  },
  {
   "cell_type": "code",
   "execution_count": 15,
   "metadata": {},
   "outputs": [
    {
     "name": "stderr",
     "output_type": "stream",
     "text": [
      "Setting `pad_token_id` to `eos_token_id`:151643 for open-end generation.\n"
     ]
    },
    {
     "name": "stdout",
     "output_type": "stream",
     "text": [
      "File saved at: /home/aansh/nnsightusage/Logs/Patched_Runs_1/Answers/ans_run_4.txt\n",
      "File saved at: /home/aansh/nnsightusage/Logs/Patched_Runs_1/Activations/act_run_4.pth\n"
     ]
    },
    {
     "name": "stderr",
     "output_type": "stream",
     "text": [
      "Setting `pad_token_id` to `eos_token_id`:151643 for open-end generation.\n"
     ]
    },
    {
     "name": "stdout",
     "output_type": "stream",
     "text": [
      "File saved at: /home/aansh/nnsightusage/Logs/Patched_Runs_1/Answers/ans_run_5.txt\n",
      "File saved at: /home/aansh/nnsightusage/Logs/Patched_Runs_1/Activations/act_run_5.pth\n"
     ]
    },
    {
     "name": "stderr",
     "output_type": "stream",
     "text": [
      "Setting `pad_token_id` to `eos_token_id`:151643 for open-end generation.\n"
     ]
    },
    {
     "name": "stdout",
     "output_type": "stream",
     "text": [
      "File saved at: /home/aansh/nnsightusage/Logs/Patched_Runs_1/Answers/ans_run_6.txt\n",
      "File saved at: /home/aansh/nnsightusage/Logs/Patched_Runs_1/Activations/act_run_6.pth\n"
     ]
    },
    {
     "name": "stderr",
     "output_type": "stream",
     "text": [
      "Setting `pad_token_id` to `eos_token_id`:151643 for open-end generation.\n"
     ]
    },
    {
     "name": "stdout",
     "output_type": "stream",
     "text": [
      "File saved at: /home/aansh/nnsightusage/Logs/Patched_Runs_1/Answers/ans_run_7.txt\n",
      "File saved at: /home/aansh/nnsightusage/Logs/Patched_Runs_1/Activations/act_run_7.pth\n"
     ]
    },
    {
     "name": "stderr",
     "output_type": "stream",
     "text": [
      "Setting `pad_token_id` to `eos_token_id`:151643 for open-end generation.\n"
     ]
    },
    {
     "name": "stdout",
     "output_type": "stream",
     "text": [
      "File saved at: /home/aansh/nnsightusage/Logs/Patched_Runs_1/Answers/ans_run_8.txt\n",
      "File saved at: /home/aansh/nnsightusage/Logs/Patched_Runs_1/Activations/act_run_8.pth\n"
     ]
    },
    {
     "name": "stderr",
     "output_type": "stream",
     "text": [
      "Setting `pad_token_id` to `eos_token_id`:151643 for open-end generation.\n"
     ]
    },
    {
     "name": "stdout",
     "output_type": "stream",
     "text": [
      "File saved at: /home/aansh/nnsightusage/Logs/Patched_Runs_1/Answers/ans_run_9.txt\n",
      "File saved at: /home/aansh/nnsightusage/Logs/Patched_Runs_1/Activations/act_run_9.pth\n"
     ]
    },
    {
     "name": "stderr",
     "output_type": "stream",
     "text": [
      "Setting `pad_token_id` to `eos_token_id`:151643 for open-end generation.\n"
     ]
    },
    {
     "name": "stdout",
     "output_type": "stream",
     "text": [
      "File saved at: /home/aansh/nnsightusage/Logs/Patched_Runs_1/Answers/ans_run_10.txt\n",
      "File saved at: /home/aansh/nnsightusage/Logs/Patched_Runs_1/Activations/act_run_10.pth\n"
     ]
    },
    {
     "name": "stderr",
     "output_type": "stream",
     "text": [
      "Setting `pad_token_id` to `eos_token_id`:151643 for open-end generation.\n"
     ]
    },
    {
     "name": "stdout",
     "output_type": "stream",
     "text": [
      "File saved at: /home/aansh/nnsightusage/Logs/Patched_Runs_1/Answers/ans_run_11.txt\n",
      "File saved at: /home/aansh/nnsightusage/Logs/Patched_Runs_1/Activations/act_run_11.pth\n"
     ]
    },
    {
     "name": "stderr",
     "output_type": "stream",
     "text": [
      "Setting `pad_token_id` to `eos_token_id`:151643 for open-end generation.\n"
     ]
    },
    {
     "name": "stdout",
     "output_type": "stream",
     "text": [
      "File saved at: /home/aansh/nnsightusage/Logs/Patched_Runs_1/Answers/ans_run_12.txt\n",
      "File saved at: /home/aansh/nnsightusage/Logs/Patched_Runs_1/Activations/act_run_12.pth\n"
     ]
    },
    {
     "name": "stderr",
     "output_type": "stream",
     "text": [
      "Setting `pad_token_id` to `eos_token_id`:151643 for open-end generation.\n"
     ]
    },
    {
     "name": "stdout",
     "output_type": "stream",
     "text": [
      "File saved at: /home/aansh/nnsightusage/Logs/Patched_Runs_1/Answers/ans_run_13.txt\n",
      "File saved at: /home/aansh/nnsightusage/Logs/Patched_Runs_1/Activations/act_run_13.pth\n"
     ]
    },
    {
     "name": "stderr",
     "output_type": "stream",
     "text": [
      "Setting `pad_token_id` to `eos_token_id`:151643 for open-end generation.\n"
     ]
    },
    {
     "name": "stdout",
     "output_type": "stream",
     "text": [
      "File saved at: /home/aansh/nnsightusage/Logs/Patched_Runs_1/Answers/ans_run_14.txt\n",
      "File saved at: /home/aansh/nnsightusage/Logs/Patched_Runs_1/Activations/act_run_14.pth\n"
     ]
    },
    {
     "name": "stderr",
     "output_type": "stream",
     "text": [
      "Setting `pad_token_id` to `eos_token_id`:151643 for open-end generation.\n"
     ]
    },
    {
     "name": "stdout",
     "output_type": "stream",
     "text": [
      "File saved at: /home/aansh/nnsightusage/Logs/Patched_Runs_1/Answers/ans_run_15.txt\n",
      "File saved at: /home/aansh/nnsightusage/Logs/Patched_Runs_1/Activations/act_run_15.pth\n"
     ]
    },
    {
     "name": "stderr",
     "output_type": "stream",
     "text": [
      "Setting `pad_token_id` to `eos_token_id`:151643 for open-end generation.\n"
     ]
    },
    {
     "name": "stdout",
     "output_type": "stream",
     "text": [
      "File saved at: /home/aansh/nnsightusage/Logs/Patched_Runs_1/Answers/ans_run_16.txt\n",
      "File saved at: /home/aansh/nnsightusage/Logs/Patched_Runs_1/Activations/act_run_16.pth\n"
     ]
    },
    {
     "name": "stderr",
     "output_type": "stream",
     "text": [
      "Setting `pad_token_id` to `eos_token_id`:151643 for open-end generation.\n"
     ]
    },
    {
     "name": "stdout",
     "output_type": "stream",
     "text": [
      "File saved at: /home/aansh/nnsightusage/Logs/Patched_Runs_1/Answers/ans_run_17.txt\n",
      "File saved at: /home/aansh/nnsightusage/Logs/Patched_Runs_1/Activations/act_run_17.pth\n"
     ]
    },
    {
     "name": "stderr",
     "output_type": "stream",
     "text": [
      "Setting `pad_token_id` to `eos_token_id`:151643 for open-end generation.\n"
     ]
    },
    {
     "name": "stdout",
     "output_type": "stream",
     "text": [
      "File saved at: /home/aansh/nnsightusage/Logs/Patched_Runs_1/Answers/ans_run_18.txt\n",
      "File saved at: /home/aansh/nnsightusage/Logs/Patched_Runs_1/Activations/act_run_18.pth\n"
     ]
    },
    {
     "name": "stderr",
     "output_type": "stream",
     "text": [
      "Setting `pad_token_id` to `eos_token_id`:151643 for open-end generation.\n"
     ]
    },
    {
     "name": "stdout",
     "output_type": "stream",
     "text": [
      "File saved at: /home/aansh/nnsightusage/Logs/Patched_Runs_1/Answers/ans_run_19.txt\n",
      "File saved at: /home/aansh/nnsightusage/Logs/Patched_Runs_1/Activations/act_run_19.pth\n"
     ]
    },
    {
     "name": "stderr",
     "output_type": "stream",
     "text": [
      "Setting `pad_token_id` to `eos_token_id`:151643 for open-end generation.\n"
     ]
    },
    {
     "name": "stdout",
     "output_type": "stream",
     "text": [
      "File saved at: /home/aansh/nnsightusage/Logs/Patched_Runs_1/Answers/ans_run_20.txt\n",
      "File saved at: /home/aansh/nnsightusage/Logs/Patched_Runs_1/Activations/act_run_20.pth\n"
     ]
    },
    {
     "name": "stderr",
     "output_type": "stream",
     "text": [
      "Setting `pad_token_id` to `eos_token_id`:151643 for open-end generation.\n"
     ]
    },
    {
     "name": "stdout",
     "output_type": "stream",
     "text": [
      "File saved at: /home/aansh/nnsightusage/Logs/Patched_Runs_1/Answers/ans_run_21.txt\n",
      "File saved at: /home/aansh/nnsightusage/Logs/Patched_Runs_1/Activations/act_run_21.pth\n"
     ]
    },
    {
     "name": "stderr",
     "output_type": "stream",
     "text": [
      "Setting `pad_token_id` to `eos_token_id`:151643 for open-end generation.\n"
     ]
    },
    {
     "name": "stdout",
     "output_type": "stream",
     "text": [
      "File saved at: /home/aansh/nnsightusage/Logs/Patched_Runs_1/Answers/ans_run_22.txt\n",
      "File saved at: /home/aansh/nnsightusage/Logs/Patched_Runs_1/Activations/act_run_22.pth\n"
     ]
    },
    {
     "name": "stderr",
     "output_type": "stream",
     "text": [
      "Setting `pad_token_id` to `eos_token_id`:151643 for open-end generation.\n"
     ]
    },
    {
     "name": "stdout",
     "output_type": "stream",
     "text": [
      "File saved at: /home/aansh/nnsightusage/Logs/Patched_Runs_1/Answers/ans_run_23.txt\n",
      "File saved at: /home/aansh/nnsightusage/Logs/Patched_Runs_1/Activations/act_run_23.pth\n"
     ]
    },
    {
     "name": "stderr",
     "output_type": "stream",
     "text": [
      "Setting `pad_token_id` to `eos_token_id`:151643 for open-end generation.\n"
     ]
    },
    {
     "name": "stdout",
     "output_type": "stream",
     "text": [
      "File saved at: /home/aansh/nnsightusage/Logs/Patched_Runs_1/Answers/ans_run_24.txt\n",
      "File saved at: /home/aansh/nnsightusage/Logs/Patched_Runs_1/Activations/act_run_24.pth\n"
     ]
    },
    {
     "name": "stderr",
     "output_type": "stream",
     "text": [
      "Setting `pad_token_id` to `eos_token_id`:151643 for open-end generation.\n"
     ]
    },
    {
     "name": "stdout",
     "output_type": "stream",
     "text": [
      "File saved at: /home/aansh/nnsightusage/Logs/Patched_Runs_1/Answers/ans_run_25.txt\n",
      "File saved at: /home/aansh/nnsightusage/Logs/Patched_Runs_1/Activations/act_run_25.pth\n"
     ]
    },
    {
     "name": "stderr",
     "output_type": "stream",
     "text": [
      "Setting `pad_token_id` to `eos_token_id`:151643 for open-end generation.\n"
     ]
    },
    {
     "name": "stdout",
     "output_type": "stream",
     "text": [
      "File saved at: /home/aansh/nnsightusage/Logs/Patched_Runs_1/Answers/ans_run_26.txt\n",
      "File saved at: /home/aansh/nnsightusage/Logs/Patched_Runs_1/Activations/act_run_26.pth\n"
     ]
    },
    {
     "name": "stderr",
     "output_type": "stream",
     "text": [
      "Setting `pad_token_id` to `eos_token_id`:151643 for open-end generation.\n"
     ]
    },
    {
     "name": "stdout",
     "output_type": "stream",
     "text": [
      "File saved at: /home/aansh/nnsightusage/Logs/Patched_Runs_1/Answers/ans_run_27.txt\n",
      "File saved at: /home/aansh/nnsightusage/Logs/Patched_Runs_1/Activations/act_run_27.pth\n"
     ]
    },
    {
     "name": "stderr",
     "output_type": "stream",
     "text": [
      "Setting `pad_token_id` to `eos_token_id`:151643 for open-end generation.\n"
     ]
    },
    {
     "name": "stdout",
     "output_type": "stream",
     "text": [
      "File saved at: /home/aansh/nnsightusage/Logs/Patched_Runs_1/Answers/ans_run_28.txt\n",
      "File saved at: /home/aansh/nnsightusage/Logs/Patched_Runs_1/Activations/act_run_28.pth\n"
     ]
    },
    {
     "name": "stderr",
     "output_type": "stream",
     "text": [
      "Setting `pad_token_id` to `eos_token_id`:151643 for open-end generation.\n"
     ]
    },
    {
     "name": "stdout",
     "output_type": "stream",
     "text": [
      "File saved at: /home/aansh/nnsightusage/Logs/Patched_Runs_1/Answers/ans_run_29.txt\n",
      "File saved at: /home/aansh/nnsightusage/Logs/Patched_Runs_1/Activations/act_run_29.pth\n"
     ]
    },
    {
     "name": "stderr",
     "output_type": "stream",
     "text": [
      "Setting `pad_token_id` to `eos_token_id`:151643 for open-end generation.\n"
     ]
    },
    {
     "name": "stdout",
     "output_type": "stream",
     "text": [
      "File saved at: /home/aansh/nnsightusage/Logs/Patched_Runs_1/Answers/ans_run_30.txt\n",
      "File saved at: /home/aansh/nnsightusage/Logs/Patched_Runs_1/Activations/act_run_30.pth\n"
     ]
    },
    {
     "name": "stderr",
     "output_type": "stream",
     "text": [
      "Setting `pad_token_id` to `eos_token_id`:151643 for open-end generation.\n"
     ]
    },
    {
     "name": "stdout",
     "output_type": "stream",
     "text": [
      "File saved at: /home/aansh/nnsightusage/Logs/Patched_Runs_1/Answers/ans_run_31.txt\n",
      "File saved at: /home/aansh/nnsightusage/Logs/Patched_Runs_1/Activations/act_run_31.pth\n"
     ]
    },
    {
     "name": "stderr",
     "output_type": "stream",
     "text": [
      "Setting `pad_token_id` to `eos_token_id`:151643 for open-end generation.\n"
     ]
    },
    {
     "name": "stdout",
     "output_type": "stream",
     "text": [
      "File saved at: /home/aansh/nnsightusage/Logs/Patched_Runs_1/Answers/ans_run_32.txt\n",
      "File saved at: /home/aansh/nnsightusage/Logs/Patched_Runs_1/Activations/act_run_32.pth\n"
     ]
    },
    {
     "name": "stderr",
     "output_type": "stream",
     "text": [
      "Setting `pad_token_id` to `eos_token_id`:151643 for open-end generation.\n"
     ]
    },
    {
     "name": "stdout",
     "output_type": "stream",
     "text": [
      "File saved at: /home/aansh/nnsightusage/Logs/Patched_Runs_1/Answers/ans_run_33.txt\n",
      "File saved at: /home/aansh/nnsightusage/Logs/Patched_Runs_1/Activations/act_run_33.pth\n"
     ]
    },
    {
     "name": "stderr",
     "output_type": "stream",
     "text": [
      "Setting `pad_token_id` to `eos_token_id`:151643 for open-end generation.\n"
     ]
    },
    {
     "name": "stdout",
     "output_type": "stream",
     "text": [
      "File saved at: /home/aansh/nnsightusage/Logs/Patched_Runs_1/Answers/ans_run_34.txt\n",
      "File saved at: /home/aansh/nnsightusage/Logs/Patched_Runs_1/Activations/act_run_34.pth\n"
     ]
    },
    {
     "name": "stderr",
     "output_type": "stream",
     "text": [
      "Setting `pad_token_id` to `eos_token_id`:151643 for open-end generation.\n"
     ]
    },
    {
     "name": "stdout",
     "output_type": "stream",
     "text": [
      "File saved at: /home/aansh/nnsightusage/Logs/Patched_Runs_1/Answers/ans_run_35.txt\n",
      "File saved at: /home/aansh/nnsightusage/Logs/Patched_Runs_1/Activations/act_run_35.pth\n"
     ]
    },
    {
     "name": "stderr",
     "output_type": "stream",
     "text": [
      "Setting `pad_token_id` to `eos_token_id`:151643 for open-end generation.\n"
     ]
    },
    {
     "name": "stdout",
     "output_type": "stream",
     "text": [
      "File saved at: /home/aansh/nnsightusage/Logs/Patched_Runs_1/Answers/ans_run_36.txt\n",
      "File saved at: /home/aansh/nnsightusage/Logs/Patched_Runs_1/Activations/act_run_36.pth\n"
     ]
    },
    {
     "name": "stderr",
     "output_type": "stream",
     "text": [
      "Setting `pad_token_id` to `eos_token_id`:151643 for open-end generation.\n"
     ]
    },
    {
     "name": "stdout",
     "output_type": "stream",
     "text": [
      "File saved at: /home/aansh/nnsightusage/Logs/Patched_Runs_1/Answers/ans_run_37.txt\n",
      "File saved at: /home/aansh/nnsightusage/Logs/Patched_Runs_1/Activations/act_run_37.pth\n"
     ]
    },
    {
     "name": "stderr",
     "output_type": "stream",
     "text": [
      "Setting `pad_token_id` to `eos_token_id`:151643 for open-end generation.\n"
     ]
    },
    {
     "name": "stdout",
     "output_type": "stream",
     "text": [
      "File saved at: /home/aansh/nnsightusage/Logs/Patched_Runs_1/Answers/ans_run_38.txt\n",
      "File saved at: /home/aansh/nnsightusage/Logs/Patched_Runs_1/Activations/act_run_38.pth\n"
     ]
    },
    {
     "name": "stderr",
     "output_type": "stream",
     "text": [
      "Setting `pad_token_id` to `eos_token_id`:151643 for open-end generation.\n"
     ]
    },
    {
     "name": "stdout",
     "output_type": "stream",
     "text": [
      "File saved at: /home/aansh/nnsightusage/Logs/Patched_Runs_1/Answers/ans_run_39.txt\n",
      "File saved at: /home/aansh/nnsightusage/Logs/Patched_Runs_1/Activations/act_run_39.pth\n"
     ]
    },
    {
     "name": "stderr",
     "output_type": "stream",
     "text": [
      "Setting `pad_token_id` to `eos_token_id`:151643 for open-end generation.\n"
     ]
    },
    {
     "name": "stdout",
     "output_type": "stream",
     "text": [
      "File saved at: /home/aansh/nnsightusage/Logs/Patched_Runs_1/Answers/ans_run_40.txt\n",
      "File saved at: /home/aansh/nnsightusage/Logs/Patched_Runs_1/Activations/act_run_40.pth\n"
     ]
    },
    {
     "name": "stderr",
     "output_type": "stream",
     "text": [
      "Setting `pad_token_id` to `eos_token_id`:151643 for open-end generation.\n"
     ]
    },
    {
     "name": "stdout",
     "output_type": "stream",
     "text": [
      "File saved at: /home/aansh/nnsightusage/Logs/Patched_Runs_1/Answers/ans_run_41.txt\n",
      "File saved at: /home/aansh/nnsightusage/Logs/Patched_Runs_1/Activations/act_run_41.pth\n"
     ]
    },
    {
     "name": "stderr",
     "output_type": "stream",
     "text": [
      "Setting `pad_token_id` to `eos_token_id`:151643 for open-end generation.\n"
     ]
    },
    {
     "name": "stdout",
     "output_type": "stream",
     "text": [
      "File saved at: /home/aansh/nnsightusage/Logs/Patched_Runs_1/Answers/ans_run_42.txt\n",
      "File saved at: /home/aansh/nnsightusage/Logs/Patched_Runs_1/Activations/act_run_42.pth\n"
     ]
    },
    {
     "name": "stderr",
     "output_type": "stream",
     "text": [
      "Setting `pad_token_id` to `eos_token_id`:151643 for open-end generation.\n"
     ]
    },
    {
     "name": "stdout",
     "output_type": "stream",
     "text": [
      "File saved at: /home/aansh/nnsightusage/Logs/Patched_Runs_1/Answers/ans_run_43.txt\n",
      "File saved at: /home/aansh/nnsightusage/Logs/Patched_Runs_1/Activations/act_run_43.pth\n"
     ]
    },
    {
     "name": "stderr",
     "output_type": "stream",
     "text": [
      "Setting `pad_token_id` to `eos_token_id`:151643 for open-end generation.\n"
     ]
    },
    {
     "name": "stdout",
     "output_type": "stream",
     "text": [
      "File saved at: /home/aansh/nnsightusage/Logs/Patched_Runs_1/Answers/ans_run_44.txt\n",
      "File saved at: /home/aansh/nnsightusage/Logs/Patched_Runs_1/Activations/act_run_44.pth\n"
     ]
    },
    {
     "name": "stderr",
     "output_type": "stream",
     "text": [
      "Setting `pad_token_id` to `eos_token_id`:151643 for open-end generation.\n"
     ]
    },
    {
     "name": "stdout",
     "output_type": "stream",
     "text": [
      "File saved at: /home/aansh/nnsightusage/Logs/Patched_Runs_1/Answers/ans_run_45.txt\n",
      "File saved at: /home/aansh/nnsightusage/Logs/Patched_Runs_1/Activations/act_run_45.pth\n"
     ]
    },
    {
     "name": "stderr",
     "output_type": "stream",
     "text": [
      "Setting `pad_token_id` to `eos_token_id`:151643 for open-end generation.\n"
     ]
    },
    {
     "name": "stdout",
     "output_type": "stream",
     "text": [
      "File saved at: /home/aansh/nnsightusage/Logs/Patched_Runs_1/Answers/ans_run_46.txt\n",
      "File saved at: /home/aansh/nnsightusage/Logs/Patched_Runs_1/Activations/act_run_46.pth\n"
     ]
    },
    {
     "name": "stderr",
     "output_type": "stream",
     "text": [
      "Setting `pad_token_id` to `eos_token_id`:151643 for open-end generation.\n"
     ]
    },
    {
     "name": "stdout",
     "output_type": "stream",
     "text": [
      "File saved at: /home/aansh/nnsightusage/Logs/Patched_Runs_1/Answers/ans_run_47.txt\n",
      "File saved at: /home/aansh/nnsightusage/Logs/Patched_Runs_1/Activations/act_run_47.pth\n"
     ]
    },
    {
     "name": "stderr",
     "output_type": "stream",
     "text": [
      "Setting `pad_token_id` to `eos_token_id`:151643 for open-end generation.\n"
     ]
    },
    {
     "name": "stdout",
     "output_type": "stream",
     "text": [
      "File saved at: /home/aansh/nnsightusage/Logs/Patched_Runs_1/Answers/ans_run_48.txt\n",
      "File saved at: /home/aansh/nnsightusage/Logs/Patched_Runs_1/Activations/act_run_48.pth\n"
     ]
    },
    {
     "name": "stderr",
     "output_type": "stream",
     "text": [
      "Setting `pad_token_id` to `eos_token_id`:151643 for open-end generation.\n"
     ]
    },
    {
     "name": "stdout",
     "output_type": "stream",
     "text": [
      "File saved at: /home/aansh/nnsightusage/Logs/Patched_Runs_1/Answers/ans_run_49.txt\n",
      "File saved at: /home/aansh/nnsightusage/Logs/Patched_Runs_1/Activations/act_run_49.pth\n"
     ]
    },
    {
     "name": "stderr",
     "output_type": "stream",
     "text": [
      "Setting `pad_token_id` to `eos_token_id`:151643 for open-end generation.\n"
     ]
    },
    {
     "name": "stdout",
     "output_type": "stream",
     "text": [
      "File saved at: /home/aansh/nnsightusage/Logs/Patched_Runs_1/Answers/ans_run_50.txt\n",
      "File saved at: /home/aansh/nnsightusage/Logs/Patched_Runs_1/Activations/act_run_50.pth\n"
     ]
    },
    {
     "name": "stderr",
     "output_type": "stream",
     "text": [
      "Setting `pad_token_id` to `eos_token_id`:151643 for open-end generation.\n"
     ]
    },
    {
     "name": "stdout",
     "output_type": "stream",
     "text": [
      "File saved at: /home/aansh/nnsightusage/Logs/Patched_Runs_1/Answers/ans_run_51.txt\n",
      "File saved at: /home/aansh/nnsightusage/Logs/Patched_Runs_1/Activations/act_run_51.pth\n"
     ]
    },
    {
     "name": "stderr",
     "output_type": "stream",
     "text": [
      "Setting `pad_token_id` to `eos_token_id`:151643 for open-end generation.\n"
     ]
    },
    {
     "name": "stdout",
     "output_type": "stream",
     "text": [
      "File saved at: /home/aansh/nnsightusage/Logs/Patched_Runs_1/Answers/ans_run_52.txt\n",
      "File saved at: /home/aansh/nnsightusage/Logs/Patched_Runs_1/Activations/act_run_52.pth\n"
     ]
    },
    {
     "name": "stderr",
     "output_type": "stream",
     "text": [
      "Setting `pad_token_id` to `eos_token_id`:151643 for open-end generation.\n"
     ]
    },
    {
     "name": "stdout",
     "output_type": "stream",
     "text": [
      "File saved at: /home/aansh/nnsightusage/Logs/Patched_Runs_1/Answers/ans_run_53.txt\n",
      "File saved at: /home/aansh/nnsightusage/Logs/Patched_Runs_1/Activations/act_run_53.pth\n"
     ]
    },
    {
     "name": "stderr",
     "output_type": "stream",
     "text": [
      "Setting `pad_token_id` to `eos_token_id`:151643 for open-end generation.\n"
     ]
    },
    {
     "name": "stdout",
     "output_type": "stream",
     "text": [
      "File saved at: /home/aansh/nnsightusage/Logs/Patched_Runs_1/Answers/ans_run_54.txt\n",
      "File saved at: /home/aansh/nnsightusage/Logs/Patched_Runs_1/Activations/act_run_54.pth\n"
     ]
    },
    {
     "name": "stderr",
     "output_type": "stream",
     "text": [
      "Setting `pad_token_id` to `eos_token_id`:151643 for open-end generation.\n"
     ]
    },
    {
     "name": "stdout",
     "output_type": "stream",
     "text": [
      "File saved at: /home/aansh/nnsightusage/Logs/Patched_Runs_1/Answers/ans_run_55.txt\n",
      "File saved at: /home/aansh/nnsightusage/Logs/Patched_Runs_1/Activations/act_run_55.pth\n"
     ]
    },
    {
     "name": "stderr",
     "output_type": "stream",
     "text": [
      "Setting `pad_token_id` to `eos_token_id`:151643 for open-end generation.\n"
     ]
    },
    {
     "name": "stdout",
     "output_type": "stream",
     "text": [
      "File saved at: /home/aansh/nnsightusage/Logs/Patched_Runs_1/Answers/ans_run_56.txt\n",
      "File saved at: /home/aansh/nnsightusage/Logs/Patched_Runs_1/Activations/act_run_56.pth\n"
     ]
    },
    {
     "name": "stderr",
     "output_type": "stream",
     "text": [
      "Setting `pad_token_id` to `eos_token_id`:151643 for open-end generation.\n"
     ]
    },
    {
     "name": "stdout",
     "output_type": "stream",
     "text": [
      "File saved at: /home/aansh/nnsightusage/Logs/Patched_Runs_1/Answers/ans_run_57.txt\n",
      "File saved at: /home/aansh/nnsightusage/Logs/Patched_Runs_1/Activations/act_run_57.pth\n"
     ]
    },
    {
     "name": "stderr",
     "output_type": "stream",
     "text": [
      "Setting `pad_token_id` to `eos_token_id`:151643 for open-end generation.\n"
     ]
    },
    {
     "name": "stdout",
     "output_type": "stream",
     "text": [
      "File saved at: /home/aansh/nnsightusage/Logs/Patched_Runs_1/Answers/ans_run_58.txt\n",
      "File saved at: /home/aansh/nnsightusage/Logs/Patched_Runs_1/Activations/act_run_58.pth\n"
     ]
    },
    {
     "name": "stderr",
     "output_type": "stream",
     "text": [
      "Setting `pad_token_id` to `eos_token_id`:151643 for open-end generation.\n"
     ]
    },
    {
     "name": "stdout",
     "output_type": "stream",
     "text": [
      "File saved at: /home/aansh/nnsightusage/Logs/Patched_Runs_1/Answers/ans_run_59.txt\n",
      "File saved at: /home/aansh/nnsightusage/Logs/Patched_Runs_1/Activations/act_run_59.pth\n"
     ]
    },
    {
     "name": "stderr",
     "output_type": "stream",
     "text": [
      "Setting `pad_token_id` to `eos_token_id`:151643 for open-end generation.\n"
     ]
    },
    {
     "name": "stdout",
     "output_type": "stream",
     "text": [
      "File saved at: /home/aansh/nnsightusage/Logs/Patched_Runs_1/Answers/ans_run_60.txt\n",
      "File saved at: /home/aansh/nnsightusage/Logs/Patched_Runs_1/Activations/act_run_60.pth\n"
     ]
    },
    {
     "name": "stderr",
     "output_type": "stream",
     "text": [
      "Setting `pad_token_id` to `eos_token_id`:151643 for open-end generation.\n"
     ]
    },
    {
     "name": "stdout",
     "output_type": "stream",
     "text": [
      "File saved at: /home/aansh/nnsightusage/Logs/Patched_Runs_1/Answers/ans_run_61.txt\n",
      "File saved at: /home/aansh/nnsightusage/Logs/Patched_Runs_1/Activations/act_run_61.pth\n"
     ]
    },
    {
     "name": "stderr",
     "output_type": "stream",
     "text": [
      "Setting `pad_token_id` to `eos_token_id`:151643 for open-end generation.\n"
     ]
    },
    {
     "name": "stdout",
     "output_type": "stream",
     "text": [
      "File saved at: /home/aansh/nnsightusage/Logs/Patched_Runs_1/Answers/ans_run_62.txt\n",
      "File saved at: /home/aansh/nnsightusage/Logs/Patched_Runs_1/Activations/act_run_62.pth\n"
     ]
    },
    {
     "name": "stderr",
     "output_type": "stream",
     "text": [
      "Setting `pad_token_id` to `eos_token_id`:151643 for open-end generation.\n"
     ]
    },
    {
     "name": "stdout",
     "output_type": "stream",
     "text": [
      "File saved at: /home/aansh/nnsightusage/Logs/Patched_Runs_1/Answers/ans_run_63.txt\n",
      "File saved at: /home/aansh/nnsightusage/Logs/Patched_Runs_1/Activations/act_run_63.pth\n"
     ]
    },
    {
     "name": "stderr",
     "output_type": "stream",
     "text": [
      "Setting `pad_token_id` to `eos_token_id`:151643 for open-end generation.\n"
     ]
    },
    {
     "name": "stdout",
     "output_type": "stream",
     "text": [
      "File saved at: /home/aansh/nnsightusage/Logs/Patched_Runs_1/Answers/ans_run_64.txt\n",
      "File saved at: /home/aansh/nnsightusage/Logs/Patched_Runs_1/Activations/act_run_64.pth\n"
     ]
    },
    {
     "name": "stderr",
     "output_type": "stream",
     "text": [
      "Setting `pad_token_id` to `eos_token_id`:151643 for open-end generation.\n"
     ]
    },
    {
     "name": "stdout",
     "output_type": "stream",
     "text": [
      "File saved at: /home/aansh/nnsightusage/Logs/Patched_Runs_1/Answers/ans_run_65.txt\n",
      "File saved at: /home/aansh/nnsightusage/Logs/Patched_Runs_1/Activations/act_run_65.pth\n"
     ]
    },
    {
     "name": "stderr",
     "output_type": "stream",
     "text": [
      "Setting `pad_token_id` to `eos_token_id`:151643 for open-end generation.\n"
     ]
    },
    {
     "name": "stdout",
     "output_type": "stream",
     "text": [
      "File saved at: /home/aansh/nnsightusage/Logs/Patched_Runs_1/Answers/ans_run_66.txt\n",
      "File saved at: /home/aansh/nnsightusage/Logs/Patched_Runs_1/Activations/act_run_66.pth\n"
     ]
    },
    {
     "name": "stderr",
     "output_type": "stream",
     "text": [
      "Setting `pad_token_id` to `eos_token_id`:151643 for open-end generation.\n"
     ]
    },
    {
     "name": "stdout",
     "output_type": "stream",
     "text": [
      "File saved at: /home/aansh/nnsightusage/Logs/Patched_Runs_1/Answers/ans_run_67.txt\n",
      "File saved at: /home/aansh/nnsightusage/Logs/Patched_Runs_1/Activations/act_run_67.pth\n"
     ]
    },
    {
     "name": "stderr",
     "output_type": "stream",
     "text": [
      "Setting `pad_token_id` to `eos_token_id`:151643 for open-end generation.\n"
     ]
    },
    {
     "name": "stdout",
     "output_type": "stream",
     "text": [
      "File saved at: /home/aansh/nnsightusage/Logs/Patched_Runs_1/Answers/ans_run_68.txt\n",
      "File saved at: /home/aansh/nnsightusage/Logs/Patched_Runs_1/Activations/act_run_68.pth\n"
     ]
    },
    {
     "name": "stderr",
     "output_type": "stream",
     "text": [
      "Setting `pad_token_id` to `eos_token_id`:151643 for open-end generation.\n"
     ]
    },
    {
     "name": "stdout",
     "output_type": "stream",
     "text": [
      "File saved at: /home/aansh/nnsightusage/Logs/Patched_Runs_1/Answers/ans_run_69.txt\n",
      "File saved at: /home/aansh/nnsightusage/Logs/Patched_Runs_1/Activations/act_run_69.pth\n"
     ]
    },
    {
     "name": "stderr",
     "output_type": "stream",
     "text": [
      "Setting `pad_token_id` to `eos_token_id`:151643 for open-end generation.\n"
     ]
    },
    {
     "name": "stdout",
     "output_type": "stream",
     "text": [
      "File saved at: /home/aansh/nnsightusage/Logs/Patched_Runs_1/Answers/ans_run_70.txt\n",
      "File saved at: /home/aansh/nnsightusage/Logs/Patched_Runs_1/Activations/act_run_70.pth\n"
     ]
    },
    {
     "name": "stderr",
     "output_type": "stream",
     "text": [
      "Setting `pad_token_id` to `eos_token_id`:151643 for open-end generation.\n"
     ]
    },
    {
     "name": "stdout",
     "output_type": "stream",
     "text": [
      "File saved at: /home/aansh/nnsightusage/Logs/Patched_Runs_1/Answers/ans_run_71.txt\n",
      "File saved at: /home/aansh/nnsightusage/Logs/Patched_Runs_1/Activations/act_run_71.pth\n"
     ]
    },
    {
     "name": "stderr",
     "output_type": "stream",
     "text": [
      "Setting `pad_token_id` to `eos_token_id`:151643 for open-end generation.\n"
     ]
    },
    {
     "name": "stdout",
     "output_type": "stream",
     "text": [
      "File saved at: /home/aansh/nnsightusage/Logs/Patched_Runs_1/Answers/ans_run_72.txt\n",
      "File saved at: /home/aansh/nnsightusage/Logs/Patched_Runs_1/Activations/act_run_72.pth\n"
     ]
    },
    {
     "name": "stderr",
     "output_type": "stream",
     "text": [
      "Setting `pad_token_id` to `eos_token_id`:151643 for open-end generation.\n"
     ]
    },
    {
     "name": "stdout",
     "output_type": "stream",
     "text": [
      "File saved at: /home/aansh/nnsightusage/Logs/Patched_Runs_1/Answers/ans_run_73.txt\n",
      "File saved at: /home/aansh/nnsightusage/Logs/Patched_Runs_1/Activations/act_run_73.pth\n"
     ]
    },
    {
     "name": "stderr",
     "output_type": "stream",
     "text": [
      "Setting `pad_token_id` to `eos_token_id`:151643 for open-end generation.\n"
     ]
    },
    {
     "name": "stdout",
     "output_type": "stream",
     "text": [
      "File saved at: /home/aansh/nnsightusage/Logs/Patched_Runs_1/Answers/ans_run_74.txt\n",
      "File saved at: /home/aansh/nnsightusage/Logs/Patched_Runs_1/Activations/act_run_74.pth\n"
     ]
    },
    {
     "name": "stderr",
     "output_type": "stream",
     "text": [
      "Setting `pad_token_id` to `eos_token_id`:151643 for open-end generation.\n"
     ]
    },
    {
     "name": "stdout",
     "output_type": "stream",
     "text": [
      "File saved at: /home/aansh/nnsightusage/Logs/Patched_Runs_1/Answers/ans_run_75.txt\n",
      "File saved at: /home/aansh/nnsightusage/Logs/Patched_Runs_1/Activations/act_run_75.pth\n"
     ]
    },
    {
     "name": "stderr",
     "output_type": "stream",
     "text": [
      "Setting `pad_token_id` to `eos_token_id`:151643 for open-end generation.\n"
     ]
    },
    {
     "name": "stdout",
     "output_type": "stream",
     "text": [
      "File saved at: /home/aansh/nnsightusage/Logs/Patched_Runs_1/Answers/ans_run_76.txt\n",
      "File saved at: /home/aansh/nnsightusage/Logs/Patched_Runs_1/Activations/act_run_76.pth\n"
     ]
    },
    {
     "name": "stderr",
     "output_type": "stream",
     "text": [
      "Setting `pad_token_id` to `eos_token_id`:151643 for open-end generation.\n"
     ]
    },
    {
     "name": "stdout",
     "output_type": "stream",
     "text": [
      "File saved at: /home/aansh/nnsightusage/Logs/Patched_Runs_1/Answers/ans_run_77.txt\n",
      "File saved at: /home/aansh/nnsightusage/Logs/Patched_Runs_1/Activations/act_run_77.pth\n"
     ]
    },
    {
     "name": "stderr",
     "output_type": "stream",
     "text": [
      "Setting `pad_token_id` to `eos_token_id`:151643 for open-end generation.\n"
     ]
    },
    {
     "name": "stdout",
     "output_type": "stream",
     "text": [
      "File saved at: /home/aansh/nnsightusage/Logs/Patched_Runs_1/Answers/ans_run_78.txt\n",
      "File saved at: /home/aansh/nnsightusage/Logs/Patched_Runs_1/Activations/act_run_78.pth\n"
     ]
    },
    {
     "name": "stderr",
     "output_type": "stream",
     "text": [
      "Setting `pad_token_id` to `eos_token_id`:151643 for open-end generation.\n"
     ]
    },
    {
     "name": "stdout",
     "output_type": "stream",
     "text": [
      "File saved at: /home/aansh/nnsightusage/Logs/Patched_Runs_1/Answers/ans_run_79.txt\n",
      "File saved at: /home/aansh/nnsightusage/Logs/Patched_Runs_1/Activations/act_run_79.pth\n"
     ]
    },
    {
     "name": "stderr",
     "output_type": "stream",
     "text": [
      "Setting `pad_token_id` to `eos_token_id`:151643 for open-end generation.\n"
     ]
    },
    {
     "name": "stdout",
     "output_type": "stream",
     "text": [
      "File saved at: /home/aansh/nnsightusage/Logs/Patched_Runs_1/Answers/ans_run_80.txt\n",
      "File saved at: /home/aansh/nnsightusage/Logs/Patched_Runs_1/Activations/act_run_80.pth\n"
     ]
    },
    {
     "name": "stderr",
     "output_type": "stream",
     "text": [
      "Setting `pad_token_id` to `eos_token_id`:151643 for open-end generation.\n"
     ]
    },
    {
     "name": "stdout",
     "output_type": "stream",
     "text": [
      "File saved at: /home/aansh/nnsightusage/Logs/Patched_Runs_1/Answers/ans_run_81.txt\n",
      "File saved at: /home/aansh/nnsightusage/Logs/Patched_Runs_1/Activations/act_run_81.pth\n"
     ]
    },
    {
     "name": "stderr",
     "output_type": "stream",
     "text": [
      "Setting `pad_token_id` to `eos_token_id`:151643 for open-end generation.\n"
     ]
    },
    {
     "name": "stdout",
     "output_type": "stream",
     "text": [
      "File saved at: /home/aansh/nnsightusage/Logs/Patched_Runs_1/Answers/ans_run_82.txt\n",
      "File saved at: /home/aansh/nnsightusage/Logs/Patched_Runs_1/Activations/act_run_82.pth\n"
     ]
    },
    {
     "name": "stderr",
     "output_type": "stream",
     "text": [
      "Setting `pad_token_id` to `eos_token_id`:151643 for open-end generation.\n"
     ]
    },
    {
     "name": "stdout",
     "output_type": "stream",
     "text": [
      "File saved at: /home/aansh/nnsightusage/Logs/Patched_Runs_1/Answers/ans_run_83.txt\n",
      "File saved at: /home/aansh/nnsightusage/Logs/Patched_Runs_1/Activations/act_run_83.pth\n"
     ]
    },
    {
     "name": "stderr",
     "output_type": "stream",
     "text": [
      "Setting `pad_token_id` to `eos_token_id`:151643 for open-end generation.\n"
     ]
    },
    {
     "name": "stdout",
     "output_type": "stream",
     "text": [
      "File saved at: /home/aansh/nnsightusage/Logs/Patched_Runs_1/Answers/ans_run_84.txt\n",
      "File saved at: /home/aansh/nnsightusage/Logs/Patched_Runs_1/Activations/act_run_84.pth\n"
     ]
    },
    {
     "name": "stderr",
     "output_type": "stream",
     "text": [
      "Setting `pad_token_id` to `eos_token_id`:151643 for open-end generation.\n"
     ]
    },
    {
     "name": "stdout",
     "output_type": "stream",
     "text": [
      "File saved at: /home/aansh/nnsightusage/Logs/Patched_Runs_1/Answers/ans_run_85.txt\n",
      "File saved at: /home/aansh/nnsightusage/Logs/Patched_Runs_1/Activations/act_run_85.pth\n"
     ]
    },
    {
     "name": "stderr",
     "output_type": "stream",
     "text": [
      "Setting `pad_token_id` to `eos_token_id`:151643 for open-end generation.\n"
     ]
    },
    {
     "name": "stdout",
     "output_type": "stream",
     "text": [
      "File saved at: /home/aansh/nnsightusage/Logs/Patched_Runs_1/Answers/ans_run_86.txt\n",
      "File saved at: /home/aansh/nnsightusage/Logs/Patched_Runs_1/Activations/act_run_86.pth\n"
     ]
    },
    {
     "name": "stderr",
     "output_type": "stream",
     "text": [
      "Setting `pad_token_id` to `eos_token_id`:151643 for open-end generation.\n"
     ]
    },
    {
     "name": "stdout",
     "output_type": "stream",
     "text": [
      "File saved at: /home/aansh/nnsightusage/Logs/Patched_Runs_1/Answers/ans_run_87.txt\n",
      "File saved at: /home/aansh/nnsightusage/Logs/Patched_Runs_1/Activations/act_run_87.pth\n"
     ]
    },
    {
     "name": "stderr",
     "output_type": "stream",
     "text": [
      "Setting `pad_token_id` to `eos_token_id`:151643 for open-end generation.\n"
     ]
    },
    {
     "name": "stdout",
     "output_type": "stream",
     "text": [
      "File saved at: /home/aansh/nnsightusage/Logs/Patched_Runs_1/Answers/ans_run_88.txt\n",
      "File saved at: /home/aansh/nnsightusage/Logs/Patched_Runs_1/Activations/act_run_88.pth\n"
     ]
    },
    {
     "name": "stderr",
     "output_type": "stream",
     "text": [
      "Setting `pad_token_id` to `eos_token_id`:151643 for open-end generation.\n"
     ]
    },
    {
     "name": "stdout",
     "output_type": "stream",
     "text": [
      "File saved at: /home/aansh/nnsightusage/Logs/Patched_Runs_1/Answers/ans_run_89.txt\n",
      "File saved at: /home/aansh/nnsightusage/Logs/Patched_Runs_1/Activations/act_run_89.pth\n"
     ]
    },
    {
     "name": "stderr",
     "output_type": "stream",
     "text": [
      "Setting `pad_token_id` to `eos_token_id`:151643 for open-end generation.\n"
     ]
    },
    {
     "name": "stdout",
     "output_type": "stream",
     "text": [
      "File saved at: /home/aansh/nnsightusage/Logs/Patched_Runs_1/Answers/ans_run_90.txt\n",
      "File saved at: /home/aansh/nnsightusage/Logs/Patched_Runs_1/Activations/act_run_90.pth\n"
     ]
    },
    {
     "name": "stderr",
     "output_type": "stream",
     "text": [
      "Setting `pad_token_id` to `eos_token_id`:151643 for open-end generation.\n"
     ]
    },
    {
     "name": "stdout",
     "output_type": "stream",
     "text": [
      "File saved at: /home/aansh/nnsightusage/Logs/Patched_Runs_1/Answers/ans_run_91.txt\n",
      "File saved at: /home/aansh/nnsightusage/Logs/Patched_Runs_1/Activations/act_run_91.pth\n"
     ]
    },
    {
     "name": "stderr",
     "output_type": "stream",
     "text": [
      "Setting `pad_token_id` to `eos_token_id`:151643 for open-end generation.\n"
     ]
    },
    {
     "name": "stdout",
     "output_type": "stream",
     "text": [
      "File saved at: /home/aansh/nnsightusage/Logs/Patched_Runs_1/Answers/ans_run_92.txt\n",
      "File saved at: /home/aansh/nnsightusage/Logs/Patched_Runs_1/Activations/act_run_92.pth\n"
     ]
    },
    {
     "name": "stderr",
     "output_type": "stream",
     "text": [
      "Setting `pad_token_id` to `eos_token_id`:151643 for open-end generation.\n"
     ]
    },
    {
     "name": "stdout",
     "output_type": "stream",
     "text": [
      "File saved at: /home/aansh/nnsightusage/Logs/Patched_Runs_1/Answers/ans_run_93.txt\n",
      "File saved at: /home/aansh/nnsightusage/Logs/Patched_Runs_1/Activations/act_run_93.pth\n"
     ]
    },
    {
     "name": "stderr",
     "output_type": "stream",
     "text": [
      "Setting `pad_token_id` to `eos_token_id`:151643 for open-end generation.\n"
     ]
    },
    {
     "name": "stdout",
     "output_type": "stream",
     "text": [
      "File saved at: /home/aansh/nnsightusage/Logs/Patched_Runs_1/Answers/ans_run_94.txt\n",
      "File saved at: /home/aansh/nnsightusage/Logs/Patched_Runs_1/Activations/act_run_94.pth\n"
     ]
    },
    {
     "name": "stderr",
     "output_type": "stream",
     "text": [
      "Setting `pad_token_id` to `eos_token_id`:151643 for open-end generation.\n"
     ]
    },
    {
     "name": "stdout",
     "output_type": "stream",
     "text": [
      "File saved at: /home/aansh/nnsightusage/Logs/Patched_Runs_1/Answers/ans_run_95.txt\n",
      "File saved at: /home/aansh/nnsightusage/Logs/Patched_Runs_1/Activations/act_run_95.pth\n"
     ]
    },
    {
     "name": "stderr",
     "output_type": "stream",
     "text": [
      "Setting `pad_token_id` to `eos_token_id`:151643 for open-end generation.\n"
     ]
    },
    {
     "name": "stdout",
     "output_type": "stream",
     "text": [
      "File saved at: /home/aansh/nnsightusage/Logs/Patched_Runs_1/Answers/ans_run_96.txt\n",
      "File saved at: /home/aansh/nnsightusage/Logs/Patched_Runs_1/Activations/act_run_96.pth\n"
     ]
    },
    {
     "name": "stderr",
     "output_type": "stream",
     "text": [
      "Setting `pad_token_id` to `eos_token_id`:151643 for open-end generation.\n"
     ]
    },
    {
     "name": "stdout",
     "output_type": "stream",
     "text": [
      "File saved at: /home/aansh/nnsightusage/Logs/Patched_Runs_1/Answers/ans_run_97.txt\n",
      "File saved at: /home/aansh/nnsightusage/Logs/Patched_Runs_1/Activations/act_run_97.pth\n"
     ]
    },
    {
     "name": "stderr",
     "output_type": "stream",
     "text": [
      "Setting `pad_token_id` to `eos_token_id`:151643 for open-end generation.\n"
     ]
    },
    {
     "name": "stdout",
     "output_type": "stream",
     "text": [
      "File saved at: /home/aansh/nnsightusage/Logs/Patched_Runs_1/Answers/ans_run_98.txt\n",
      "File saved at: /home/aansh/nnsightusage/Logs/Patched_Runs_1/Activations/act_run_98.pth\n"
     ]
    },
    {
     "name": "stderr",
     "output_type": "stream",
     "text": [
      "Setting `pad_token_id` to `eos_token_id`:151643 for open-end generation.\n"
     ]
    },
    {
     "name": "stdout",
     "output_type": "stream",
     "text": [
      "File saved at: /home/aansh/nnsightusage/Logs/Patched_Runs_1/Answers/ans_run_99.txt\n",
      "File saved at: /home/aansh/nnsightusage/Logs/Patched_Runs_1/Activations/act_run_99.pth\n"
     ]
    },
    {
     "name": "stderr",
     "output_type": "stream",
     "text": [
      "Setting `pad_token_id` to `eos_token_id`:151643 for open-end generation.\n"
     ]
    },
    {
     "name": "stdout",
     "output_type": "stream",
     "text": [
      "File saved at: /home/aansh/nnsightusage/Logs/Patched_Runs_1/Answers/ans_run_100.txt\n",
      "File saved at: /home/aansh/nnsightusage/Logs/Patched_Runs_1/Activations/act_run_100.pth\n"
     ]
    }
   ],
   "source": [
    "for i in range(3, 100):\n",
    "    ans_filename = f\"ans_run_{i+1}.txt\"\n",
    "    act_filename = f\"act_run_{i+1}.pth\"\n",
    "    generate_output(llm,\n",
    "                    prompt,\n",
    "                    print_ans=False,\n",
    "                    save_ans=True,\n",
    "                    ans_filename=ans_filename,\n",
    "                    save_activations=True,\n",
    "                    act_filename=act_filename,\n",
    "                    thresholded_tensor=activationss)\n",
    "    "
   ]
  },
  {
   "cell_type": "code",
   "execution_count": null,
   "metadata": {},
   "outputs": [],
   "source": []
  }
 ],
 "metadata": {
  "kernelspec": {
   "display_name": "nns2env",
   "language": "python",
   "name": "python3"
  },
  "language_info": {
   "codemirror_mode": {
    "name": "ipython",
    "version": 3
   },
   "file_extension": ".py",
   "mimetype": "text/x-python",
   "name": "python",
   "nbconvert_exporter": "python",
   "pygments_lexer": "ipython3",
   "version": "3.10.0"
  }
 },
 "nbformat": 4,
 "nbformat_minor": 2
}
