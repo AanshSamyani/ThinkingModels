{
 "cells": [
  {
   "cell_type": "markdown",
   "metadata": {},
   "source": [
    "### Experiments\n",
    "1) Think token probing: \n",
    "    - Checking for the \"think\" token and its corresponding activations and training a probe on the residual stream activations to classify \"think\" or not.\n",
    "    - Doing the same by probing sae latents and comparing the results.\n",
    "    - Can use these latents and activations to steer the model - as in just resample them in cases where the think token hasn't been used and rerun on the same answer and check. \n",
    "\n",
    "2) Chinese and \"think\" correlation\n",
    "    - Check if there are common sae latents that fire for the \"think\" token and Chinese characters.\n",
    "    - Also check for the attention that these characters give to the \"think\" token.\n",
    "    - Can we make the model to think forcefully when not required and check if it randomly generates things (i.e weak hallucination) or reflect back and stops answering.\n",
    "\n",
    "3) Run addition and subtraction examples saved from Perplexity's thread, and probe classifiers on the residual stream and sae latents to check for a particular concept in the model.   "
   ]
  },
  {
   "cell_type": "code",
   "execution_count": 1,
   "metadata": {},
   "outputs": [],
   "source": [
    "import torch as t\n",
    "import torch.nn as nn\n",
    "import torch.optim as optim\n",
    "import matplotlib.pyplot as plt\n",
    "from sklearn.model_selection import train_test_split\n",
    "from sklearn.preprocessing import StandardScaler\n",
    "from sklearn.metrics import f1_score, roc_auc_score\n",
    "from torch.utils.data import TensorDataset, DataLoader\n",
    "import seaborn as sns\n",
    "import umap\n",
    "import numpy as np\n",
    "from sklearn.decomposition import PCA\n",
    "from sklearn.manifold import TSNE\n",
    "\n",
    "import nnsight\n",
    "from tqdm import tqdm\n",
    "import sys\n",
    "from nnsight import LanguageModel\n",
    "from safetensors.torch import load_file\n",
    "import os\n",
    "from dictionary_learning.dictionary import AutoEncoderNew, AutoEncoder\n",
    "\n",
    "os.environ[\"CUDA_VISIBLE_DEVICES\"] = \"1\""
   ]
  },
  {
   "cell_type": "code",
   "execution_count": 2,
   "metadata": {},
   "outputs": [
    {
     "name": "stdout",
     "output_type": "stream",
     "text": [
      "Qwen2ForCausalLM(\n",
      "  (model): Qwen2Model(\n",
      "    (embed_tokens): Embedding(151936, 1536)\n",
      "    (layers): ModuleList(\n",
      "      (0-27): 28 x Qwen2DecoderLayer(\n",
      "        (self_attn): Qwen2Attention(\n",
      "          (q_proj): Linear(in_features=1536, out_features=1536, bias=True)\n",
      "          (k_proj): Linear(in_features=1536, out_features=256, bias=True)\n",
      "          (v_proj): Linear(in_features=1536, out_features=256, bias=True)\n",
      "          (o_proj): Linear(in_features=1536, out_features=1536, bias=False)\n",
      "        )\n",
      "        (mlp): Qwen2MLP(\n",
      "          (gate_proj): Linear(in_features=1536, out_features=8960, bias=False)\n",
      "          (up_proj): Linear(in_features=1536, out_features=8960, bias=False)\n",
      "          (down_proj): Linear(in_features=8960, out_features=1536, bias=False)\n",
      "          (act_fn): SiLU()\n",
      "        )\n",
      "        (input_layernorm): Qwen2RMSNorm((1536,), eps=1e-06)\n",
      "        (post_attention_layernorm): Qwen2RMSNorm((1536,), eps=1e-06)\n",
      "      )\n",
      "    )\n",
      "    (norm): Qwen2RMSNorm((1536,), eps=1e-06)\n",
      "    (rotary_emb): Qwen2RotaryEmbedding()\n",
      "  )\n",
      "  (lm_head): Linear(in_features=1536, out_features=151936, bias=False)\n",
      "  (generator): Generator(\n",
      "    (streamer): Streamer()\n",
      "  )\n",
      ")\n"
     ]
    }
   ],
   "source": [
    "llm = LanguageModel(\"deepseek-ai/DeepSeek-R1-Distill-Qwen-1.5B\", device_map=\"auto\")\n",
    "print(llm)"
   ]
  },
  {
   "cell_type": "code",
   "execution_count": 3,
   "metadata": {},
   "outputs": [],
   "source": [
    "act_dir_path = \"/home/aansh/nnsightusage/Logs/Check_4_Chinese_outputs/Activations\"\n",
    "ans_dir_path = \"/home/aansh/nnsightusage/Logs/Check_4_Chinese_outputs/Answers\"\n",
    "act_files = os.listdir(act_dir_path)\n",
    "ans_files = os.listdir(ans_dir_path)\n",
    "act_files.sort()\n",
    "ans_files.sort()"
   ]
  },
  {
   "cell_type": "code",
   "execution_count": 4,
   "metadata": {},
   "outputs": [
    {
     "name": "stdout",
     "output_type": "stream",
     "text": [
      "31\n",
      "['ans_run_1.txt', 'ans_run_10.txt', 'ans_run_103.txt', 'ans_run_122.txt', 'ans_run_130.txt', 'ans_run_144.txt', 'ans_run_147.txt', 'ans_run_162.txt', 'ans_run_164.txt', 'ans_run_181.txt', 'ans_run_195.txt', 'ans_run_196.txt', 'ans_run_30.txt', 'ans_run_40.txt', 'ans_run_44.txt', 'ans_run_46.txt', 'ans_run_48.txt', 'ans_run_49.txt', 'ans_run_52.txt', 'ans_run_61.txt', 'ans_run_63.txt', 'ans_run_66.txt', 'ans_run_69.txt', 'ans_run_76.txt', 'ans_run_82.txt', 'ans_run_85.txt', 'ans_run_86.txt', 'ans_run_91.txt', 'ans_run_94.txt', 'ans_run_97.txt', 'ans_run_99.txt']\n",
      "31\n",
      "['act_run_1.pth', 'act_run_10.pth', 'act_run_103.pth', 'act_run_122.pth', 'act_run_130.pth', 'act_run_144.pth', 'act_run_147.pth', 'act_run_162.pth', 'act_run_164.pth', 'act_run_181.pth', 'act_run_195.pth', 'act_run_196.pth', 'act_run_30.pth', 'act_run_40.pth', 'act_run_44.pth', 'act_run_46.pth', 'act_run_48.pth', 'act_run_49.pth', 'act_run_52.pth', 'act_run_61.pth', 'act_run_63.pth', 'act_run_66.pth', 'act_run_69.pth', 'act_run_76.pth', 'act_run_82.pth', 'act_run_85.pth', 'act_run_86.pth', 'act_run_91.pth', 'act_run_94.pth', 'act_run_97.pth', 'act_run_99.pth']\n"
     ]
    }
   ],
   "source": [
    "def check_word_in_file(file_path: str, word: str) -> bool:\n",
    "    with open(file_path, \"r\", encoding=\"utf-8\") as file:\n",
    "        text = file.read().strip()\n",
    "    return word in text\n",
    "\n",
    "count_num_thinks = 0\n",
    "ans_think_filenames = []\n",
    "for filename in ans_files:\n",
    "    filePath = os.path.join(ans_dir_path, filename)\n",
    "    if check_word_in_file(filePath, \"</think>\"):\n",
    "        count_num_thinks += 1\n",
    "        ans_think_filenames.append(filename)\n",
    "        \n",
    "print(count_num_thinks)\n",
    "print(ans_think_filenames)\n",
    "\n",
    "act_think_filenames = []\n",
    "for ans_filename in ans_think_filenames:\n",
    "    act_filename = ans_filename.replace(\"ans\", \"act\")\n",
    "    act_filename = act_filename.replace(\"txt\", \"pth\")\n",
    "    act_think_filenames.append(act_filename)\n",
    "    \n",
    "print(len(act_think_filenames))\n",
    "print(act_think_filenames)"
   ]
  },
  {
   "cell_type": "code",
   "execution_count": 5,
   "metadata": {},
   "outputs": [],
   "source": [
    "def rearrange_activations_mlp(hidden_states: dict):\n",
    "    ls_activations = []\n",
    "    for i in range(len(hidden_states)):\n",
    "        first_token_acts = hidden_states[f\"layer_{i}\"][\"mlp\"][0]\n",
    "        rest_token_acts = t.cat(hidden_states[f\"layer_{i}\"][\"mlp\"][1:], dim=1)\n",
    "        all_acts = t.cat([first_token_acts, rest_token_acts], dim=1)\n",
    "        ls_activations.append(all_acts)\n",
    "    \n",
    "    return t.cat(ls_activations, dim=0)\n",
    "\n",
    "def get_think_token_position(ans_dir_path: str, ans_filename: str) -> int:\n",
    "    ans_file_path = os.path.join(ans_dir_path, ans_filename)\n",
    "    with open(ans_file_path, \"r\", encoding=\"utf-8\") as file:\n",
    "        text = file.read().strip()\n",
    "    tokenized_text_ids = llm.tokenizer(text, return_tensors=\"pt\", add_special_tokens=False)\n",
    "    tokenized_text = llm.tokenizer.tokenize(text)\n",
    "    think_token = \"</think>\"\n",
    "    think_token_index = tokenized_text.index(think_token)\n",
    "    return tokenized_text_ids, tokenized_text, think_token_index     \n",
    "\n",
    "def get_think_token_mlp_activations(act_dir_path: str, act_filename: str) -> t.Tensor:\n",
    "    act_file_path = os.path.join(act_dir_path, act_filename)\n",
    "    hidden_states = t.load(act_file_path)\n",
    "    return rearrange_activations_mlp(hidden_states)"
   ]
  },
  {
   "cell_type": "code",
   "execution_count": 6,
   "metadata": {},
   "outputs": [
    {
     "name": "stderr",
     "output_type": "stream",
     "text": [
      "31it [08:44, 16.92s/it]\n"
     ]
    }
   ],
   "source": [
    "ls_think_token_activations = []\n",
    "for i, act_filename in tqdm(enumerate(act_think_filenames)):\n",
    "    act_file_path = os.path.join(act_dir_path, act_filename)\n",
    "    hidden_states = t.load(act_file_path)\n",
    "    ans_filename = act_filename.replace(\"act\", \"ans\")\n",
    "    ans_filename = ans_filename.replace(\"pth\", \"txt\")\n",
    "    tokenized_text_ids, tokenized_text, think_token_index = get_think_token_position(ans_dir_path, ans_filename)\n",
    "    mlp_activations = get_think_token_mlp_activations(act_dir_path, act_filename)\n",
    "    think_token_mlp_activations = mlp_activations[:, think_token_index-1, :].unsqueeze(0)\n",
    "    ls_think_token_activations.append(think_token_mlp_activations)\n",
    "    \n",
    "think_token_activations = t.cat(ls_think_token_activations, dim=0)"
   ]
  },
  {
   "cell_type": "code",
   "execution_count": 7,
   "metadata": {},
   "outputs": [
    {
     "data": {
      "text/plain": [
       "torch.Size([31, 28, 1536])"
      ]
     },
     "execution_count": 7,
     "metadata": {},
     "output_type": "execute_result"
    }
   ],
   "source": [
    "think_token_activations.shape"
   ]
  },
  {
   "cell_type": "code",
   "execution_count": 11,
   "metadata": {},
   "outputs": [
    {
     "name": "stderr",
     "output_type": "stream",
     "text": [
      "200it [49:09, 14.75s/it]\n"
     ]
    }
   ],
   "source": [
    "ls_non_think_token_activations = []\n",
    "for i, act_filename in tqdm(enumerate(act_files)):\n",
    "    if act_filename in act_think_filenames:\n",
    "        continue\n",
    "    hidden_states = t.load(act_file_path)\n",
    "    token_index = t.randint(0, 200, (1, 1)).item()\n",
    "    mlp_activations = get_think_token_mlp_activations(act_dir_path, act_filename)\n",
    "    non_think_token_mlp_activations = mlp_activations[:, token_index, :].unsqueeze(0)\n",
    "    ls_non_think_token_activations.append(non_think_token_mlp_activations)\n",
    "   \n",
    "non_think_token_activations = t.cat(ls_non_think_token_activations, dim=0) "
   ]
  },
  {
   "cell_type": "code",
   "execution_count": 12,
   "metadata": {},
   "outputs": [
    {
     "data": {
      "text/plain": [
       "torch.Size([169, 28, 1536])"
      ]
     },
     "execution_count": 12,
     "metadata": {},
     "output_type": "execute_result"
    }
   ],
   "source": [
    "non_think_token_activations.shape"
   ]
  },
  {
   "cell_type": "code",
   "execution_count": 13,
   "metadata": {},
   "outputs": [],
   "source": [
    "def load_sae(layer: int):\n",
    "    weights_path = f\"/home/aansh/nnsightusage/sae_model/layers.{layer}.mlp/sae.safetensors\"\n",
    "    activation_dim =  1536 \n",
    "    dictionary_size = 65536 \n",
    "    ae = AutoEncoder(activation_dim, dictionary_size)\n",
    "    state_dict = load_file(weights_path)\n",
    "    state_dict.keys()\n",
    "    new_state_dict = {}\n",
    "    for key in state_dict.keys():\n",
    "        new_key = key  \n",
    "        if key == \"W_dec\":\n",
    "            new_key = \"decoder.weight\"\n",
    "            new_state_dict[new_key] = state_dict[key].T  \n",
    "        elif key == \"b_dec\":\n",
    "            new_key = \"bias\"\n",
    "        if key != \"W_dec\": \n",
    "            new_state_dict[new_key] = state_dict[key]  # Copy data to the new key\n",
    "\n",
    "    ae.load_state_dict(new_state_dict)\n",
    "    ae.cuda() \n",
    "    return ae "
   ]
  },
  {
   "cell_type": "code",
   "execution_count": 14,
   "metadata": {},
   "outputs": [],
   "source": [
    "sae = load_sae(0)\n",
    "def get_sae_features(mlp_acts: t.Tensor, sae: AutoEncoder, layer: int = 0) -> t.Tensor:\n",
    "    # sae = load_sae(layer)\n",
    "    with t.no_grad():\n",
    "        features = sae.encode(mlp_acts[:, layer, :].cuda())\n",
    "    return features"
   ]
  },
  {
   "cell_type": "code",
   "execution_count": 15,
   "metadata": {},
   "outputs": [
    {
     "name": "stdout",
     "output_type": "stream",
     "text": [
      "torch.Size([31, 65536])\n",
      "torch.Size([169, 65536])\n"
     ]
    }
   ],
   "source": [
    "think_token_latents = get_sae_features(think_token_activations, sae)\n",
    "non_think_token_latents = get_sae_features(non_think_token_activations, sae)\n",
    "\n",
    "print(think_token_latents.shape)\n",
    "print(non_think_token_latents.shape)"
   ]
  },
  {
   "cell_type": "code",
   "execution_count": 16,
   "metadata": {},
   "outputs": [
    {
     "name": "stdout",
     "output_type": "stream",
     "text": [
      "(200, 65536)\n"
     ]
    },
    {
     "data": {
      "image/png": "[encoded data removed]",
      "text/plain": [
       "<Figure size 800x600 with 1 Axes>"
      ]
     },
     "metadata": {},
     "output_type": "display_data"
    },
    {
     "data": {
      "image/png": "[encoded data removed]",
      "text/plain": [
       "<Figure size 800x600 with 1 Axes>"
      ]
     },
     "metadata": {},
     "output_type": "display_data"
    }
   ],
   "source": [
    "import numpy as np\n",
    "import matplotlib.pyplot as plt\n",
    "from sklearn.decomposition import PCA\n",
    "from sklearn.manifold import TSNE\n",
    "import umap.umap_ as umap\n",
    "\n",
    "# Generate dummy data (Replace these with actual data)\n",
    "n_features = 100  # Replace with actual number of features\n",
    "class_1 = think_token_latents.cpu().numpy()  # Shape (31, n_features)\n",
    "class_2 = non_think_token_latents.cpu().numpy()  # Shape (169, n_features)\n",
    "\n",
    "# Concatenate both classes\n",
    "data = np.vstack((class_1, class_2))  # Shape (200, n_features)\n",
    "print(data.shape)\n",
    "labels = np.array([0] * 31 + [1] * 169)  # Labels (0 for class_1, 1 for class_2)\n",
    "\n",
    "# Function to plot embeddings\n",
    "def plot_embedding(embedded_data, title):\n",
    "    plt.figure(figsize=(8, 6))\n",
    "    plt.scatter(embedded_data[labels == 0, 0], embedded_data[labels == 0, 1], label=\"Class 1 (31)\", alpha=0.7, color='blue')\n",
    "    plt.scatter(embedded_data[labels == 1, 0], embedded_data[labels == 1, 1], label=\"Class 2 (169)\", alpha=0.7, color='red')\n",
    "    plt.legend()\n",
    "    plt.title(title)\n",
    "    plt.xlabel(\"Component 1\")\n",
    "    plt.ylabel(\"Component 2\")\n",
    "    plt.show()\n",
    "\n",
    "# Apply PCA\n",
    "pca = PCA(n_components=2)\n",
    "pca_result = pca.fit_transform(data)\n",
    "plot_embedding(pca_result, \"PCA Projection\")\n",
    "\n",
    "# Apply t-SNE\n",
    "tsne = TSNE(n_components=2, perplexity=30, random_state=42)\n",
    "tsne_result = tsne.fit_transform(data)\n",
    "plot_embedding(tsne_result, \"t-SNE Projection\")\n",
    "\n",
    "# # Apply UMAP\n",
    "# umap_proj = umap.UMAP(n_components=2, random_state=42).fit_transform(data)\n",
    "# plt.scatter(umap_proj[:, 0], umap_proj[:, 1], c=labels, cmap='coolwarm', alpha=0.6)"
   ]
  },
  {
   "cell_type": "code",
   "execution_count": 17,
   "metadata": {},
   "outputs": [
    {
     "data": {
      "text/plain": [
       "torch.Size([65536])"
      ]
     },
     "execution_count": 17,
     "metadata": {},
     "output_type": "execute_result"
    }
   ],
   "source": [
    "think_token_latents_avg = think_token_latents.cpu().abs().mean(axis=0)\n",
    "non_think_token_latents_avg = non_think_token_latents.cpu().abs().mean(axis=0)\n",
    "think_token_latents_avg.shape"
   ]
  },
  {
   "cell_type": "code",
   "execution_count": 18,
   "metadata": {},
   "outputs": [
    {
     "data": {
      "text/plain": [
       "(tensor([25009,  9362, 16442,  ..., 21874, 21875, 21876]),\n",
       " tensor([29070, 53563, 62464,  ..., 25077, 25078, 25079]))"
      ]
     },
     "execution_count": 18,
     "metadata": {},
     "output_type": "execute_result"
    }
   ],
   "source": [
    "top_think_token_latents_indices = t.argsort(think_token_latents_avg, descending=True)\n",
    "top_non_think_token_latents_indices = t.argsort(non_think_token_latents_avg, descending=True)\n",
    "top_think_token_latents_indices, top_non_think_token_latents_indices"
   ]
  },
  {
   "cell_type": "code",
   "execution_count": 19,
   "metadata": {},
   "outputs": [],
   "source": [
    "top_think_token_latents = think_token_latents[:, top_think_token_latents_indices[:10]]\n",
    "top_non_think_token_latents = non_think_token_latents[:, top_non_think_token_latents_indices[:10]]"
   ]
  },
  {
   "cell_type": "code",
   "execution_count": 20,
   "metadata": {},
   "outputs": [
    {
     "name": "stdout",
     "output_type": "stream",
     "text": [
      "(200, 10)\n"
     ]
    },
    {
     "data": {
      "image/png": "[encoded data removed]",
      "text/plain": [
       "<Figure size 800x600 with 1 Axes>"
      ]
     },
     "metadata": {},
     "output_type": "display_data"
    },
    {
     "data": {
      "image/png": "[encoded data removed]",
      "text/plain": [
       "<Figure size 800x600 with 1 Axes>"
      ]
     },
     "metadata": {},
     "output_type": "display_data"
    }
   ],
   "source": [
    "import numpy as np\n",
    "import matplotlib.pyplot as plt\n",
    "from sklearn.decomposition import PCA\n",
    "from sklearn.manifold import TSNE\n",
    "import umap.umap_ as umap\n",
    "\n",
    "# Generate dummy data (Replace these with actual data)\n",
    "n_features = 100  # Replace with actual number of features\n",
    "class_1 = top_think_token_latents.cpu().numpy()  # Shape (31, n_features)\n",
    "class_2 = top_non_think_token_latents.cpu().numpy()  # Shape (169, n_features)\n",
    "\n",
    "# Concatenate both classes\n",
    "data = np.vstack((class_1, class_2))  # Shape (200, n_features)\n",
    "print(data.shape)\n",
    "labels = np.array([0] * 31 + [1] * 169)  # Labels (0 for class_1, 1 for class_2)\n",
    "\n",
    "# Function to plot embeddings\n",
    "def plot_embedding(embedded_data, title):\n",
    "    plt.figure(figsize=(8, 6))\n",
    "    plt.scatter(embedded_data[labels == 0, 0], embedded_data[labels == 0, 1], label=\"Class 1 (31)\", alpha=0.7, color='blue')\n",
    "    plt.scatter(embedded_data[labels == 1, 0], embedded_data[labels == 1, 1], label=\"Class 2 (169)\", alpha=0.7, color='red')\n",
    "    plt.legend()\n",
    "    plt.title(title)\n",
    "    plt.xlabel(\"Component 1\")\n",
    "    plt.ylabel(\"Component 2\")\n",
    "    plt.show()\n",
    "\n",
    "# Apply PCA\n",
    "pca = PCA(n_components=2)\n",
    "pca_result = pca.fit_transform(data)\n",
    "plot_embedding(pca_result, \"PCA Projection\")\n",
    "\n",
    "# Apply t-SNE\n",
    "tsne = TSNE(n_components=2, perplexity=30, random_state=42)\n",
    "tsne_result = tsne.fit_transform(data)\n",
    "plot_embedding(tsne_result, \"t-SNE Projection\")\n",
    "\n",
    "# # Apply UMAP\n",
    "# umap_proj = umap.UMAP(n_components=2, random_state=42).fit_transform(data)\n",
    "# plt.scatter(umap_proj[:, 0], umap_proj[:, 1], c=labels, cmap='coolwarm', alpha=0.6)"
   ]
  },
  {
   "cell_type": "markdown",
   "metadata": {},
   "source": [
    "## Executive Summary\n",
    "1) Probing the CoT for different things:\n",
    "    - Probing for the \"think\" token is easy and the token is classifiable both when probing the residual stream and the sae basis. Corresponding analysis and graphs can be shown. This was sort of token level probing.\n",
    "    - Probing for language switch (i.e Chinese Language), this also shows reasonable results and used these top 1% activations at different layers to reproduce or ***steer the model*** to produce more Chinese outputs. The steering here is better at the SAE level. Note one can argue that this too is token level probing, however there are given SAE latents that correspond to not only a partular Chinese token but a lot of them, which get activated here, similarly neurons that get activated, seems like this language level feature is also easily probable, can't decide which of the above two setups was difficult.   \n",
    "    - Probing for a particular math concept, addition and subtraction prompts.\n",
    "    - Probing for if we can make out from the activations if a given problem was difficult or easy, also cached the time (latency) for each response here to check, since there should be a clear correlation, if the question is difficult -> it takes more time -> check if this reflects in the activations. Sort of works, i.e activations of the first couple of layers show clear correlation, the others are somewhat cloudy and not strongly correlated.\n",
    "    - Probed for stop words using an LLM, i.e words that show or rather induce behaviour in the model to think more by revisiting and checking what they have done is right. However, couldn't think of how to construct steering vectors here, without making the model hallucinate. This sort of forced hallucination can be used for studying jailbreaks, but felt that I was deviating from my original question of what all can be probed for in the CoT, so traced back to this.\n",
    "\n",
    "2) Failed Experiments\n",
    "    - Checked for gradient bursts and variance in activation entropy in the neighbourhood of these stop words, couldn't find results that would show expected behaviour. \n",
    "    - Tried to check for discrete phase transitions in a model's answer, i.e say a thinking and understanding phase, a making a plan stage, an answering stage and a concluding stage, although these things are clearly visible in the final answer, not tractable, had low expectations going in on this, was hoping to find atleast something interesting but couldn't though. \n",
    "    - Could have checked for models that use test-time training/ test-time compute for this behaviour since if we can explicitly mention to it a given amount of context window, it ultimately understands the depth of answer we expect from it.          \n",
    "    - Also stumbled upon the fact that sometimes probing the residual stream is better than probing the sae basis, was not sure why and wanted to explore but felt like deviating from the topic too much and then ultimately found this as a problem listed in the MATS 7.0 problem sheet, kinda interesting! \n",
    "    - Also tried a good amount of attention pattern analysis to check if the stop words and the think token attend to some particular things throughout the text, but couldn't find anything here as well, also Rotatory Embeddings are as sad as it gets for interpretability, didn't bother to find a workaround here or read about work done on this.   \n",
    "\n"
   ]
  },
  {
   "cell_type": "code",
   "execution_count": 21,
   "metadata": {},
   "outputs": [],
   "source": [
    "# def generate_output(llm: LanguageModel,\n",
    "#                     prompt:str,\n",
    "#                     append_eos_token: bool = True,\n",
    "#                     n_new_tokens:int = 200,\n",
    "#                     temperature: float = 1,\n",
    "#                     print_ans: bool = True,\n",
    "#                     save_ans: bool = False, \n",
    "#                     ans_filename: str = \"ans.txt\",\n",
    "#                     ans_dir_path: str = \"/home/aansh/nnsightusage/Logs/Check_4_Chinese_outputs/Answers\",\n",
    "#                     save_activations: bool = False,\n",
    "#                     act_filename: str = \"acts.pth\",\n",
    "#                     act_dir_path: str = \"/home/aansh/nnsightusage/Logs/Check_4_Chinese_outputs/Activations\"):\n",
    "    \n",
    "#     if append_eos_token:\n",
    "#         prompt += llm.tokenizer.eos_token\n",
    "    \n",
    "#     with llm.generate(prompt, max_new_tokens=n_new_tokens, temperature=temperature) as tracer:\n",
    "#         hidden_states = nnsight.dict().save()\n",
    "#         for i in range(len(llm.model.layers)):\n",
    "#             hidden_states[f\"layer_{i}\"] = {\n",
    "#                 \"mlp\": [],\n",
    "#                 \"q_proj\": [],\n",
    "#                 \"k_proj\": [],\n",
    "#             }\n",
    "#         llm.model.layers.all()\n",
    "#         for i in range(len(llm.model.layers)):\n",
    "#             hidden_states[f\"layer_{i}\"][\"mlp\"].append(llm.model.layers[i].mlp.output.cpu())\n",
    "#             hidden_states[f\"layer_{i}\"][\"q_proj\"].append(llm.model.layers[i].self_attn.q_proj.output.cpu())\n",
    "#             hidden_states[f\"layer_{i}\"][\"k_proj\"].append(llm.model.layers[i].self_attn.k_proj.output.cpu())\n",
    "#         out = llm.generator.output.cpu().save()\n",
    "        \n",
    "#     decoded_prompt = llm.tokenizer.decode(out[0][0:50])\n",
    "#     decoded_answer = llm.tokenizer.decode(out[0][:])\n",
    "    \n",
    "#     if print_ans:\n",
    "#         print(f\"Prompt: {decoded_prompt}\")\n",
    "#         print(f\"Generated Answer: {decoded_answer}\")\n",
    "        \n",
    "#     if save_ans:\n",
    "#         save_text_to_file(decoded_answer, ans_filename, ans_dir_path)\n",
    "        \n",
    "#     if save_activations:\n",
    "#         save_acts_to_file(hidden_states, act_filename, act_dir_path)"
   ]
  },
  {
   "cell_type": "code",
   "execution_count": 22,
   "metadata": {},
   "outputs": [],
   "source": [
    "def save_text_to_file(text: dict,\n",
    "                      filename:str,\n",
    "                      dir_path: str):\n",
    "    \n",
    "    os.makedirs(dir_path, exist_ok=True)  \n",
    "    file_path = os.path.join(dir_path, filename)  \n",
    "    with open(file_path, \"w\", encoding=\"utf-8\") as file:\n",
    "        file.write(text)\n",
    "    print(f\"File saved at: {file_path}\")"
   ]
  },
  {
   "cell_type": "code",
   "execution_count": 36,
   "metadata": {},
   "outputs": [],
   "source": [
    "def steer_with_sae_latents(llm: LanguageModel,\n",
    "                           prompt: str, \n",
    "                           append_eos_token: bool = True,\n",
    "                           n_new_tokens: int = 200,\n",
    "                           temperature: float = 1,\n",
    "                           print_ans: bool = False,\n",
    "                           save_ans: bool = False,\n",
    "                           ans_filename: str = \"ans.txt\",\n",
    "                           ans_dir_path: str = \"/home/aansh/nnsightusage/NewExperiments/Logs/Experiment_2_sae_steering/Answers_2plus2\",\n",
    "                           save_activations: bool = False,\n",
    "                           act_filename: str = \"acts.pth\",\n",
    "                           act_dir_path: str = \"/home/aansh/nnsightusage/Logs/Check_4_Chinese_outputs/Activations\",\n",
    "                           sae: AutoEncoder = None,\n",
    "                           layer: int = 10, \n",
    "                           top_think_token_latents_indices: list = top_think_token_latents_indices,\n",
    "                           top_k_indices: int = 20,\n",
    "                           scaling_factor: int = 5):\n",
    "    \n",
    "    if append_eos_token:\n",
    "        prompt += llm.tokenizer.eos_token\n",
    "        \n",
    "    with llm.generate(prompt, max_new_tokens=n_new_tokens, temperature=temperature) as tracer:\n",
    "        for i in range(n_new_tokens):\n",
    "            if i==0:\n",
    "                lt_output = llm.model.layers[layer].mlp.output.cpu()\n",
    "                lt_latents = sae.encode(lt_output[:, -1, :].cuda())\n",
    "                for j in top_think_token_latents_indices[:top_k_indices]:\n",
    "                    lt_latents[0][j] = lt_latents[0][j] * scaling_factor\n",
    "                    \n",
    "                lt_output = sae.decode(lt_latents)\n",
    "                llm.model.layers[layer].mlp.output[:, -1, :] = lt_output\n",
    "                \n",
    "        out = llm.generator.output.cpu().save()\n",
    "        \n",
    "    decoded_answer = llm.tokenizer.decode(out[0][:])\n",
    "    \n",
    "    if print_ans:\n",
    "        print(f\"Generated Answer: {decoded_answer}\")\n",
    "        \n",
    "    if save_ans:\n",
    "        save_text_to_file(decoded_answer, ans_filename, ans_dir_path)"
   ]
  },
  {
   "cell_type": "code",
   "execution_count": 37,
   "metadata": {},
   "outputs": [],
   "source": [
    "prompt = \"\"\"\n",
    "What is 2+2?\n",
    "\"\"\""
   ]
  },
  {
   "cell_type": "code",
   "execution_count": 38,
   "metadata": {},
   "outputs": [
    {
     "name": "stderr",
     "output_type": "stream",
     "text": [
      "Setting `pad_token_id` to `eos_token_id`:151643 for open-end generation.\n"
     ]
    },
    {
     "name": "stdout",
     "output_type": "stream",
     "text": [
      "Steering Experiment: 0\n"
     ]
    },
    {
     "name": "stderr",
     "output_type": "stream",
     "text": [
      "Setting `pad_token_id` to `eos_token_id`:151643 for open-end generation.\n"
     ]
    },
    {
     "name": "stdout",
     "output_type": "stream",
     "text": [
      "File saved at: /home/aansh/nnsightusage/NewExperiments/Logs/Experiment_2_sae_steering/Answers_2plus2/ans_0.txt\n",
      "Steering Experiment: 1\n"
     ]
    },
    {
     "name": "stderr",
     "output_type": "stream",
     "text": [
      "Setting `pad_token_id` to `eos_token_id`:151643 for open-end generation.\n"
     ]
    },
    {
     "name": "stdout",
     "output_type": "stream",
     "text": [
      "File saved at: /home/aansh/nnsightusage/NewExperiments/Logs/Experiment_2_sae_steering/Answers_2plus2/ans_1.txt\n",
      "Steering Experiment: 2\n"
     ]
    },
    {
     "name": "stderr",
     "output_type": "stream",
     "text": [
      "Setting `pad_token_id` to `eos_token_id`:151643 for open-end generation.\n"
     ]
    },
    {
     "name": "stdout",
     "output_type": "stream",
     "text": [
      "File saved at: /home/aansh/nnsightusage/NewExperiments/Logs/Experiment_2_sae_steering/Answers_2plus2/ans_2.txt\n",
      "Steering Experiment: 3\n"
     ]
    },
    {
     "name": "stderr",
     "output_type": "stream",
     "text": [
      "Setting `pad_token_id` to `eos_token_id`:151643 for open-end generation.\n"
     ]
    },
    {
     "name": "stdout",
     "output_type": "stream",
     "text": [
      "File saved at: /home/aansh/nnsightusage/NewExperiments/Logs/Experiment_2_sae_steering/Answers_2plus2/ans_3.txt\n",
      "Steering Experiment: 4\n"
     ]
    },
    {
     "name": "stderr",
     "output_type": "stream",
     "text": [
      "Setting `pad_token_id` to `eos_token_id`:151643 for open-end generation.\n"
     ]
    },
    {
     "name": "stdout",
     "output_type": "stream",
     "text": [
      "File saved at: /home/aansh/nnsightusage/NewExperiments/Logs/Experiment_2_sae_steering/Answers_2plus2/ans_4.txt\n",
      "Steering Experiment: 5\n"
     ]
    },
    {
     "name": "stderr",
     "output_type": "stream",
     "text": [
      "Setting `pad_token_id` to `eos_token_id`:151643 for open-end generation.\n"
     ]
    },
    {
     "name": "stdout",
     "output_type": "stream",
     "text": [
      "File saved at: /home/aansh/nnsightusage/NewExperiments/Logs/Experiment_2_sae_steering/Answers_2plus2/ans_5.txt\n",
      "Steering Experiment: 6\n"
     ]
    },
    {
     "name": "stderr",
     "output_type": "stream",
     "text": [
      "Setting `pad_token_id` to `eos_token_id`:151643 for open-end generation.\n"
     ]
    },
    {
     "name": "stdout",
     "output_type": "stream",
     "text": [
      "File saved at: /home/aansh/nnsightusage/NewExperiments/Logs/Experiment_2_sae_steering/Answers_2plus2/ans_6.txt\n",
      "Steering Experiment: 7\n",
      "File saved at: /home/aansh/nnsightusage/NewExperiments/Logs/Experiment_2_sae_steering/Answers_2plus2/ans_7.txt\n",
      "Steering Experiment: 8\n"
     ]
    },
    {
     "name": "stderr",
     "output_type": "stream",
     "text": [
      "Setting `pad_token_id` to `eos_token_id`:151643 for open-end generation.\n",
      "Setting `pad_token_id` to `eos_token_id`:151643 for open-end generation.\n"
     ]
    },
    {
     "name": "stdout",
     "output_type": "stream",
     "text": [
      "File saved at: /home/aansh/nnsightusage/NewExperiments/Logs/Experiment_2_sae_steering/Answers_2plus2/ans_8.txt\n",
      "Steering Experiment: 9\n"
     ]
    },
    {
     "name": "stderr",
     "output_type": "stream",
     "text": [
      "Setting `pad_token_id` to `eos_token_id`:151643 for open-end generation.\n"
     ]
    },
    {
     "name": "stdout",
     "output_type": "stream",
     "text": [
      "File saved at: /home/aansh/nnsightusage/NewExperiments/Logs/Experiment_2_sae_steering/Answers_2plus2/ans_9.txt\n",
      "Steering Experiment: 10\n"
     ]
    },
    {
     "name": "stderr",
     "output_type": "stream",
     "text": [
      "Setting `pad_token_id` to `eos_token_id`:151643 for open-end generation.\n"
     ]
    },
    {
     "name": "stdout",
     "output_type": "stream",
     "text": [
      "File saved at: /home/aansh/nnsightusage/NewExperiments/Logs/Experiment_2_sae_steering/Answers_2plus2/ans_10.txt\n",
      "Steering Experiment: 11\n"
     ]
    },
    {
     "name": "stderr",
     "output_type": "stream",
     "text": [
      "Setting `pad_token_id` to `eos_token_id`:151643 for open-end generation.\n"
     ]
    },
    {
     "name": "stdout",
     "output_type": "stream",
     "text": [
      "File saved at: /home/aansh/nnsightusage/NewExperiments/Logs/Experiment_2_sae_steering/Answers_2plus2/ans_11.txt\n",
      "Steering Experiment: 12\n"
     ]
    },
    {
     "name": "stderr",
     "output_type": "stream",
     "text": [
      "Setting `pad_token_id` to `eos_token_id`:151643 for open-end generation.\n"
     ]
    },
    {
     "name": "stdout",
     "output_type": "stream",
     "text": [
      "File saved at: /home/aansh/nnsightusage/NewExperiments/Logs/Experiment_2_sae_steering/Answers_2plus2/ans_12.txt\n",
      "Steering Experiment: 13\n"
     ]
    },
    {
     "name": "stderr",
     "output_type": "stream",
     "text": [
      "Setting `pad_token_id` to `eos_token_id`:151643 for open-end generation.\n"
     ]
    },
    {
     "name": "stdout",
     "output_type": "stream",
     "text": [
      "File saved at: /home/aansh/nnsightusage/NewExperiments/Logs/Experiment_2_sae_steering/Answers_2plus2/ans_13.txt\n",
      "Steering Experiment: 14\n"
     ]
    },
    {
     "name": "stderr",
     "output_type": "stream",
     "text": [
      "Setting `pad_token_id` to `eos_token_id`:151643 for open-end generation.\n"
     ]
    },
    {
     "name": "stdout",
     "output_type": "stream",
     "text": [
      "File saved at: /home/aansh/nnsightusage/NewExperiments/Logs/Experiment_2_sae_steering/Answers_2plus2/ans_14.txt\n",
      "Steering Experiment: 15\n"
     ]
    },
    {
     "name": "stderr",
     "output_type": "stream",
     "text": [
      "Setting `pad_token_id` to `eos_token_id`:151643 for open-end generation.\n"
     ]
    },
    {
     "name": "stdout",
     "output_type": "stream",
     "text": [
      "File saved at: /home/aansh/nnsightusage/NewExperiments/Logs/Experiment_2_sae_steering/Answers_2plus2/ans_15.txt\n",
      "Steering Experiment: 16\n"
     ]
    },
    {
     "name": "stderr",
     "output_type": "stream",
     "text": [
      "Setting `pad_token_id` to `eos_token_id`:151643 for open-end generation.\n"
     ]
    },
    {
     "name": "stdout",
     "output_type": "stream",
     "text": [
      "File saved at: /home/aansh/nnsightusage/NewExperiments/Logs/Experiment_2_sae_steering/Answers_2plus2/ans_16.txt\n",
      "Steering Experiment: 17\n"
     ]
    },
    {
     "name": "stderr",
     "output_type": "stream",
     "text": [
      "Setting `pad_token_id` to `eos_token_id`:151643 for open-end generation.\n"
     ]
    },
    {
     "name": "stdout",
     "output_type": "stream",
     "text": [
      "File saved at: /home/aansh/nnsightusage/NewExperiments/Logs/Experiment_2_sae_steering/Answers_2plus2/ans_17.txt\n",
      "Steering Experiment: 18\n"
     ]
    },
    {
     "name": "stderr",
     "output_type": "stream",
     "text": [
      "Setting `pad_token_id` to `eos_token_id`:151643 for open-end generation.\n"
     ]
    },
    {
     "name": "stdout",
     "output_type": "stream",
     "text": [
      "File saved at: /home/aansh/nnsightusage/NewExperiments/Logs/Experiment_2_sae_steering/Answers_2plus2/ans_18.txt\n",
      "Steering Experiment: 19\n"
     ]
    },
    {
     "name": "stderr",
     "output_type": "stream",
     "text": [
      "Setting `pad_token_id` to `eos_token_id`:151643 for open-end generation.\n"
     ]
    },
    {
     "name": "stdout",
     "output_type": "stream",
     "text": [
      "File saved at: /home/aansh/nnsightusage/NewExperiments/Logs/Experiment_2_sae_steering/Answers_2plus2/ans_19.txt\n",
      "Steering Experiment: 20\n"
     ]
    },
    {
     "name": "stderr",
     "output_type": "stream",
     "text": [
      "Setting `pad_token_id` to `eos_token_id`:151643 for open-end generation.\n"
     ]
    },
    {
     "name": "stdout",
     "output_type": "stream",
     "text": [
      "File saved at: /home/aansh/nnsightusage/NewExperiments/Logs/Experiment_2_sae_steering/Answers_2plus2/ans_20.txt\n",
      "Steering Experiment: 21\n"
     ]
    },
    {
     "name": "stderr",
     "output_type": "stream",
     "text": [
      "Setting `pad_token_id` to `eos_token_id`:151643 for open-end generation.\n"
     ]
    },
    {
     "name": "stdout",
     "output_type": "stream",
     "text": [
      "File saved at: /home/aansh/nnsightusage/NewExperiments/Logs/Experiment_2_sae_steering/Answers_2plus2/ans_21.txt\n",
      "Steering Experiment: 22\n"
     ]
    },
    {
     "name": "stderr",
     "output_type": "stream",
     "text": [
      "Setting `pad_token_id` to `eos_token_id`:151643 for open-end generation.\n"
     ]
    },
    {
     "name": "stdout",
     "output_type": "stream",
     "text": [
      "File saved at: /home/aansh/nnsightusage/NewExperiments/Logs/Experiment_2_sae_steering/Answers_2plus2/ans_22.txt\n",
      "Steering Experiment: 23\n"
     ]
    },
    {
     "name": "stderr",
     "output_type": "stream",
     "text": [
      "Setting `pad_token_id` to `eos_token_id`:151643 for open-end generation.\n"
     ]
    },
    {
     "name": "stdout",
     "output_type": "stream",
     "text": [
      "File saved at: /home/aansh/nnsightusage/NewExperiments/Logs/Experiment_2_sae_steering/Answers_2plus2/ans_23.txt\n",
      "Steering Experiment: 24\n"
     ]
    },
    {
     "name": "stderr",
     "output_type": "stream",
     "text": [
      "Setting `pad_token_id` to `eos_token_id`:151643 for open-end generation.\n"
     ]
    },
    {
     "name": "stdout",
     "output_type": "stream",
     "text": [
      "File saved at: /home/aansh/nnsightusage/NewExperiments/Logs/Experiment_2_sae_steering/Answers_2plus2/ans_24.txt\n",
      "Steering Experiment: 25\n"
     ]
    },
    {
     "name": "stderr",
     "output_type": "stream",
     "text": [
      "Setting `pad_token_id` to `eos_token_id`:151643 for open-end generation.\n"
     ]
    },
    {
     "name": "stdout",
     "output_type": "stream",
     "text": [
      "File saved at: /home/aansh/nnsightusage/NewExperiments/Logs/Experiment_2_sae_steering/Answers_2plus2/ans_25.txt\n",
      "Steering Experiment: 26\n"
     ]
    },
    {
     "name": "stderr",
     "output_type": "stream",
     "text": [
      "Setting `pad_token_id` to `eos_token_id`:151643 for open-end generation.\n"
     ]
    },
    {
     "name": "stdout",
     "output_type": "stream",
     "text": [
      "File saved at: /home/aansh/nnsightusage/NewExperiments/Logs/Experiment_2_sae_steering/Answers_2plus2/ans_26.txt\n",
      "Steering Experiment: 27\n"
     ]
    },
    {
     "name": "stderr",
     "output_type": "stream",
     "text": [
      "Setting `pad_token_id` to `eos_token_id`:151643 for open-end generation.\n"
     ]
    },
    {
     "name": "stdout",
     "output_type": "stream",
     "text": [
      "File saved at: /home/aansh/nnsightusage/NewExperiments/Logs/Experiment_2_sae_steering/Answers_2plus2/ans_27.txt\n",
      "Steering Experiment: 28\n",
      "File saved at: /home/aansh/nnsightusage/NewExperiments/Logs/Experiment_2_sae_steering/Answers_2plus2/ans_28.txt\n",
      "Steering Experiment: 29\n"
     ]
    },
    {
     "name": "stderr",
     "output_type": "stream",
     "text": [
      "Setting `pad_token_id` to `eos_token_id`:151643 for open-end generation.\n",
      "Setting `pad_token_id` to `eos_token_id`:151643 for open-end generation.\n"
     ]
    },
    {
     "name": "stdout",
     "output_type": "stream",
     "text": [
      "File saved at: /home/aansh/nnsightusage/NewExperiments/Logs/Experiment_2_sae_steering/Answers_2plus2/ans_29.txt\n",
      "Steering Experiment: 30\n"
     ]
    },
    {
     "name": "stderr",
     "output_type": "stream",
     "text": [
      "Setting `pad_token_id` to `eos_token_id`:151643 for open-end generation.\n"
     ]
    },
    {
     "name": "stdout",
     "output_type": "stream",
     "text": [
      "File saved at: /home/aansh/nnsightusage/NewExperiments/Logs/Experiment_2_sae_steering/Answers_2plus2/ans_30.txt\n",
      "Steering Experiment: 31\n"
     ]
    },
    {
     "name": "stderr",
     "output_type": "stream",
     "text": [
      "Setting `pad_token_id` to `eos_token_id`:151643 for open-end generation.\n"
     ]
    },
    {
     "name": "stdout",
     "output_type": "stream",
     "text": [
      "File saved at: /home/aansh/nnsightusage/NewExperiments/Logs/Experiment_2_sae_steering/Answers_2plus2/ans_31.txt\n",
      "Steering Experiment: 32\n"
     ]
    },
    {
     "name": "stderr",
     "output_type": "stream",
     "text": [
      "Setting `pad_token_id` to `eos_token_id`:151643 for open-end generation.\n"
     ]
    },
    {
     "name": "stdout",
     "output_type": "stream",
     "text": [
      "File saved at: /home/aansh/nnsightusage/NewExperiments/Logs/Experiment_2_sae_steering/Answers_2plus2/ans_32.txt\n",
      "Steering Experiment: 33\n"
     ]
    },
    {
     "name": "stderr",
     "output_type": "stream",
     "text": [
      "Setting `pad_token_id` to `eos_token_id`:151643 for open-end generation.\n"
     ]
    },
    {
     "name": "stdout",
     "output_type": "stream",
     "text": [
      "File saved at: /home/aansh/nnsightusage/NewExperiments/Logs/Experiment_2_sae_steering/Answers_2plus2/ans_33.txt\n",
      "Steering Experiment: 34\n"
     ]
    },
    {
     "name": "stderr",
     "output_type": "stream",
     "text": [
      "Setting `pad_token_id` to `eos_token_id`:151643 for open-end generation.\n"
     ]
    },
    {
     "name": "stdout",
     "output_type": "stream",
     "text": [
      "File saved at: /home/aansh/nnsightusage/NewExperiments/Logs/Experiment_2_sae_steering/Answers_2plus2/ans_34.txt\n",
      "Steering Experiment: 35\n"
     ]
    },
    {
     "name": "stderr",
     "output_type": "stream",
     "text": [
      "Setting `pad_token_id` to `eos_token_id`:151643 for open-end generation.\n"
     ]
    },
    {
     "name": "stdout",
     "output_type": "stream",
     "text": [
      "File saved at: /home/aansh/nnsightusage/NewExperiments/Logs/Experiment_2_sae_steering/Answers_2plus2/ans_35.txt\n",
      "Steering Experiment: 36\n"
     ]
    },
    {
     "name": "stderr",
     "output_type": "stream",
     "text": [
      "Setting `pad_token_id` to `eos_token_id`:151643 for open-end generation.\n"
     ]
    },
    {
     "name": "stdout",
     "output_type": "stream",
     "text": [
      "File saved at: /home/aansh/nnsightusage/NewExperiments/Logs/Experiment_2_sae_steering/Answers_2plus2/ans_36.txt\n",
      "Steering Experiment: 37\n"
     ]
    },
    {
     "name": "stderr",
     "output_type": "stream",
     "text": [
      "Setting `pad_token_id` to `eos_token_id`:151643 for open-end generation.\n"
     ]
    },
    {
     "name": "stdout",
     "output_type": "stream",
     "text": [
      "File saved at: /home/aansh/nnsightusage/NewExperiments/Logs/Experiment_2_sae_steering/Answers_2plus2/ans_37.txt\n",
      "Steering Experiment: 38\n"
     ]
    },
    {
     "name": "stderr",
     "output_type": "stream",
     "text": [
      "Setting `pad_token_id` to `eos_token_id`:151643 for open-end generation.\n"
     ]
    },
    {
     "name": "stdout",
     "output_type": "stream",
     "text": [
      "File saved at: /home/aansh/nnsightusage/NewExperiments/Logs/Experiment_2_sae_steering/Answers_2plus2/ans_38.txt\n",
      "Steering Experiment: 39\n"
     ]
    },
    {
     "name": "stderr",
     "output_type": "stream",
     "text": [
      "Setting `pad_token_id` to `eos_token_id`:151643 for open-end generation.\n"
     ]
    },
    {
     "name": "stdout",
     "output_type": "stream",
     "text": [
      "File saved at: /home/aansh/nnsightusage/NewExperiments/Logs/Experiment_2_sae_steering/Answers_2plus2/ans_39.txt\n",
      "Steering Experiment: 40\n"
     ]
    },
    {
     "name": "stderr",
     "output_type": "stream",
     "text": [
      "Setting `pad_token_id` to `eos_token_id`:151643 for open-end generation.\n"
     ]
    },
    {
     "name": "stdout",
     "output_type": "stream",
     "text": [
      "File saved at: /home/aansh/nnsightusage/NewExperiments/Logs/Experiment_2_sae_steering/Answers_2plus2/ans_40.txt\n",
      "Steering Experiment: 41\n"
     ]
    },
    {
     "name": "stderr",
     "output_type": "stream",
     "text": [
      "Setting `pad_token_id` to `eos_token_id`:151643 for open-end generation.\n"
     ]
    },
    {
     "name": "stdout",
     "output_type": "stream",
     "text": [
      "File saved at: /home/aansh/nnsightusage/NewExperiments/Logs/Experiment_2_sae_steering/Answers_2plus2/ans_41.txt\n",
      "Steering Experiment: 42\n"
     ]
    },
    {
     "name": "stderr",
     "output_type": "stream",
     "text": [
      "Setting `pad_token_id` to `eos_token_id`:151643 for open-end generation.\n"
     ]
    },
    {
     "name": "stdout",
     "output_type": "stream",
     "text": [
      "File saved at: /home/aansh/nnsightusage/NewExperiments/Logs/Experiment_2_sae_steering/Answers_2plus2/ans_42.txt\n",
      "Steering Experiment: 43\n"
     ]
    },
    {
     "name": "stderr",
     "output_type": "stream",
     "text": [
      "Setting `pad_token_id` to `eos_token_id`:151643 for open-end generation.\n"
     ]
    },
    {
     "name": "stdout",
     "output_type": "stream",
     "text": [
      "File saved at: /home/aansh/nnsightusage/NewExperiments/Logs/Experiment_2_sae_steering/Answers_2plus2/ans_43.txt\n",
      "Steering Experiment: 44\n"
     ]
    },
    {
     "name": "stderr",
     "output_type": "stream",
     "text": [
      "Setting `pad_token_id` to `eos_token_id`:151643 for open-end generation.\n"
     ]
    },
    {
     "name": "stdout",
     "output_type": "stream",
     "text": [
      "File saved at: /home/aansh/nnsightusage/NewExperiments/Logs/Experiment_2_sae_steering/Answers_2plus2/ans_44.txt\n",
      "Steering Experiment: 45\n"
     ]
    },
    {
     "name": "stderr",
     "output_type": "stream",
     "text": [
      "Setting `pad_token_id` to `eos_token_id`:151643 for open-end generation.\n"
     ]
    },
    {
     "name": "stdout",
     "output_type": "stream",
     "text": [
      "File saved at: /home/aansh/nnsightusage/NewExperiments/Logs/Experiment_2_sae_steering/Answers_2plus2/ans_45.txt\n",
      "Steering Experiment: 46\n"
     ]
    },
    {
     "name": "stderr",
     "output_type": "stream",
     "text": [
      "Setting `pad_token_id` to `eos_token_id`:151643 for open-end generation.\n"
     ]
    },
    {
     "name": "stdout",
     "output_type": "stream",
     "text": [
      "File saved at: /home/aansh/nnsightusage/NewExperiments/Logs/Experiment_2_sae_steering/Answers_2plus2/ans_46.txt\n",
      "Steering Experiment: 47\n"
     ]
    },
    {
     "name": "stderr",
     "output_type": "stream",
     "text": [
      "Setting `pad_token_id` to `eos_token_id`:151643 for open-end generation.\n"
     ]
    },
    {
     "name": "stdout",
     "output_type": "stream",
     "text": [
      "File saved at: /home/aansh/nnsightusage/NewExperiments/Logs/Experiment_2_sae_steering/Answers_2plus2/ans_47.txt\n",
      "Steering Experiment: 48\n"
     ]
    },
    {
     "name": "stderr",
     "output_type": "stream",
     "text": [
      "Setting `pad_token_id` to `eos_token_id`:151643 for open-end generation.\n"
     ]
    },
    {
     "name": "stdout",
     "output_type": "stream",
     "text": [
      "File saved at: /home/aansh/nnsightusage/NewExperiments/Logs/Experiment_2_sae_steering/Answers_2plus2/ans_48.txt\n",
      "Steering Experiment: 49\n"
     ]
    },
    {
     "name": "stderr",
     "output_type": "stream",
     "text": [
      "Setting `pad_token_id` to `eos_token_id`:151643 for open-end generation.\n"
     ]
    },
    {
     "name": "stdout",
     "output_type": "stream",
     "text": [
      "File saved at: /home/aansh/nnsightusage/NewExperiments/Logs/Experiment_2_sae_steering/Answers_2plus2/ans_49.txt\n",
      "Steering Experiment: 50\n"
     ]
    },
    {
     "name": "stderr",
     "output_type": "stream",
     "text": [
      "Setting `pad_token_id` to `eos_token_id`:151643 for open-end generation.\n"
     ]
    },
    {
     "name": "stdout",
     "output_type": "stream",
     "text": [
      "File saved at: /home/aansh/nnsightusage/NewExperiments/Logs/Experiment_2_sae_steering/Answers_2plus2/ans_50.txt\n",
      "Steering Experiment: 51\n"
     ]
    },
    {
     "name": "stderr",
     "output_type": "stream",
     "text": [
      "Setting `pad_token_id` to `eos_token_id`:151643 for open-end generation.\n"
     ]
    },
    {
     "name": "stdout",
     "output_type": "stream",
     "text": [
      "File saved at: /home/aansh/nnsightusage/NewExperiments/Logs/Experiment_2_sae_steering/Answers_2plus2/ans_51.txt\n",
      "Steering Experiment: 52\n"
     ]
    },
    {
     "name": "stderr",
     "output_type": "stream",
     "text": [
      "Setting `pad_token_id` to `eos_token_id`:151643 for open-end generation.\n"
     ]
    },
    {
     "name": "stdout",
     "output_type": "stream",
     "text": [
      "File saved at: /home/aansh/nnsightusage/NewExperiments/Logs/Experiment_2_sae_steering/Answers_2plus2/ans_52.txt\n",
      "Steering Experiment: 53\n"
     ]
    },
    {
     "name": "stderr",
     "output_type": "stream",
     "text": [
      "Setting `pad_token_id` to `eos_token_id`:151643 for open-end generation.\n"
     ]
    },
    {
     "name": "stdout",
     "output_type": "stream",
     "text": [
      "File saved at: /home/aansh/nnsightusage/NewExperiments/Logs/Experiment_2_sae_steering/Answers_2plus2/ans_53.txt\n",
      "Steering Experiment: 54\n"
     ]
    },
    {
     "name": "stderr",
     "output_type": "stream",
     "text": [
      "Setting `pad_token_id` to `eos_token_id`:151643 for open-end generation.\n"
     ]
    },
    {
     "name": "stdout",
     "output_type": "stream",
     "text": [
      "File saved at: /home/aansh/nnsightusage/NewExperiments/Logs/Experiment_2_sae_steering/Answers_2plus2/ans_54.txt\n",
      "Steering Experiment: 55\n"
     ]
    },
    {
     "name": "stderr",
     "output_type": "stream",
     "text": [
      "Setting `pad_token_id` to `eos_token_id`:151643 for open-end generation.\n"
     ]
    },
    {
     "name": "stdout",
     "output_type": "stream",
     "text": [
      "File saved at: /home/aansh/nnsightusage/NewExperiments/Logs/Experiment_2_sae_steering/Answers_2plus2/ans_55.txt\n",
      "Steering Experiment: 56\n"
     ]
    },
    {
     "name": "stderr",
     "output_type": "stream",
     "text": [
      "Setting `pad_token_id` to `eos_token_id`:151643 for open-end generation.\n"
     ]
    },
    {
     "name": "stdout",
     "output_type": "stream",
     "text": [
      "File saved at: /home/aansh/nnsightusage/NewExperiments/Logs/Experiment_2_sae_steering/Answers_2plus2/ans_56.txt\n",
      "Steering Experiment: 57\n"
     ]
    },
    {
     "name": "stderr",
     "output_type": "stream",
     "text": [
      "Setting `pad_token_id` to `eos_token_id`:151643 for open-end generation.\n"
     ]
    },
    {
     "name": "stdout",
     "output_type": "stream",
     "text": [
      "File saved at: /home/aansh/nnsightusage/NewExperiments/Logs/Experiment_2_sae_steering/Answers_2plus2/ans_57.txt\n",
      "Steering Experiment: 58\n"
     ]
    },
    {
     "name": "stderr",
     "output_type": "stream",
     "text": [
      "Setting `pad_token_id` to `eos_token_id`:151643 for open-end generation.\n"
     ]
    },
    {
     "name": "stdout",
     "output_type": "stream",
     "text": [
      "File saved at: /home/aansh/nnsightusage/NewExperiments/Logs/Experiment_2_sae_steering/Answers_2plus2/ans_58.txt\n",
      "Steering Experiment: 59\n"
     ]
    },
    {
     "name": "stderr",
     "output_type": "stream",
     "text": [
      "Setting `pad_token_id` to `eos_token_id`:151643 for open-end generation.\n"
     ]
    },
    {
     "name": "stdout",
     "output_type": "stream",
     "text": [
      "File saved at: /home/aansh/nnsightusage/NewExperiments/Logs/Experiment_2_sae_steering/Answers_2plus2/ans_59.txt\n",
      "Steering Experiment: 60\n"
     ]
    },
    {
     "name": "stderr",
     "output_type": "stream",
     "text": [
      "Setting `pad_token_id` to `eos_token_id`:151643 for open-end generation.\n"
     ]
    },
    {
     "name": "stdout",
     "output_type": "stream",
     "text": [
      "File saved at: /home/aansh/nnsightusage/NewExperiments/Logs/Experiment_2_sae_steering/Answers_2plus2/ans_60.txt\n",
      "Steering Experiment: 61\n"
     ]
    },
    {
     "name": "stderr",
     "output_type": "stream",
     "text": [
      "Setting `pad_token_id` to `eos_token_id`:151643 for open-end generation.\n"
     ]
    },
    {
     "name": "stdout",
     "output_type": "stream",
     "text": [
      "File saved at: /home/aansh/nnsightusage/NewExperiments/Logs/Experiment_2_sae_steering/Answers_2plus2/ans_61.txt\n",
      "Steering Experiment: 62\n"
     ]
    },
    {
     "name": "stderr",
     "output_type": "stream",
     "text": [
      "Setting `pad_token_id` to `eos_token_id`:151643 for open-end generation.\n"
     ]
    },
    {
     "name": "stdout",
     "output_type": "stream",
     "text": [
      "File saved at: /home/aansh/nnsightusage/NewExperiments/Logs/Experiment_2_sae_steering/Answers_2plus2/ans_62.txt\n",
      "Steering Experiment: 63\n"
     ]
    },
    {
     "name": "stderr",
     "output_type": "stream",
     "text": [
      "Setting `pad_token_id` to `eos_token_id`:151643 for open-end generation.\n"
     ]
    },
    {
     "name": "stdout",
     "output_type": "stream",
     "text": [
      "File saved at: /home/aansh/nnsightusage/NewExperiments/Logs/Experiment_2_sae_steering/Answers_2plus2/ans_63.txt\n",
      "Steering Experiment: 64\n"
     ]
    },
    {
     "name": "stderr",
     "output_type": "stream",
     "text": [
      "Setting `pad_token_id` to `eos_token_id`:151643 for open-end generation.\n"
     ]
    },
    {
     "name": "stdout",
     "output_type": "stream",
     "text": [
      "File saved at: /home/aansh/nnsightusage/NewExperiments/Logs/Experiment_2_sae_steering/Answers_2plus2/ans_64.txt\n",
      "Steering Experiment: 65\n"
     ]
    },
    {
     "name": "stderr",
     "output_type": "stream",
     "text": [
      "Setting `pad_token_id` to `eos_token_id`:151643 for open-end generation.\n"
     ]
    },
    {
     "name": "stdout",
     "output_type": "stream",
     "text": [
      "File saved at: /home/aansh/nnsightusage/NewExperiments/Logs/Experiment_2_sae_steering/Answers_2plus2/ans_65.txt\n",
      "Steering Experiment: 66\n"
     ]
    },
    {
     "name": "stderr",
     "output_type": "stream",
     "text": [
      "Setting `pad_token_id` to `eos_token_id`:151643 for open-end generation.\n"
     ]
    },
    {
     "name": "stdout",
     "output_type": "stream",
     "text": [
      "File saved at: /home/aansh/nnsightusage/NewExperiments/Logs/Experiment_2_sae_steering/Answers_2plus2/ans_66.txt\n",
      "Steering Experiment: 67\n"
     ]
    },
    {
     "name": "stderr",
     "output_type": "stream",
     "text": [
      "Setting `pad_token_id` to `eos_token_id`:151643 for open-end generation.\n"
     ]
    },
    {
     "name": "stdout",
     "output_type": "stream",
     "text": [
      "File saved at: /home/aansh/nnsightusage/NewExperiments/Logs/Experiment_2_sae_steering/Answers_2plus2/ans_67.txt\n",
      "Steering Experiment: 68\n"
     ]
    },
    {
     "name": "stderr",
     "output_type": "stream",
     "text": [
      "Setting `pad_token_id` to `eos_token_id`:151643 for open-end generation.\n"
     ]
    },
    {
     "name": "stdout",
     "output_type": "stream",
     "text": [
      "File saved at: /home/aansh/nnsightusage/NewExperiments/Logs/Experiment_2_sae_steering/Answers_2plus2/ans_68.txt\n",
      "Steering Experiment: 69\n"
     ]
    },
    {
     "name": "stderr",
     "output_type": "stream",
     "text": [
      "Setting `pad_token_id` to `eos_token_id`:151643 for open-end generation.\n"
     ]
    },
    {
     "name": "stdout",
     "output_type": "stream",
     "text": [
      "File saved at: /home/aansh/nnsightusage/NewExperiments/Logs/Experiment_2_sae_steering/Answers_2plus2/ans_69.txt\n",
      "Steering Experiment: 70\n"
     ]
    },
    {
     "name": "stderr",
     "output_type": "stream",
     "text": [
      "Setting `pad_token_id` to `eos_token_id`:151643 for open-end generation.\n"
     ]
    },
    {
     "name": "stdout",
     "output_type": "stream",
     "text": [
      "File saved at: /home/aansh/nnsightusage/NewExperiments/Logs/Experiment_2_sae_steering/Answers_2plus2/ans_70.txt\n",
      "Steering Experiment: 71\n"
     ]
    },
    {
     "name": "stderr",
     "output_type": "stream",
     "text": [
      "Setting `pad_token_id` to `eos_token_id`:151643 for open-end generation.\n"
     ]
    },
    {
     "name": "stdout",
     "output_type": "stream",
     "text": [
      "File saved at: /home/aansh/nnsightusage/NewExperiments/Logs/Experiment_2_sae_steering/Answers_2plus2/ans_71.txt\n",
      "Steering Experiment: 72\n"
     ]
    },
    {
     "name": "stderr",
     "output_type": "stream",
     "text": [
      "Setting `pad_token_id` to `eos_token_id`:151643 for open-end generation.\n"
     ]
    },
    {
     "name": "stdout",
     "output_type": "stream",
     "text": [
      "File saved at: /home/aansh/nnsightusage/NewExperiments/Logs/Experiment_2_sae_steering/Answers_2plus2/ans_72.txt\n",
      "Steering Experiment: 73\n"
     ]
    },
    {
     "name": "stderr",
     "output_type": "stream",
     "text": [
      "Setting `pad_token_id` to `eos_token_id`:151643 for open-end generation.\n"
     ]
    },
    {
     "name": "stdout",
     "output_type": "stream",
     "text": [
      "File saved at: /home/aansh/nnsightusage/NewExperiments/Logs/Experiment_2_sae_steering/Answers_2plus2/ans_73.txt\n",
      "Steering Experiment: 74\n"
     ]
    },
    {
     "name": "stderr",
     "output_type": "stream",
     "text": [
      "Setting `pad_token_id` to `eos_token_id`:151643 for open-end generation.\n"
     ]
    },
    {
     "name": "stdout",
     "output_type": "stream",
     "text": [
      "File saved at: /home/aansh/nnsightusage/NewExperiments/Logs/Experiment_2_sae_steering/Answers_2plus2/ans_74.txt\n",
      "Steering Experiment: 75\n"
     ]
    },
    {
     "name": "stderr",
     "output_type": "stream",
     "text": [
      "Setting `pad_token_id` to `eos_token_id`:151643 for open-end generation.\n"
     ]
    },
    {
     "name": "stdout",
     "output_type": "stream",
     "text": [
      "File saved at: /home/aansh/nnsightusage/NewExperiments/Logs/Experiment_2_sae_steering/Answers_2plus2/ans_75.txt\n",
      "Steering Experiment: 76\n"
     ]
    },
    {
     "name": "stderr",
     "output_type": "stream",
     "text": [
      "Setting `pad_token_id` to `eos_token_id`:151643 for open-end generation.\n"
     ]
    },
    {
     "name": "stdout",
     "output_type": "stream",
     "text": [
      "File saved at: /home/aansh/nnsightusage/NewExperiments/Logs/Experiment_2_sae_steering/Answers_2plus2/ans_76.txt\n",
      "Steering Experiment: 77\n"
     ]
    },
    {
     "name": "stderr",
     "output_type": "stream",
     "text": [
      "Setting `pad_token_id` to `eos_token_id`:151643 for open-end generation.\n"
     ]
    },
    {
     "name": "stdout",
     "output_type": "stream",
     "text": [
      "File saved at: /home/aansh/nnsightusage/NewExperiments/Logs/Experiment_2_sae_steering/Answers_2plus2/ans_77.txt\n",
      "Steering Experiment: 78\n"
     ]
    },
    {
     "name": "stderr",
     "output_type": "stream",
     "text": [
      "Setting `pad_token_id` to `eos_token_id`:151643 for open-end generation.\n"
     ]
    },
    {
     "name": "stdout",
     "output_type": "stream",
     "text": [
      "File saved at: /home/aansh/nnsightusage/NewExperiments/Logs/Experiment_2_sae_steering/Answers_2plus2/ans_78.txt\n",
      "Steering Experiment: 79\n"
     ]
    },
    {
     "name": "stderr",
     "output_type": "stream",
     "text": [
      "Setting `pad_token_id` to `eos_token_id`:151643 for open-end generation.\n"
     ]
    },
    {
     "name": "stdout",
     "output_type": "stream",
     "text": [
      "File saved at: /home/aansh/nnsightusage/NewExperiments/Logs/Experiment_2_sae_steering/Answers_2plus2/ans_79.txt\n",
      "Steering Experiment: 80\n"
     ]
    },
    {
     "name": "stderr",
     "output_type": "stream",
     "text": [
      "Setting `pad_token_id` to `eos_token_id`:151643 for open-end generation.\n"
     ]
    },
    {
     "name": "stdout",
     "output_type": "stream",
     "text": [
      "File saved at: /home/aansh/nnsightusage/NewExperiments/Logs/Experiment_2_sae_steering/Answers_2plus2/ans_80.txt\n",
      "Steering Experiment: 81\n"
     ]
    },
    {
     "name": "stderr",
     "output_type": "stream",
     "text": [
      "Setting `pad_token_id` to `eos_token_id`:151643 for open-end generation.\n"
     ]
    },
    {
     "name": "stdout",
     "output_type": "stream",
     "text": [
      "File saved at: /home/aansh/nnsightusage/NewExperiments/Logs/Experiment_2_sae_steering/Answers_2plus2/ans_81.txt\n",
      "Steering Experiment: 82\n"
     ]
    },
    {
     "name": "stderr",
     "output_type": "stream",
     "text": [
      "Setting `pad_token_id` to `eos_token_id`:151643 for open-end generation.\n"
     ]
    },
    {
     "name": "stdout",
     "output_type": "stream",
     "text": [
      "File saved at: /home/aansh/nnsightusage/NewExperiments/Logs/Experiment_2_sae_steering/Answers_2plus2/ans_82.txt\n",
      "Steering Experiment: 83\n"
     ]
    },
    {
     "name": "stderr",
     "output_type": "stream",
     "text": [
      "Setting `pad_token_id` to `eos_token_id`:151643 for open-end generation.\n"
     ]
    },
    {
     "name": "stdout",
     "output_type": "stream",
     "text": [
      "File saved at: /home/aansh/nnsightusage/NewExperiments/Logs/Experiment_2_sae_steering/Answers_2plus2/ans_83.txt\n",
      "Steering Experiment: 84\n"
     ]
    },
    {
     "name": "stderr",
     "output_type": "stream",
     "text": [
      "Setting `pad_token_id` to `eos_token_id`:151643 for open-end generation.\n"
     ]
    },
    {
     "name": "stdout",
     "output_type": "stream",
     "text": [
      "File saved at: /home/aansh/nnsightusage/NewExperiments/Logs/Experiment_2_sae_steering/Answers_2plus2/ans_84.txt\n",
      "Steering Experiment: 85\n"
     ]
    },
    {
     "name": "stderr",
     "output_type": "stream",
     "text": [
      "Setting `pad_token_id` to `eos_token_id`:151643 for open-end generation.\n"
     ]
    },
    {
     "name": "stdout",
     "output_type": "stream",
     "text": [
      "File saved at: /home/aansh/nnsightusage/NewExperiments/Logs/Experiment_2_sae_steering/Answers_2plus2/ans_85.txt\n",
      "Steering Experiment: 86\n"
     ]
    },
    {
     "name": "stderr",
     "output_type": "stream",
     "text": [
      "Setting `pad_token_id` to `eos_token_id`:151643 for open-end generation.\n"
     ]
    },
    {
     "name": "stdout",
     "output_type": "stream",
     "text": [
      "File saved at: /home/aansh/nnsightusage/NewExperiments/Logs/Experiment_2_sae_steering/Answers_2plus2/ans_86.txt\n",
      "Steering Experiment: 87\n"
     ]
    },
    {
     "name": "stderr",
     "output_type": "stream",
     "text": [
      "Setting `pad_token_id` to `eos_token_id`:151643 for open-end generation.\n"
     ]
    },
    {
     "name": "stdout",
     "output_type": "stream",
     "text": [
      "File saved at: /home/aansh/nnsightusage/NewExperiments/Logs/Experiment_2_sae_steering/Answers_2plus2/ans_87.txt\n",
      "Steering Experiment: 88\n",
      "File saved at: /home/aansh/nnsightusage/NewExperiments/Logs/Experiment_2_sae_steering/Answers_2plus2/ans_88.txt\n",
      "Steering Experiment: 89\n"
     ]
    },
    {
     "name": "stderr",
     "output_type": "stream",
     "text": [
      "Setting `pad_token_id` to `eos_token_id`:151643 for open-end generation.\n",
      "Setting `pad_token_id` to `eos_token_id`:151643 for open-end generation.\n"
     ]
    },
    {
     "name": "stdout",
     "output_type": "stream",
     "text": [
      "File saved at: /home/aansh/nnsightusage/NewExperiments/Logs/Experiment_2_sae_steering/Answers_2plus2/ans_89.txt\n",
      "Steering Experiment: 90\n"
     ]
    },
    {
     "name": "stderr",
     "output_type": "stream",
     "text": [
      "Setting `pad_token_id` to `eos_token_id`:151643 for open-end generation.\n"
     ]
    },
    {
     "name": "stdout",
     "output_type": "stream",
     "text": [
      "File saved at: /home/aansh/nnsightusage/NewExperiments/Logs/Experiment_2_sae_steering/Answers_2plus2/ans_90.txt\n",
      "Steering Experiment: 91\n"
     ]
    },
    {
     "name": "stderr",
     "output_type": "stream",
     "text": [
      "Setting `pad_token_id` to `eos_token_id`:151643 for open-end generation.\n"
     ]
    },
    {
     "name": "stdout",
     "output_type": "stream",
     "text": [
      "File saved at: /home/aansh/nnsightusage/NewExperiments/Logs/Experiment_2_sae_steering/Answers_2plus2/ans_91.txt\n",
      "Steering Experiment: 92\n"
     ]
    },
    {
     "name": "stderr",
     "output_type": "stream",
     "text": [
      "Setting `pad_token_id` to `eos_token_id`:151643 for open-end generation.\n"
     ]
    },
    {
     "name": "stdout",
     "output_type": "stream",
     "text": [
      "File saved at: /home/aansh/nnsightusage/NewExperiments/Logs/Experiment_2_sae_steering/Answers_2plus2/ans_92.txt\n",
      "Steering Experiment: 93\n"
     ]
    },
    {
     "name": "stderr",
     "output_type": "stream",
     "text": [
      "Setting `pad_token_id` to `eos_token_id`:151643 for open-end generation.\n"
     ]
    },
    {
     "name": "stdout",
     "output_type": "stream",
     "text": [
      "File saved at: /home/aansh/nnsightusage/NewExperiments/Logs/Experiment_2_sae_steering/Answers_2plus2/ans_93.txt\n",
      "Steering Experiment: 94\n"
     ]
    },
    {
     "name": "stderr",
     "output_type": "stream",
     "text": [
      "Setting `pad_token_id` to `eos_token_id`:151643 for open-end generation.\n"
     ]
    },
    {
     "name": "stdout",
     "output_type": "stream",
     "text": [
      "File saved at: /home/aansh/nnsightusage/NewExperiments/Logs/Experiment_2_sae_steering/Answers_2plus2/ans_94.txt\n",
      "Steering Experiment: 95\n"
     ]
    },
    {
     "name": "stderr",
     "output_type": "stream",
     "text": [
      "Setting `pad_token_id` to `eos_token_id`:151643 for open-end generation.\n"
     ]
    },
    {
     "name": "stdout",
     "output_type": "stream",
     "text": [
      "File saved at: /home/aansh/nnsightusage/NewExperiments/Logs/Experiment_2_sae_steering/Answers_2plus2/ans_95.txt\n",
      "Steering Experiment: 96\n"
     ]
    },
    {
     "name": "stderr",
     "output_type": "stream",
     "text": [
      "Setting `pad_token_id` to `eos_token_id`:151643 for open-end generation.\n"
     ]
    },
    {
     "name": "stdout",
     "output_type": "stream",
     "text": [
      "File saved at: /home/aansh/nnsightusage/NewExperiments/Logs/Experiment_2_sae_steering/Answers_2plus2/ans_96.txt\n",
      "Steering Experiment: 97\n"
     ]
    },
    {
     "name": "stderr",
     "output_type": "stream",
     "text": [
      "Setting `pad_token_id` to `eos_token_id`:151643 for open-end generation.\n"
     ]
    },
    {
     "name": "stdout",
     "output_type": "stream",
     "text": [
      "File saved at: /home/aansh/nnsightusage/NewExperiments/Logs/Experiment_2_sae_steering/Answers_2plus2/ans_97.txt\n",
      "Steering Experiment: 98\n"
     ]
    },
    {
     "name": "stderr",
     "output_type": "stream",
     "text": [
      "Setting `pad_token_id` to `eos_token_id`:151643 for open-end generation.\n"
     ]
    },
    {
     "name": "stdout",
     "output_type": "stream",
     "text": [
      "File saved at: /home/aansh/nnsightusage/NewExperiments/Logs/Experiment_2_sae_steering/Answers_2plus2/ans_98.txt\n",
      "Steering Experiment: 99\n",
      "File saved at: /home/aansh/nnsightusage/NewExperiments/Logs/Experiment_2_sae_steering/Answers_2plus2/ans_99.txt\n"
     ]
    }
   ],
   "source": [
    "for i in range(100):\n",
    "    print(f\"Steering Experiment: {i}\")\n",
    "    steer_with_sae_latents(llm, prompt, sae=sae, save_ans=True, layer=0, ans_filename=f\"ans_{i}.txt\")"
   ]
  },
  {
   "cell_type": "code",
   "execution_count": 31,
   "metadata": {},
   "outputs": [
    {
     "name": "stdout",
     "output_type": "stream",
     "text": [
      "78\n"
     ]
    }
   ],
   "source": [
    "steered_ans_dir_path = \"/home/aansh/nnsightusage/NewExperiments/Logs/Experiment_2_sae_steering/Answers\"\n",
    "steered_ans_files = os.listdir(steered_ans_dir_path)\n",
    "steered_ans_files.sort()\n",
    "\n",
    "count = 0\n",
    "for filename in steered_ans_files:\n",
    "    filePath = os.path.join(steered_ans_dir_path, filename)\n",
    "    with open(filePath, \"r\", encoding=\"utf-8\") as file:\n",
    "        text = file.read().strip()\n",
    "    \n",
    "    if \"</think>\" in text:\n",
    "        count += 1\n",
    "    \n",
    "print(count)"
   ]
  },
  {
   "cell_type": "code",
   "execution_count": 39,
   "metadata": {},
   "outputs": [
    {
     "name": "stdout",
     "output_type": "stream",
     "text": [
      "100\n"
     ]
    }
   ],
   "source": [
    "steered_ans_dir_path = \"/home/aansh/nnsightusage/NewExperiments/Logs/Experiment_2_sae_steering/Answers_2plus2\"\n",
    "steered_ans_files = os.listdir(steered_ans_dir_path)\n",
    "steered_ans_files.sort()\n",
    "\n",
    "count = 0\n",
    "for filename in steered_ans_files:\n",
    "    filePath = os.path.join(steered_ans_dir_path, filename)\n",
    "    with open(filePath, \"r\", encoding=\"utf-8\") as file:\n",
    "        text = file.read().strip()\n",
    "    \n",
    "    if \"</think>\" in text:\n",
    "        count += 1\n",
    "    \n",
    "print(count)"
   ]
  },
  {
   "cell_type": "code",
   "execution_count": 41,
   "metadata": {},
   "outputs": [],
   "source": [
    "# def steer_with_sae_latents(llm: LanguageModel,\n",
    "#                            prompt: str, \n",
    "#                            append_eos_token: bool = True,\n",
    "#                            n_new_tokens: int = 200,\n",
    "#                            temperature: float = 1,\n",
    "#                            print_ans: bool = False,\n",
    "#                            save_ans: bool = False,\n",
    "#                            ans_filename: str = \"ans.txt\",\n",
    "#                            ans_dir_path: str = \"/home/aansh/nnsightusage/NewExperiments/Logs/Experiment_2_sae_steering/Answers_2plus2\",\n",
    "#                            save_activations: bool = False,\n",
    "#                            act_filename: str = \"acts.pth\",\n",
    "#                            act_dir_path: str = \"/home/aansh/nnsightusage/Logs/Check_4_Chinese_outputs/Activations\",\n",
    "#                            sae: AutoEncoder = None,\n",
    "#                            layer: int = 10, \n",
    "#                            top_think_token_latents_indices: list = top_think_token_latents_indices,\n",
    "#                            top_k_indices: int = 20,\n",
    "#                            scaling_factor: int = 5):\n",
    "    \n",
    "#     if append_eos_token:\n",
    "#         prompt += llm.tokenizer.eos_token\n",
    "        \n",
    "#     with llm.generate(prompt, max_new_tokens=n_new_tokens, temperature=temperature) as tracer:\n",
    "#         for i in range(n_new_tokens):\n",
    "#             if i==0:\n",
    "#                 lt_output = llm.model.layers[layer].mlp.output.cpu()\n",
    "#                 lt_latents = sae.encode(lt_output[:, -1, :].cuda())\n",
    "#                 for j in top_think_token_latents_indices[:top_k_indices]:\n",
    "#                     lt_latents[0][j] = lt_latents[0][j] * scaling_factor\n",
    "                    \n",
    "#                 lt_output = sae.decode(lt_latents)\n",
    "#                 llm.model.layers[layer].mlp.output[:, -1, :] = lt_output\n",
    "                \n",
    "#         out = llm.generator.output.cpu().save()\n",
    "        \n",
    "#     decoded_answer = llm.tokenizer.decode(out[0][:])\n",
    "    \n",
    "#     if print_ans:\n",
    "#         print(f\"Generated Answer: {decoded_answer}\")\n",
    "        \n",
    "#     if save_ans:\n",
    "#         save_text_to_file(decoded_answer, ans_filename, ans_dir_path)"
   ]
  },
  {
   "cell_type": "code",
   "execution_count": 42,
   "metadata": {},
   "outputs": [],
   "source": [
    "prompt = \"\"\"\n",
    "What is 2+2?\n",
    "\"\"\""
   ]
  },
  {
   "cell_type": "code",
   "execution_count": 44,
   "metadata": {},
   "outputs": [],
   "source": [
    "def generate_output(llm: LanguageModel,\n",
    "                    prompt:str,\n",
    "                    append_eos_token: bool = True,\n",
    "                    n_new_tokens:int = 200,\n",
    "                    temperature: float = 1,\n",
    "                    print_ans: bool = True,\n",
    "                    save_ans: bool = False, \n",
    "                    ans_filename: str = \"ans.txt\",\n",
    "                    ans_dir_path: str = \"/home/aansh/nnsightusage/NewExperiments/Logs/Experiment_2_sae_steering/Answers_2plus2_pure\",\n",
    "                    save_activations: bool = False,\n",
    "                    act_filename: str = \"acts.pth\",\n",
    "                    act_dir_path: str = \"/home/aansh/nnsightusage/Logs/Check_4_Chinese_outputs/Activations\"):\n",
    "    \n",
    "    if append_eos_token:\n",
    "        prompt += llm.tokenizer.eos_token\n",
    "    \n",
    "    with llm.generate(prompt, max_new_tokens=n_new_tokens, temperature=temperature) as tracer:\n",
    "        out = llm.generator.output.cpu().save()\n",
    "        \n",
    "    decoded_prompt = llm.tokenizer.decode(out[0][0:50])\n",
    "    decoded_answer = llm.tokenizer.decode(out[0][:])\n",
    "    \n",
    "    if print_ans:\n",
    "        print(f\"Prompt: {decoded_prompt}\")\n",
    "        print(f\"Generated Answer: {decoded_answer}\")\n",
    "        \n",
    "    if save_ans:\n",
    "        save_text_to_file(decoded_answer, ans_filename, ans_dir_path)"
   ]
  },
  {
   "cell_type": "code",
   "execution_count": 47,
   "metadata": {},
   "outputs": [
    {
     "name": "stdout",
     "output_type": "stream",
     "text": [
      "Qwen2ForCausalLM(\n",
      "  (model): Qwen2Model(\n",
      "    (embed_tokens): Embedding(151936, 1536)\n",
      "    (layers): ModuleList(\n",
      "      (0-27): 28 x Qwen2DecoderLayer(\n",
      "        (self_attn): Qwen2Attention(\n",
      "          (q_proj): Linear(in_features=1536, out_features=1536, bias=True)\n",
      "          (k_proj): Linear(in_features=1536, out_features=256, bias=True)\n",
      "          (v_proj): Linear(in_features=1536, out_features=256, bias=True)\n",
      "          (o_proj): Linear(in_features=1536, out_features=1536, bias=False)\n",
      "        )\n",
      "        (mlp): Qwen2MLP(\n",
      "          (gate_proj): Linear(in_features=1536, out_features=8960, bias=False)\n",
      "          (up_proj): Linear(in_features=1536, out_features=8960, bias=False)\n",
      "          (down_proj): Linear(in_features=8960, out_features=1536, bias=False)\n",
      "          (act_fn): SiLU()\n",
      "        )\n",
      "        (input_layernorm): Qwen2RMSNorm((1536,), eps=1e-06)\n",
      "        (post_attention_layernorm): Qwen2RMSNorm((1536,), eps=1e-06)\n",
      "      )\n",
      "    )\n",
      "    (norm): Qwen2RMSNorm((1536,), eps=1e-06)\n",
      "    (rotary_emb): Qwen2RotaryEmbedding()\n",
      "  )\n",
      "  (lm_head): Linear(in_features=1536, out_features=151936, bias=False)\n",
      "  (generator): Generator(\n",
      "    (streamer): Streamer()\n",
      "  )\n",
      ")\n"
     ]
    }
   ],
   "source": [
    "llm_2 = LanguageModel(\"deepseek-ai/DeepSeek-R1-Distill-Qwen-1.5B\", device_map=\"auto\")\n",
    "print(llm_2)"
   ]
  },
  {
   "cell_type": "code",
   "execution_count": 49,
   "metadata": {},
   "outputs": [
    {
     "name": "stdout",
     "output_type": "stream",
     "text": [
      "Steering Experiment: 0\n"
     ]
    },
    {
     "name": "stderr",
     "output_type": "stream",
     "text": [
      "Setting `pad_token_id` to `eos_token_id`:151643 for open-end generation.\n",
      "Setting `pad_token_id` to `eos_token_id`:151643 for open-end generation.\n"
     ]
    },
    {
     "name": "stdout",
     "output_type": "stream",
     "text": [
      "File saved at: /home/aansh/nnsightusage/NewExperiments/Logs/Experiment_2_sae_steering/Answers_2plus2_pure/ans_0.txt\n",
      "Steering Experiment: 1\n"
     ]
    },
    {
     "name": "stderr",
     "output_type": "stream",
     "text": [
      "Setting `pad_token_id` to `eos_token_id`:151643 for open-end generation.\n"
     ]
    },
    {
     "name": "stdout",
     "output_type": "stream",
     "text": [
      "File saved at: /home/aansh/nnsightusage/NewExperiments/Logs/Experiment_2_sae_steering/Answers_2plus2_pure/ans_1.txt\n",
      "Steering Experiment: 2\n"
     ]
    },
    {
     "name": "stderr",
     "output_type": "stream",
     "text": [
      "Setting `pad_token_id` to `eos_token_id`:151643 for open-end generation.\n"
     ]
    },
    {
     "name": "stdout",
     "output_type": "stream",
     "text": [
      "File saved at: /home/aansh/nnsightusage/NewExperiments/Logs/Experiment_2_sae_steering/Answers_2plus2_pure/ans_2.txt\n",
      "Steering Experiment: 3\n"
     ]
    },
    {
     "name": "stderr",
     "output_type": "stream",
     "text": [
      "Setting `pad_token_id` to `eos_token_id`:151643 for open-end generation.\n"
     ]
    },
    {
     "name": "stdout",
     "output_type": "stream",
     "text": [
      "File saved at: /home/aansh/nnsightusage/NewExperiments/Logs/Experiment_2_sae_steering/Answers_2plus2_pure/ans_3.txt\n",
      "Steering Experiment: 4\n"
     ]
    },
    {
     "name": "stderr",
     "output_type": "stream",
     "text": [
      "Setting `pad_token_id` to `eos_token_id`:151643 for open-end generation.\n"
     ]
    },
    {
     "name": "stdout",
     "output_type": "stream",
     "text": [
      "File saved at: /home/aansh/nnsightusage/NewExperiments/Logs/Experiment_2_sae_steering/Answers_2plus2_pure/ans_4.txt\n",
      "Steering Experiment: 5\n"
     ]
    },
    {
     "name": "stderr",
     "output_type": "stream",
     "text": [
      "Setting `pad_token_id` to `eos_token_id`:151643 for open-end generation.\n"
     ]
    },
    {
     "name": "stdout",
     "output_type": "stream",
     "text": [
      "File saved at: /home/aansh/nnsightusage/NewExperiments/Logs/Experiment_2_sae_steering/Answers_2plus2_pure/ans_5.txt\n",
      "Steering Experiment: 6\n"
     ]
    },
    {
     "name": "stderr",
     "output_type": "stream",
     "text": [
      "Setting `pad_token_id` to `eos_token_id`:151643 for open-end generation.\n"
     ]
    },
    {
     "name": "stdout",
     "output_type": "stream",
     "text": [
      "File saved at: /home/aansh/nnsightusage/NewExperiments/Logs/Experiment_2_sae_steering/Answers_2plus2_pure/ans_6.txt\n",
      "Steering Experiment: 7\n"
     ]
    },
    {
     "name": "stderr",
     "output_type": "stream",
     "text": [
      "Setting `pad_token_id` to `eos_token_id`:151643 for open-end generation.\n"
     ]
    },
    {
     "name": "stdout",
     "output_type": "stream",
     "text": [
      "File saved at: /home/aansh/nnsightusage/NewExperiments/Logs/Experiment_2_sae_steering/Answers_2plus2_pure/ans_7.txt\n",
      "Steering Experiment: 8\n"
     ]
    },
    {
     "name": "stderr",
     "output_type": "stream",
     "text": [
      "Setting `pad_token_id` to `eos_token_id`:151643 for open-end generation.\n"
     ]
    },
    {
     "name": "stdout",
     "output_type": "stream",
     "text": [
      "File saved at: /home/aansh/nnsightusage/NewExperiments/Logs/Experiment_2_sae_steering/Answers_2plus2_pure/ans_8.txt\n",
      "Steering Experiment: 9\n"
     ]
    },
    {
     "name": "stderr",
     "output_type": "stream",
     "text": [
      "Setting `pad_token_id` to `eos_token_id`:151643 for open-end generation.\n"
     ]
    },
    {
     "name": "stdout",
     "output_type": "stream",
     "text": [
      "File saved at: /home/aansh/nnsightusage/NewExperiments/Logs/Experiment_2_sae_steering/Answers_2plus2_pure/ans_9.txt\n",
      "Steering Experiment: 10\n"
     ]
    },
    {
     "name": "stderr",
     "output_type": "stream",
     "text": [
      "Setting `pad_token_id` to `eos_token_id`:151643 for open-end generation.\n"
     ]
    },
    {
     "name": "stdout",
     "output_type": "stream",
     "text": [
      "File saved at: /home/aansh/nnsightusage/NewExperiments/Logs/Experiment_2_sae_steering/Answers_2plus2_pure/ans_10.txt\n",
      "Steering Experiment: 11\n"
     ]
    },
    {
     "name": "stderr",
     "output_type": "stream",
     "text": [
      "Setting `pad_token_id` to `eos_token_id`:151643 for open-end generation.\n"
     ]
    },
    {
     "name": "stdout",
     "output_type": "stream",
     "text": [
      "File saved at: /home/aansh/nnsightusage/NewExperiments/Logs/Experiment_2_sae_steering/Answers_2plus2_pure/ans_11.txt\n",
      "Steering Experiment: 12\n"
     ]
    },
    {
     "name": "stderr",
     "output_type": "stream",
     "text": [
      "Setting `pad_token_id` to `eos_token_id`:151643 for open-end generation.\n"
     ]
    },
    {
     "name": "stdout",
     "output_type": "stream",
     "text": [
      "File saved at: /home/aansh/nnsightusage/NewExperiments/Logs/Experiment_2_sae_steering/Answers_2plus2_pure/ans_12.txt\n",
      "Steering Experiment: 13\n"
     ]
    },
    {
     "name": "stderr",
     "output_type": "stream",
     "text": [
      "Setting `pad_token_id` to `eos_token_id`:151643 for open-end generation.\n"
     ]
    },
    {
     "name": "stdout",
     "output_type": "stream",
     "text": [
      "File saved at: /home/aansh/nnsightusage/NewExperiments/Logs/Experiment_2_sae_steering/Answers_2plus2_pure/ans_13.txt\n",
      "Steering Experiment: 14\n"
     ]
    },
    {
     "name": "stderr",
     "output_type": "stream",
     "text": [
      "Setting `pad_token_id` to `eos_token_id`:151643 for open-end generation.\n"
     ]
    },
    {
     "name": "stdout",
     "output_type": "stream",
     "text": [
      "File saved at: /home/aansh/nnsightusage/NewExperiments/Logs/Experiment_2_sae_steering/Answers_2plus2_pure/ans_14.txt\n",
      "Steering Experiment: 15\n"
     ]
    },
    {
     "name": "stderr",
     "output_type": "stream",
     "text": [
      "Setting `pad_token_id` to `eos_token_id`:151643 for open-end generation.\n"
     ]
    },
    {
     "name": "stdout",
     "output_type": "stream",
     "text": [
      "File saved at: /home/aansh/nnsightusage/NewExperiments/Logs/Experiment_2_sae_steering/Answers_2plus2_pure/ans_15.txt\n",
      "Steering Experiment: 16\n"
     ]
    },
    {
     "name": "stderr",
     "output_type": "stream",
     "text": [
      "Setting `pad_token_id` to `eos_token_id`:151643 for open-end generation.\n"
     ]
    },
    {
     "name": "stdout",
     "output_type": "stream",
     "text": [
      "File saved at: /home/aansh/nnsightusage/NewExperiments/Logs/Experiment_2_sae_steering/Answers_2plus2_pure/ans_16.txt\n",
      "Steering Experiment: 17\n"
     ]
    },
    {
     "name": "stderr",
     "output_type": "stream",
     "text": [
      "Setting `pad_token_id` to `eos_token_id`:151643 for open-end generation.\n"
     ]
    },
    {
     "name": "stdout",
     "output_type": "stream",
     "text": [
      "File saved at: /home/aansh/nnsightusage/NewExperiments/Logs/Experiment_2_sae_steering/Answers_2plus2_pure/ans_17.txt\n",
      "Steering Experiment: 18\n"
     ]
    },
    {
     "name": "stderr",
     "output_type": "stream",
     "text": [
      "Setting `pad_token_id` to `eos_token_id`:151643 for open-end generation.\n"
     ]
    },
    {
     "name": "stdout",
     "output_type": "stream",
     "text": [
      "File saved at: /home/aansh/nnsightusage/NewExperiments/Logs/Experiment_2_sae_steering/Answers_2plus2_pure/ans_18.txt\n",
      "Steering Experiment: 19\n"
     ]
    },
    {
     "name": "stderr",
     "output_type": "stream",
     "text": [
      "Setting `pad_token_id` to `eos_token_id`:151643 for open-end generation.\n"
     ]
    },
    {
     "name": "stdout",
     "output_type": "stream",
     "text": [
      "File saved at: /home/aansh/nnsightusage/NewExperiments/Logs/Experiment_2_sae_steering/Answers_2plus2_pure/ans_19.txt\n",
      "Steering Experiment: 20\n"
     ]
    },
    {
     "name": "stderr",
     "output_type": "stream",
     "text": [
      "Setting `pad_token_id` to `eos_token_id`:151643 for open-end generation.\n"
     ]
    },
    {
     "name": "stdout",
     "output_type": "stream",
     "text": [
      "File saved at: /home/aansh/nnsightusage/NewExperiments/Logs/Experiment_2_sae_steering/Answers_2plus2_pure/ans_20.txt\n",
      "Steering Experiment: 21\n"
     ]
    },
    {
     "name": "stderr",
     "output_type": "stream",
     "text": [
      "Setting `pad_token_id` to `eos_token_id`:151643 for open-end generation.\n"
     ]
    },
    {
     "name": "stdout",
     "output_type": "stream",
     "text": [
      "File saved at: /home/aansh/nnsightusage/NewExperiments/Logs/Experiment_2_sae_steering/Answers_2plus2_pure/ans_21.txt\n",
      "Steering Experiment: 22\n"
     ]
    },
    {
     "name": "stderr",
     "output_type": "stream",
     "text": [
      "Setting `pad_token_id` to `eos_token_id`:151643 for open-end generation.\n"
     ]
    },
    {
     "name": "stdout",
     "output_type": "stream",
     "text": [
      "File saved at: /home/aansh/nnsightusage/NewExperiments/Logs/Experiment_2_sae_steering/Answers_2plus2_pure/ans_22.txt\n",
      "Steering Experiment: 23\n"
     ]
    },
    {
     "name": "stderr",
     "output_type": "stream",
     "text": [
      "Setting `pad_token_id` to `eos_token_id`:151643 for open-end generation.\n"
     ]
    },
    {
     "name": "stdout",
     "output_type": "stream",
     "text": [
      "File saved at: /home/aansh/nnsightusage/NewExperiments/Logs/Experiment_2_sae_steering/Answers_2plus2_pure/ans_23.txt\n",
      "Steering Experiment: 24\n"
     ]
    },
    {
     "name": "stderr",
     "output_type": "stream",
     "text": [
      "Setting `pad_token_id` to `eos_token_id`:151643 for open-end generation.\n"
     ]
    },
    {
     "name": "stdout",
     "output_type": "stream",
     "text": [
      "File saved at: /home/aansh/nnsightusage/NewExperiments/Logs/Experiment_2_sae_steering/Answers_2plus2_pure/ans_24.txt\n",
      "Steering Experiment: 25\n"
     ]
    },
    {
     "name": "stderr",
     "output_type": "stream",
     "text": [
      "Setting `pad_token_id` to `eos_token_id`:151643 for open-end generation.\n"
     ]
    },
    {
     "name": "stdout",
     "output_type": "stream",
     "text": [
      "File saved at: /home/aansh/nnsightusage/NewExperiments/Logs/Experiment_2_sae_steering/Answers_2plus2_pure/ans_25.txt\n",
      "Steering Experiment: 26\n"
     ]
    },
    {
     "ename": "KeyboardInterrupt",
     "evalue": "",
     "output_type": "error",
     "traceback": [
      "\u001b[0;31m---------------------------------------------------------------------------\u001b[0m",
      "\u001b[0;31mKeyboardInterrupt\u001b[0m                         Traceback (most recent call last)",
      "Cell \u001b[0;32mIn[49], line 3\u001b[0m\n\u001b[1;32m      1\u001b[0m \u001b[38;5;28;01mfor\u001b[39;00m i \u001b[38;5;129;01min\u001b[39;00m \u001b[38;5;28mrange\u001b[39m(\u001b[38;5;241m100\u001b[39m):\n\u001b[1;32m      2\u001b[0m     \u001b[38;5;28mprint\u001b[39m(\u001b[38;5;124mf\u001b[39m\u001b[38;5;124m\"\u001b[39m\u001b[38;5;124mSteering Experiment: \u001b[39m\u001b[38;5;132;01m{\u001b[39;00mi\u001b[38;5;132;01m}\u001b[39;00m\u001b[38;5;124m\"\u001b[39m)\n\u001b[0;32m----> 3\u001b[0m     \u001b[43mgenerate_output\u001b[49m\u001b[43m(\u001b[49m\u001b[43mllm_2\u001b[49m\u001b[43m,\u001b[49m\u001b[43m \u001b[49m\u001b[43mprompt\u001b[49m\u001b[43m,\u001b[49m\u001b[43m \u001b[49m\u001b[43mprint_ans\u001b[49m\u001b[38;5;241;43m=\u001b[39;49m\u001b[38;5;28;43;01mFalse\u001b[39;49;00m\u001b[43m,\u001b[49m\u001b[43m \u001b[49m\u001b[43msave_ans\u001b[49m\u001b[38;5;241;43m=\u001b[39;49m\u001b[38;5;28;43;01mTrue\u001b[39;49;00m\u001b[43m,\u001b[49m\u001b[43m \u001b[49m\u001b[43mans_filename\u001b[49m\u001b[38;5;241;43m=\u001b[39;49m\u001b[38;5;124;43mf\u001b[39;49m\u001b[38;5;124;43m\"\u001b[39;49m\u001b[38;5;124;43mans_\u001b[39;49m\u001b[38;5;132;43;01m{\u001b[39;49;00m\u001b[43mi\u001b[49m\u001b[38;5;132;43;01m}\u001b[39;49;00m\u001b[38;5;124;43m.txt\u001b[39;49m\u001b[38;5;124;43m\"\u001b[39;49m\u001b[43m)\u001b[49m\n",
      "Cell \u001b[0;32mIn[44], line 17\u001b[0m, in \u001b[0;36mgenerate_output\u001b[0;34m(llm, prompt, append_eos_token, n_new_tokens, temperature, print_ans, save_ans, ans_filename, ans_dir_path, save_activations, act_filename, act_dir_path)\u001b[0m\n\u001b[1;32m     14\u001b[0m \u001b[38;5;28;01mif\u001b[39;00m append_eos_token:\n\u001b[1;32m     15\u001b[0m     prompt \u001b[38;5;241m+\u001b[39m\u001b[38;5;241m=\u001b[39m llm\u001b[38;5;241m.\u001b[39mtokenizer\u001b[38;5;241m.\u001b[39meos_token\n\u001b[0;32m---> 17\u001b[0m \u001b[38;5;28;01mwith\u001b[39;00m llm\u001b[38;5;241m.\u001b[39mgenerate(prompt, max_new_tokens\u001b[38;5;241m=\u001b[39mn_new_tokens, temperature\u001b[38;5;241m=\u001b[39mtemperature) \u001b[38;5;28;01mas\u001b[39;00m tracer:\n\u001b[1;32m     18\u001b[0m     out \u001b[38;5;241m=\u001b[39m llm\u001b[38;5;241m.\u001b[39mgenerator\u001b[38;5;241m.\u001b[39moutput\u001b[38;5;241m.\u001b[39mcpu()\u001b[38;5;241m.\u001b[39msave()\n\u001b[1;32m     20\u001b[0m decoded_prompt \u001b[38;5;241m=\u001b[39m llm\u001b[38;5;241m.\u001b[39mtokenizer\u001b[38;5;241m.\u001b[39mdecode(out[\u001b[38;5;241m0\u001b[39m][\u001b[38;5;241m0\u001b[39m:\u001b[38;5;241m50\u001b[39m])\n",
      "File \u001b[0;32m~/nnsightusage/nns2env/lib/python3.10/site-packages/nnsight/intervention/contexts/interleaving.py:96\u001b[0m, in \u001b[0;36mInterleavingTracer.__exit__\u001b[0;34m(self, exc_type, exc_val, exc_tb)\u001b[0m\n\u001b[1;32m     92\u001b[0m     \u001b[38;5;28mself\u001b[39m\u001b[38;5;241m.\u001b[39minvoker\u001b[38;5;241m.\u001b[39m\u001b[38;5;21m__exit__\u001b[39m(\u001b[38;5;28;01mNone\u001b[39;00m, \u001b[38;5;28;01mNone\u001b[39;00m, \u001b[38;5;28;01mNone\u001b[39;00m)\n\u001b[1;32m     94\u001b[0m \u001b[38;5;28mself\u001b[39m\u001b[38;5;241m.\u001b[39m_model\u001b[38;5;241m.\u001b[39m_envoy\u001b[38;5;241m.\u001b[39m_reset()\n\u001b[0;32m---> 96\u001b[0m \u001b[38;5;28;43msuper\u001b[39;49m\u001b[43m(\u001b[49m\u001b[43m)\u001b[49m\u001b[38;5;241;43m.\u001b[39;49m\u001b[38;5;21;43m__exit__\u001b[39;49m\u001b[43m(\u001b[49m\u001b[43mexc_type\u001b[49m\u001b[43m,\u001b[49m\u001b[43m \u001b[49m\u001b[43mexc_val\u001b[49m\u001b[43m,\u001b[49m\u001b[43m \u001b[49m\u001b[43mexc_tb\u001b[49m\u001b[43m)\u001b[49m\n",
      "File \u001b[0;32m~/nnsightusage/nns2env/lib/python3.10/site-packages/nnsight/tracing/contexts/tracer.py:25\u001b[0m, in \u001b[0;36mTracer.__exit__\u001b[0;34m(self, exc_type, exc_val, exc_tb)\u001b[0m\n\u001b[1;32m     21\u001b[0m \u001b[38;5;28;01mfrom\u001b[39;00m\u001b[38;5;250m \u001b[39m\u001b[38;5;21;01m.\u001b[39;00m\u001b[38;5;21;01mglobals\u001b[39;00m\u001b[38;5;250m \u001b[39m\u001b[38;5;28;01mimport\u001b[39;00m GlobalTracingContext\n\u001b[1;32m     23\u001b[0m GlobalTracingContext\u001b[38;5;241m.\u001b[39mtry_deregister(\u001b[38;5;28mself\u001b[39m)\n\u001b[0;32m---> 25\u001b[0m \u001b[38;5;28;01mreturn\u001b[39;00m \u001b[38;5;28;43msuper\u001b[39;49m\u001b[43m(\u001b[49m\u001b[43m)\u001b[49m\u001b[38;5;241;43m.\u001b[39;49m\u001b[38;5;21;43m__exit__\u001b[39;49m\u001b[43m(\u001b[49m\u001b[43mexc_type\u001b[49m\u001b[43m,\u001b[49m\u001b[43m \u001b[49m\u001b[43mexc_val\u001b[49m\u001b[43m,\u001b[49m\u001b[43m \u001b[49m\u001b[43mexc_tb\u001b[49m\u001b[43m)\u001b[49m\n",
      "File \u001b[0;32m~/nnsightusage/nns2env/lib/python3.10/site-packages/nnsight/tracing/contexts/base.py:82\u001b[0m, in \u001b[0;36mContext.__exit__\u001b[0;34m(self, exc_type, exc_val, exc_tb)\u001b[0m\n\u001b[1;32m     78\u001b[0m graph \u001b[38;5;241m=\u001b[39m graph\u001b[38;5;241m.\u001b[39mstack\u001b[38;5;241m.\u001b[39mpop()\n\u001b[1;32m     80\u001b[0m graph\u001b[38;5;241m.\u001b[39malive \u001b[38;5;241m=\u001b[39m \u001b[38;5;28;01mFalse\u001b[39;00m\n\u001b[0;32m---> 82\u001b[0m \u001b[38;5;28;43mself\u001b[39;49m\u001b[38;5;241;43m.\u001b[39;49m\u001b[43mbackend\u001b[49m\u001b[43m(\u001b[49m\u001b[43mgraph\u001b[49m\u001b[43m)\u001b[49m\n",
      "File \u001b[0;32m~/nnsightusage/nns2env/lib/python3.10/site-packages/nnsight/tracing/backends/base.py:25\u001b[0m, in \u001b[0;36mExecutionBackend.__call__\u001b[0;34m(self, graph)\u001b[0m\n\u001b[1;32m     21\u001b[0m \u001b[38;5;28;01mdef\u001b[39;00m\u001b[38;5;250m \u001b[39m\u001b[38;5;21m__call__\u001b[39m(\u001b[38;5;28mself\u001b[39m, graph: Graph) \u001b[38;5;241m-\u001b[39m\u001b[38;5;241m>\u001b[39m \u001b[38;5;28;01mNone\u001b[39;00m:\n\u001b[1;32m     23\u001b[0m     \u001b[38;5;28;01mtry\u001b[39;00m:\n\u001b[0;32m---> 25\u001b[0m         \u001b[43mgraph\u001b[49m\u001b[38;5;241;43m.\u001b[39;49m\u001b[43mnodes\u001b[49m\u001b[43m[\u001b[49m\u001b[38;5;241;43m-\u001b[39;49m\u001b[38;5;241;43m1\u001b[39;49m\u001b[43m]\u001b[49m\u001b[38;5;241;43m.\u001b[39;49m\u001b[43mexecute\u001b[49m\u001b[43m(\u001b[49m\u001b[43m)\u001b[49m\n\u001b[1;32m     27\u001b[0m         \u001b[38;5;28;01mif\u001b[39;00m \u001b[38;5;28mself\u001b[39m\u001b[38;5;241m.\u001b[39minjection:\n\u001b[1;32m     29\u001b[0m             \u001b[38;5;28;01mfrom\u001b[39;00m\u001b[38;5;250m \u001b[39m\u001b[38;5;21;01m.\u001b[39;00m\u001b[38;5;21;01m.\u001b[39;00m\u001b[38;5;21;01mcontexts\u001b[39;00m\u001b[38;5;250m \u001b[39m\u001b[38;5;28;01mimport\u001b[39;00m Context\n",
      "File \u001b[0;32m~/nnsightusage/nns2env/lib/python3.10/site-packages/nnsight/tracing/graph/node.py:289\u001b[0m, in \u001b[0;36mNode.execute\u001b[0;34m(self)\u001b[0m\n\u001b[1;32m    285\u001b[0m \u001b[38;5;28;01mtry\u001b[39;00m:\n\u001b[1;32m    287\u001b[0m     \u001b[38;5;28;01mif\u001b[39;00m \u001b[38;5;28misinstance\u001b[39m(\u001b[38;5;28mself\u001b[39m\u001b[38;5;241m.\u001b[39mtarget, \u001b[38;5;28mtype\u001b[39m) \u001b[38;5;129;01mand\u001b[39;00m \u001b[38;5;28missubclass\u001b[39m(\u001b[38;5;28mself\u001b[39m\u001b[38;5;241m.\u001b[39mtarget, Protocol):\n\u001b[0;32m--> 289\u001b[0m         \u001b[38;5;28;43mself\u001b[39;49m\u001b[38;5;241;43m.\u001b[39;49m\u001b[43mtarget\u001b[49m\u001b[38;5;241;43m.\u001b[39;49m\u001b[43mexecute\u001b[49m\u001b[43m(\u001b[49m\u001b[38;5;28;43mself\u001b[39;49m\u001b[43m)\u001b[49m\n\u001b[1;32m    291\u001b[0m     \u001b[38;5;28;01melse\u001b[39;00m:\n\u001b[1;32m    292\u001b[0m \n\u001b[1;32m    293\u001b[0m         \u001b[38;5;66;03m# Prepare arguments.\u001b[39;00m\n\u001b[1;32m    294\u001b[0m         args, kwargs \u001b[38;5;241m=\u001b[39m \u001b[38;5;28mself\u001b[39m\u001b[38;5;241m.\u001b[39mprepare_inputs((\u001b[38;5;28mself\u001b[39m\u001b[38;5;241m.\u001b[39margs, \u001b[38;5;28mself\u001b[39m\u001b[38;5;241m.\u001b[39mkwargs))\n",
      "File \u001b[0;32m~/nnsightusage/nns2env/lib/python3.10/site-packages/nnsight/intervention/contexts/interleaving.py:159\u001b[0m, in \u001b[0;36mInterleavingTracer.execute\u001b[0;34m(cls, node)\u001b[0m\n\u001b[1;32m    155\u001b[0m graph\u001b[38;5;241m.\u001b[39mreset()\n\u001b[1;32m    157\u001b[0m interleaver \u001b[38;5;241m=\u001b[39m Interleaver(graph, batch_groups\u001b[38;5;241m=\u001b[39mbatch_groups)\n\u001b[0;32m--> 159\u001b[0m \u001b[43mgraph\u001b[49m\u001b[38;5;241;43m.\u001b[39;49m\u001b[43mmodel\u001b[49m\u001b[38;5;241;43m.\u001b[39;49m\u001b[43minterleave\u001b[49m\u001b[43m(\u001b[49m\u001b[43minterleaver\u001b[49m\u001b[43m,\u001b[49m\u001b[43m \u001b[49m\u001b[38;5;241;43m*\u001b[39;49m\u001b[43minvoker_args\u001b[49m\u001b[43m,\u001b[49m\u001b[43m \u001b[49m\u001b[43mfn\u001b[49m\u001b[38;5;241;43m=\u001b[39;49m\u001b[43mmethod\u001b[49m\u001b[43m,\u001b[49m\u001b[38;5;241;43m*\u001b[39;49m\u001b[38;5;241;43m*\u001b[39;49m\u001b[43mkwargs\u001b[49m\u001b[43m,\u001b[49m\u001b[43m \u001b[49m\u001b[38;5;241;43m*\u001b[39;49m\u001b[38;5;241;43m*\u001b[39;49m\u001b[43minvoker_kwargs\u001b[49m\u001b[43m)\u001b[49m\n\u001b[1;32m    161\u001b[0m graph\u001b[38;5;241m.\u001b[39mcleanup()\n",
      "File \u001b[0;32m~/nnsightusage/nns2env/lib/python3.10/site-packages/nnsight/modeling/mixins/meta.py:51\u001b[0m, in \u001b[0;36mMetaMixin.interleave\u001b[0;34m(self, *args, **kwargs)\u001b[0m\n\u001b[1;32m     48\u001b[0m \u001b[38;5;28;01mif\u001b[39;00m \u001b[38;5;129;01mnot\u001b[39;00m \u001b[38;5;28mself\u001b[39m\u001b[38;5;241m.\u001b[39mdispatched:\n\u001b[1;32m     49\u001b[0m     \u001b[38;5;28mself\u001b[39m\u001b[38;5;241m.\u001b[39mdispatch()\n\u001b[0;32m---> 51\u001b[0m \u001b[38;5;28;01mreturn\u001b[39;00m \u001b[38;5;28;43msuper\u001b[39;49m\u001b[43m(\u001b[49m\u001b[43m)\u001b[49m\u001b[38;5;241;43m.\u001b[39;49m\u001b[43minterleave\u001b[49m\u001b[43m(\u001b[49m\u001b[38;5;241;43m*\u001b[39;49m\u001b[43margs\u001b[49m\u001b[43m,\u001b[49m\u001b[43m \u001b[49m\u001b[38;5;241;43m*\u001b[39;49m\u001b[38;5;241;43m*\u001b[39;49m\u001b[43mkwargs\u001b[49m\u001b[43m)\u001b[49m\n",
      "File \u001b[0;32m~/nnsightusage/nns2env/lib/python3.10/site-packages/nnsight/intervention/base.py:342\u001b[0m, in \u001b[0;36mNNsight.interleave\u001b[0;34m(self, interleaver, fn, *args, **kwargs)\u001b[0m\n\u001b[1;32m    339\u001b[0m interleaver\u001b[38;5;241m.\u001b[39mgraph\u001b[38;5;241m.\u001b[39mexecute()\n\u001b[1;32m    341\u001b[0m \u001b[38;5;28;01mwith\u001b[39;00m interleaver:\n\u001b[0;32m--> 342\u001b[0m     \u001b[38;5;28;01mreturn\u001b[39;00m \u001b[43mfn\u001b[49m\u001b[43m(\u001b[49m\u001b[38;5;241;43m*\u001b[39;49m\u001b[43margs\u001b[49m\u001b[43m,\u001b[49m\u001b[43m \u001b[49m\u001b[38;5;241;43m*\u001b[39;49m\u001b[38;5;241;43m*\u001b[39;49m\u001b[43mkwargs\u001b[49m\u001b[43m)\u001b[49m\n",
      "File \u001b[0;32m~/nnsightusage/nns2env/lib/python3.10/site-packages/nnsight/modeling/language.py:315\u001b[0m, in \u001b[0;36mLanguageModel._generate\u001b[0;34m(self, inputs, max_new_tokens, streamer, **kwargs)\u001b[0m\n\u001b[1;32m    311\u001b[0m     streamer \u001b[38;5;241m=\u001b[39m \u001b[38;5;28mself\u001b[39m\u001b[38;5;241m.\u001b[39mgenerator\u001b[38;5;241m.\u001b[39mstreamer\n\u001b[1;32m    313\u001b[0m inputs \u001b[38;5;241m=\u001b[39m inputs\u001b[38;5;241m.\u001b[39mto(\u001b[38;5;28mself\u001b[39m\u001b[38;5;241m.\u001b[39mdevice)\n\u001b[0;32m--> 315\u001b[0m output \u001b[38;5;241m=\u001b[39m \u001b[38;5;28;43mself\u001b[39;49m\u001b[38;5;241;43m.\u001b[39;49m\u001b[43m_model\u001b[49m\u001b[38;5;241;43m.\u001b[39;49m\u001b[43mgenerate\u001b[49m\u001b[43m(\u001b[49m\n\u001b[1;32m    316\u001b[0m \u001b[43m    \u001b[49m\u001b[38;5;241;43m*\u001b[39;49m\u001b[38;5;241;43m*\u001b[39;49m\u001b[43minputs\u001b[49m\u001b[43m,\u001b[49m\n\u001b[1;32m    317\u001b[0m \u001b[43m    \u001b[49m\u001b[38;5;241;43m*\u001b[39;49m\u001b[38;5;241;43m*\u001b[39;49m\u001b[43mkwargs\u001b[49m\u001b[43m,\u001b[49m\n\u001b[1;32m    318\u001b[0m \u001b[43m    \u001b[49m\u001b[43mstreamer\u001b[49m\u001b[38;5;241;43m=\u001b[39;49m\u001b[43mstreamer\u001b[49m\u001b[43m,\u001b[49m\n\u001b[1;32m    319\u001b[0m \u001b[43m    \u001b[49m\u001b[43mmax_new_tokens\u001b[49m\u001b[38;5;241;43m=\u001b[39;49m\u001b[43mmax_new_tokens\u001b[49m\u001b[43m,\u001b[49m\n\u001b[1;32m    320\u001b[0m \u001b[43m\u001b[49m\u001b[43m)\u001b[49m\n\u001b[1;32m    322\u001b[0m \u001b[38;5;28mself\u001b[39m\u001b[38;5;241m.\u001b[39mgenerator(output)\n\u001b[1;32m    324\u001b[0m \u001b[38;5;28;01mreturn\u001b[39;00m output\n",
      "File \u001b[0;32m~/nnsightusage/nns2env/lib/python3.10/site-packages/torch/utils/_contextlib.py:116\u001b[0m, in \u001b[0;36mcontext_decorator.<locals>.decorate_context\u001b[0;34m(*args, **kwargs)\u001b[0m\n\u001b[1;32m    113\u001b[0m \u001b[38;5;129m@functools\u001b[39m\u001b[38;5;241m.\u001b[39mwraps(func)\n\u001b[1;32m    114\u001b[0m \u001b[38;5;28;01mdef\u001b[39;00m\u001b[38;5;250m \u001b[39m\u001b[38;5;21mdecorate_context\u001b[39m(\u001b[38;5;241m*\u001b[39margs, \u001b[38;5;241m*\u001b[39m\u001b[38;5;241m*\u001b[39mkwargs):\n\u001b[1;32m    115\u001b[0m     \u001b[38;5;28;01mwith\u001b[39;00m ctx_factory():\n\u001b[0;32m--> 116\u001b[0m         \u001b[38;5;28;01mreturn\u001b[39;00m \u001b[43mfunc\u001b[49m\u001b[43m(\u001b[49m\u001b[38;5;241;43m*\u001b[39;49m\u001b[43margs\u001b[49m\u001b[43m,\u001b[49m\u001b[43m \u001b[49m\u001b[38;5;241;43m*\u001b[39;49m\u001b[38;5;241;43m*\u001b[39;49m\u001b[43mkwargs\u001b[49m\u001b[43m)\u001b[49m\n",
      "File \u001b[0;32m~/nnsightusage/nns2env/lib/python3.10/site-packages/transformers/generation/utils.py:2255\u001b[0m, in \u001b[0;36mGenerationMixin.generate\u001b[0;34m(self, inputs, generation_config, logits_processor, stopping_criteria, prefix_allowed_tokens_fn, synced_gpus, assistant_model, streamer, negative_prompt_ids, negative_prompt_attention_mask, **kwargs)\u001b[0m\n\u001b[1;32m   2247\u001b[0m     input_ids, model_kwargs \u001b[38;5;241m=\u001b[39m \u001b[38;5;28mself\u001b[39m\u001b[38;5;241m.\u001b[39m_expand_inputs_for_generation(\n\u001b[1;32m   2248\u001b[0m         input_ids\u001b[38;5;241m=\u001b[39minput_ids,\n\u001b[1;32m   2249\u001b[0m         expand_size\u001b[38;5;241m=\u001b[39mgeneration_config\u001b[38;5;241m.\u001b[39mnum_return_sequences,\n\u001b[1;32m   2250\u001b[0m         is_encoder_decoder\u001b[38;5;241m=\u001b[39m\u001b[38;5;28mself\u001b[39m\u001b[38;5;241m.\u001b[39mconfig\u001b[38;5;241m.\u001b[39mis_encoder_decoder,\n\u001b[1;32m   2251\u001b[0m         \u001b[38;5;241m*\u001b[39m\u001b[38;5;241m*\u001b[39mmodel_kwargs,\n\u001b[1;32m   2252\u001b[0m     )\n\u001b[1;32m   2254\u001b[0m     \u001b[38;5;66;03m# 12. run sample (it degenerates to greedy search when `generation_config.do_sample=False`)\u001b[39;00m\n\u001b[0;32m-> 2255\u001b[0m     result \u001b[38;5;241m=\u001b[39m \u001b[38;5;28;43mself\u001b[39;49m\u001b[38;5;241;43m.\u001b[39;49m\u001b[43m_sample\u001b[49m\u001b[43m(\u001b[49m\n\u001b[1;32m   2256\u001b[0m \u001b[43m        \u001b[49m\u001b[43minput_ids\u001b[49m\u001b[43m,\u001b[49m\n\u001b[1;32m   2257\u001b[0m \u001b[43m        \u001b[49m\u001b[43mlogits_processor\u001b[49m\u001b[38;5;241;43m=\u001b[39;49m\u001b[43mprepared_logits_processor\u001b[49m\u001b[43m,\u001b[49m\n\u001b[1;32m   2258\u001b[0m \u001b[43m        \u001b[49m\u001b[43mstopping_criteria\u001b[49m\u001b[38;5;241;43m=\u001b[39;49m\u001b[43mprepared_stopping_criteria\u001b[49m\u001b[43m,\u001b[49m\n\u001b[1;32m   2259\u001b[0m \u001b[43m        \u001b[49m\u001b[43mgeneration_config\u001b[49m\u001b[38;5;241;43m=\u001b[39;49m\u001b[43mgeneration_config\u001b[49m\u001b[43m,\u001b[49m\n\u001b[1;32m   2260\u001b[0m \u001b[43m        \u001b[49m\u001b[43msynced_gpus\u001b[49m\u001b[38;5;241;43m=\u001b[39;49m\u001b[43msynced_gpus\u001b[49m\u001b[43m,\u001b[49m\n\u001b[1;32m   2261\u001b[0m \u001b[43m        \u001b[49m\u001b[43mstreamer\u001b[49m\u001b[38;5;241;43m=\u001b[39;49m\u001b[43mstreamer\u001b[49m\u001b[43m,\u001b[49m\n\u001b[1;32m   2262\u001b[0m \u001b[43m        \u001b[49m\u001b[38;5;241;43m*\u001b[39;49m\u001b[38;5;241;43m*\u001b[39;49m\u001b[43mmodel_kwargs\u001b[49m\u001b[43m,\u001b[49m\n\u001b[1;32m   2263\u001b[0m \u001b[43m    \u001b[49m\u001b[43m)\u001b[49m\n\u001b[1;32m   2265\u001b[0m \u001b[38;5;28;01melif\u001b[39;00m generation_mode \u001b[38;5;129;01min\u001b[39;00m (GenerationMode\u001b[38;5;241m.\u001b[39mBEAM_SAMPLE, GenerationMode\u001b[38;5;241m.\u001b[39mBEAM_SEARCH):\n\u001b[1;32m   2266\u001b[0m     \u001b[38;5;66;03m# 11. prepare beam search scorer\u001b[39;00m\n\u001b[1;32m   2267\u001b[0m     beam_scorer \u001b[38;5;241m=\u001b[39m BeamSearchScorer(\n\u001b[1;32m   2268\u001b[0m         batch_size\u001b[38;5;241m=\u001b[39mbatch_size,\n\u001b[1;32m   2269\u001b[0m         num_beams\u001b[38;5;241m=\u001b[39mgeneration_config\u001b[38;5;241m.\u001b[39mnum_beams,\n\u001b[0;32m   (...)\u001b[0m\n\u001b[1;32m   2274\u001b[0m         max_length\u001b[38;5;241m=\u001b[39mgeneration_config\u001b[38;5;241m.\u001b[39mmax_length,\n\u001b[1;32m   2275\u001b[0m     )\n",
      "File \u001b[0;32m~/nnsightusage/nns2env/lib/python3.10/site-packages/transformers/generation/utils.py:3257\u001b[0m, in \u001b[0;36mGenerationMixin._sample\u001b[0;34m(self, input_ids, logits_processor, stopping_criteria, generation_config, synced_gpus, streamer, **model_kwargs)\u001b[0m\n\u001b[1;32m   3255\u001b[0m     is_prefill \u001b[38;5;241m=\u001b[39m \u001b[38;5;28;01mFalse\u001b[39;00m\n\u001b[1;32m   3256\u001b[0m \u001b[38;5;28;01melse\u001b[39;00m:\n\u001b[0;32m-> 3257\u001b[0m     outputs \u001b[38;5;241m=\u001b[39m \u001b[43mmodel_forward\u001b[49m\u001b[43m(\u001b[49m\u001b[38;5;241;43m*\u001b[39;49m\u001b[38;5;241;43m*\u001b[39;49m\u001b[43mmodel_inputs\u001b[49m\u001b[43m,\u001b[49m\u001b[43m \u001b[49m\u001b[43mreturn_dict\u001b[49m\u001b[38;5;241;43m=\u001b[39;49m\u001b[38;5;28;43;01mTrue\u001b[39;49;00m\u001b[43m)\u001b[49m\n\u001b[1;32m   3259\u001b[0m \u001b[38;5;66;03m# synced_gpus: don't waste resources running the code we don't need; kwargs must be updated before skipping\u001b[39;00m\n\u001b[1;32m   3260\u001b[0m model_kwargs \u001b[38;5;241m=\u001b[39m \u001b[38;5;28mself\u001b[39m\u001b[38;5;241m.\u001b[39m_update_model_kwargs_for_generation(\n\u001b[1;32m   3261\u001b[0m     outputs,\n\u001b[1;32m   3262\u001b[0m     model_kwargs,\n\u001b[1;32m   3263\u001b[0m     is_encoder_decoder\u001b[38;5;241m=\u001b[39m\u001b[38;5;28mself\u001b[39m\u001b[38;5;241m.\u001b[39mconfig\u001b[38;5;241m.\u001b[39mis_encoder_decoder,\n\u001b[1;32m   3264\u001b[0m )\n",
      "File \u001b[0;32m~/nnsightusage/nns2env/lib/python3.10/site-packages/torch/nn/modules/module.py:1739\u001b[0m, in \u001b[0;36mModule._wrapped_call_impl\u001b[0;34m(self, *args, **kwargs)\u001b[0m\n\u001b[1;32m   1737\u001b[0m     \u001b[38;5;28;01mreturn\u001b[39;00m \u001b[38;5;28mself\u001b[39m\u001b[38;5;241m.\u001b[39m_compiled_call_impl(\u001b[38;5;241m*\u001b[39margs, \u001b[38;5;241m*\u001b[39m\u001b[38;5;241m*\u001b[39mkwargs)  \u001b[38;5;66;03m# type: ignore[misc]\u001b[39;00m\n\u001b[1;32m   1738\u001b[0m \u001b[38;5;28;01melse\u001b[39;00m:\n\u001b[0;32m-> 1739\u001b[0m     \u001b[38;5;28;01mreturn\u001b[39;00m \u001b[38;5;28;43mself\u001b[39;49m\u001b[38;5;241;43m.\u001b[39;49m\u001b[43m_call_impl\u001b[49m\u001b[43m(\u001b[49m\u001b[38;5;241;43m*\u001b[39;49m\u001b[43margs\u001b[49m\u001b[43m,\u001b[49m\u001b[43m \u001b[49m\u001b[38;5;241;43m*\u001b[39;49m\u001b[38;5;241;43m*\u001b[39;49m\u001b[43mkwargs\u001b[49m\u001b[43m)\u001b[49m\n",
      "File \u001b[0;32m~/nnsightusage/nns2env/lib/python3.10/site-packages/torch/nn/modules/module.py:1845\u001b[0m, in \u001b[0;36mModule._call_impl\u001b[0;34m(self, *args, **kwargs)\u001b[0m\n\u001b[1;32m   1842\u001b[0m     \u001b[38;5;28;01mreturn\u001b[39;00m inner()\n\u001b[1;32m   1844\u001b[0m \u001b[38;5;28;01mtry\u001b[39;00m:\n\u001b[0;32m-> 1845\u001b[0m     \u001b[38;5;28;01mreturn\u001b[39;00m \u001b[43minner\u001b[49m\u001b[43m(\u001b[49m\u001b[43m)\u001b[49m\n\u001b[1;32m   1846\u001b[0m \u001b[38;5;28;01mexcept\u001b[39;00m \u001b[38;5;167;01mException\u001b[39;00m:\n\u001b[1;32m   1847\u001b[0m     \u001b[38;5;66;03m# run always called hooks if they have not already been run\u001b[39;00m\n\u001b[1;32m   1848\u001b[0m     \u001b[38;5;66;03m# For now only forward hooks have the always_call option but perhaps\u001b[39;00m\n\u001b[1;32m   1849\u001b[0m     \u001b[38;5;66;03m# this functionality should be added to full backward hooks as well.\u001b[39;00m\n\u001b[1;32m   1850\u001b[0m     \u001b[38;5;28;01mfor\u001b[39;00m hook_id, hook \u001b[38;5;129;01min\u001b[39;00m _global_forward_hooks\u001b[38;5;241m.\u001b[39mitems():\n",
      "File \u001b[0;32m~/nnsightusage/nns2env/lib/python3.10/site-packages/torch/nn/modules/module.py:1793\u001b[0m, in \u001b[0;36mModule._call_impl.<locals>.inner\u001b[0;34m()\u001b[0m\n\u001b[1;32m   1790\u001b[0m     bw_hook \u001b[38;5;241m=\u001b[39m BackwardHook(\u001b[38;5;28mself\u001b[39m, full_backward_hooks, backward_pre_hooks)\n\u001b[1;32m   1791\u001b[0m     args \u001b[38;5;241m=\u001b[39m bw_hook\u001b[38;5;241m.\u001b[39msetup_input_hook(args)\n\u001b[0;32m-> 1793\u001b[0m result \u001b[38;5;241m=\u001b[39m \u001b[43mforward_call\u001b[49m\u001b[43m(\u001b[49m\u001b[38;5;241;43m*\u001b[39;49m\u001b[43margs\u001b[49m\u001b[43m,\u001b[49m\u001b[43m \u001b[49m\u001b[38;5;241;43m*\u001b[39;49m\u001b[38;5;241;43m*\u001b[39;49m\u001b[43mkwargs\u001b[49m\u001b[43m)\u001b[49m\n\u001b[1;32m   1794\u001b[0m \u001b[38;5;28;01mif\u001b[39;00m _global_forward_hooks \u001b[38;5;129;01mor\u001b[39;00m \u001b[38;5;28mself\u001b[39m\u001b[38;5;241m.\u001b[39m_forward_hooks:\n\u001b[1;32m   1795\u001b[0m     \u001b[38;5;28;01mfor\u001b[39;00m hook_id, hook \u001b[38;5;129;01min\u001b[39;00m (\n\u001b[1;32m   1796\u001b[0m         \u001b[38;5;241m*\u001b[39m_global_forward_hooks\u001b[38;5;241m.\u001b[39mitems(),\n\u001b[1;32m   1797\u001b[0m         \u001b[38;5;241m*\u001b[39m\u001b[38;5;28mself\u001b[39m\u001b[38;5;241m.\u001b[39m_forward_hooks\u001b[38;5;241m.\u001b[39mitems(),\n\u001b[1;32m   1798\u001b[0m     ):\n\u001b[1;32m   1799\u001b[0m         \u001b[38;5;66;03m# mark that always called hook is run\u001b[39;00m\n",
      "File \u001b[0;32m~/nnsightusage/nns2env/lib/python3.10/site-packages/transformers/models/qwen2/modeling_qwen2.py:819\u001b[0m, in \u001b[0;36mQwen2ForCausalLM.forward\u001b[0;34m(self, input_ids, attention_mask, position_ids, past_key_values, inputs_embeds, labels, use_cache, output_attentions, output_hidden_states, return_dict, cache_position, num_logits_to_keep, **kwargs)\u001b[0m\n\u001b[1;32m    816\u001b[0m return_dict \u001b[38;5;241m=\u001b[39m return_dict \u001b[38;5;28;01mif\u001b[39;00m return_dict \u001b[38;5;129;01mis\u001b[39;00m \u001b[38;5;129;01mnot\u001b[39;00m \u001b[38;5;28;01mNone\u001b[39;00m \u001b[38;5;28;01melse\u001b[39;00m \u001b[38;5;28mself\u001b[39m\u001b[38;5;241m.\u001b[39mconfig\u001b[38;5;241m.\u001b[39muse_return_dict\n\u001b[1;32m    818\u001b[0m \u001b[38;5;66;03m# decoder outputs consists of (dec_features, layer_state, dec_hidden, dec_attn)\u001b[39;00m\n\u001b[0;32m--> 819\u001b[0m outputs \u001b[38;5;241m=\u001b[39m \u001b[38;5;28;43mself\u001b[39;49m\u001b[38;5;241;43m.\u001b[39;49m\u001b[43mmodel\u001b[49m\u001b[43m(\u001b[49m\n\u001b[1;32m    820\u001b[0m \u001b[43m    \u001b[49m\u001b[43minput_ids\u001b[49m\u001b[38;5;241;43m=\u001b[39;49m\u001b[43minput_ids\u001b[49m\u001b[43m,\u001b[49m\n\u001b[1;32m    821\u001b[0m \u001b[43m    \u001b[49m\u001b[43mattention_mask\u001b[49m\u001b[38;5;241;43m=\u001b[39;49m\u001b[43mattention_mask\u001b[49m\u001b[43m,\u001b[49m\n\u001b[1;32m    822\u001b[0m \u001b[43m    \u001b[49m\u001b[43mposition_ids\u001b[49m\u001b[38;5;241;43m=\u001b[39;49m\u001b[43mposition_ids\u001b[49m\u001b[43m,\u001b[49m\n\u001b[1;32m    823\u001b[0m \u001b[43m    \u001b[49m\u001b[43mpast_key_values\u001b[49m\u001b[38;5;241;43m=\u001b[39;49m\u001b[43mpast_key_values\u001b[49m\u001b[43m,\u001b[49m\n\u001b[1;32m    824\u001b[0m \u001b[43m    \u001b[49m\u001b[43minputs_embeds\u001b[49m\u001b[38;5;241;43m=\u001b[39;49m\u001b[43minputs_embeds\u001b[49m\u001b[43m,\u001b[49m\n\u001b[1;32m    825\u001b[0m \u001b[43m    \u001b[49m\u001b[43muse_cache\u001b[49m\u001b[38;5;241;43m=\u001b[39;49m\u001b[43muse_cache\u001b[49m\u001b[43m,\u001b[49m\n\u001b[1;32m    826\u001b[0m \u001b[43m    \u001b[49m\u001b[43moutput_attentions\u001b[49m\u001b[38;5;241;43m=\u001b[39;49m\u001b[43moutput_attentions\u001b[49m\u001b[43m,\u001b[49m\n\u001b[1;32m    827\u001b[0m \u001b[43m    \u001b[49m\u001b[43moutput_hidden_states\u001b[49m\u001b[38;5;241;43m=\u001b[39;49m\u001b[43moutput_hidden_states\u001b[49m\u001b[43m,\u001b[49m\n\u001b[1;32m    828\u001b[0m \u001b[43m    \u001b[49m\u001b[43mreturn_dict\u001b[49m\u001b[38;5;241;43m=\u001b[39;49m\u001b[43mreturn_dict\u001b[49m\u001b[43m,\u001b[49m\n\u001b[1;32m    829\u001b[0m \u001b[43m    \u001b[49m\u001b[43mcache_position\u001b[49m\u001b[38;5;241;43m=\u001b[39;49m\u001b[43mcache_position\u001b[49m\u001b[43m,\u001b[49m\n\u001b[1;32m    830\u001b[0m \u001b[43m    \u001b[49m\u001b[38;5;241;43m*\u001b[39;49m\u001b[38;5;241;43m*\u001b[39;49m\u001b[43mkwargs\u001b[49m\u001b[43m,\u001b[49m\n\u001b[1;32m    831\u001b[0m \u001b[43m\u001b[49m\u001b[43m)\u001b[49m\n\u001b[1;32m    833\u001b[0m hidden_states \u001b[38;5;241m=\u001b[39m outputs[\u001b[38;5;241m0\u001b[39m]\n\u001b[1;32m    834\u001b[0m \u001b[38;5;66;03m# Only compute necessary logits, and do not upcast them to float if we are not computing the loss\u001b[39;00m\n",
      "File \u001b[0;32m~/nnsightusage/nns2env/lib/python3.10/site-packages/torch/nn/modules/module.py:1739\u001b[0m, in \u001b[0;36mModule._wrapped_call_impl\u001b[0;34m(self, *args, **kwargs)\u001b[0m\n\u001b[1;32m   1737\u001b[0m     \u001b[38;5;28;01mreturn\u001b[39;00m \u001b[38;5;28mself\u001b[39m\u001b[38;5;241m.\u001b[39m_compiled_call_impl(\u001b[38;5;241m*\u001b[39margs, \u001b[38;5;241m*\u001b[39m\u001b[38;5;241m*\u001b[39mkwargs)  \u001b[38;5;66;03m# type: ignore[misc]\u001b[39;00m\n\u001b[1;32m   1738\u001b[0m \u001b[38;5;28;01melse\u001b[39;00m:\n\u001b[0;32m-> 1739\u001b[0m     \u001b[38;5;28;01mreturn\u001b[39;00m \u001b[38;5;28;43mself\u001b[39;49m\u001b[38;5;241;43m.\u001b[39;49m\u001b[43m_call_impl\u001b[49m\u001b[43m(\u001b[49m\u001b[38;5;241;43m*\u001b[39;49m\u001b[43margs\u001b[49m\u001b[43m,\u001b[49m\u001b[43m \u001b[49m\u001b[38;5;241;43m*\u001b[39;49m\u001b[38;5;241;43m*\u001b[39;49m\u001b[43mkwargs\u001b[49m\u001b[43m)\u001b[49m\n",
      "File \u001b[0;32m~/nnsightusage/nns2env/lib/python3.10/site-packages/torch/nn/modules/module.py:1845\u001b[0m, in \u001b[0;36mModule._call_impl\u001b[0;34m(self, *args, **kwargs)\u001b[0m\n\u001b[1;32m   1842\u001b[0m     \u001b[38;5;28;01mreturn\u001b[39;00m inner()\n\u001b[1;32m   1844\u001b[0m \u001b[38;5;28;01mtry\u001b[39;00m:\n\u001b[0;32m-> 1845\u001b[0m     \u001b[38;5;28;01mreturn\u001b[39;00m \u001b[43minner\u001b[49m\u001b[43m(\u001b[49m\u001b[43m)\u001b[49m\n\u001b[1;32m   1846\u001b[0m \u001b[38;5;28;01mexcept\u001b[39;00m \u001b[38;5;167;01mException\u001b[39;00m:\n\u001b[1;32m   1847\u001b[0m     \u001b[38;5;66;03m# run always called hooks if they have not already been run\u001b[39;00m\n\u001b[1;32m   1848\u001b[0m     \u001b[38;5;66;03m# For now only forward hooks have the always_call option but perhaps\u001b[39;00m\n\u001b[1;32m   1849\u001b[0m     \u001b[38;5;66;03m# this functionality should be added to full backward hooks as well.\u001b[39;00m\n\u001b[1;32m   1850\u001b[0m     \u001b[38;5;28;01mfor\u001b[39;00m hook_id, hook \u001b[38;5;129;01min\u001b[39;00m _global_forward_hooks\u001b[38;5;241m.\u001b[39mitems():\n",
      "File \u001b[0;32m~/nnsightusage/nns2env/lib/python3.10/site-packages/torch/nn/modules/module.py:1793\u001b[0m, in \u001b[0;36mModule._call_impl.<locals>.inner\u001b[0;34m()\u001b[0m\n\u001b[1;32m   1790\u001b[0m     bw_hook \u001b[38;5;241m=\u001b[39m BackwardHook(\u001b[38;5;28mself\u001b[39m, full_backward_hooks, backward_pre_hooks)\n\u001b[1;32m   1791\u001b[0m     args \u001b[38;5;241m=\u001b[39m bw_hook\u001b[38;5;241m.\u001b[39msetup_input_hook(args)\n\u001b[0;32m-> 1793\u001b[0m result \u001b[38;5;241m=\u001b[39m \u001b[43mforward_call\u001b[49m\u001b[43m(\u001b[49m\u001b[38;5;241;43m*\u001b[39;49m\u001b[43margs\u001b[49m\u001b[43m,\u001b[49m\u001b[43m \u001b[49m\u001b[38;5;241;43m*\u001b[39;49m\u001b[38;5;241;43m*\u001b[39;49m\u001b[43mkwargs\u001b[49m\u001b[43m)\u001b[49m\n\u001b[1;32m   1794\u001b[0m \u001b[38;5;28;01mif\u001b[39;00m _global_forward_hooks \u001b[38;5;129;01mor\u001b[39;00m \u001b[38;5;28mself\u001b[39m\u001b[38;5;241m.\u001b[39m_forward_hooks:\n\u001b[1;32m   1795\u001b[0m     \u001b[38;5;28;01mfor\u001b[39;00m hook_id, hook \u001b[38;5;129;01min\u001b[39;00m (\n\u001b[1;32m   1796\u001b[0m         \u001b[38;5;241m*\u001b[39m_global_forward_hooks\u001b[38;5;241m.\u001b[39mitems(),\n\u001b[1;32m   1797\u001b[0m         \u001b[38;5;241m*\u001b[39m\u001b[38;5;28mself\u001b[39m\u001b[38;5;241m.\u001b[39m_forward_hooks\u001b[38;5;241m.\u001b[39mitems(),\n\u001b[1;32m   1798\u001b[0m     ):\n\u001b[1;32m   1799\u001b[0m         \u001b[38;5;66;03m# mark that always called hook is run\u001b[39;00m\n",
      "File \u001b[0;32m~/nnsightusage/nns2env/lib/python3.10/site-packages/transformers/models/qwen2/modeling_qwen2.py:554\u001b[0m, in \u001b[0;36mQwen2Model.forward\u001b[0;34m(self, input_ids, attention_mask, position_ids, past_key_values, inputs_embeds, use_cache, output_attentions, output_hidden_states, return_dict, cache_position, **flash_attn_kwargs)\u001b[0m\n\u001b[1;32m    551\u001b[0m hidden_states \u001b[38;5;241m=\u001b[39m inputs_embeds\n\u001b[1;32m    553\u001b[0m \u001b[38;5;66;03m# create position embeddings to be shared across the decoder layers\u001b[39;00m\n\u001b[0;32m--> 554\u001b[0m position_embeddings \u001b[38;5;241m=\u001b[39m \u001b[38;5;28;43mself\u001b[39;49m\u001b[38;5;241;43m.\u001b[39;49m\u001b[43mrotary_emb\u001b[49m\u001b[43m(\u001b[49m\u001b[43mhidden_states\u001b[49m\u001b[43m,\u001b[49m\u001b[43m \u001b[49m\u001b[43mposition_ids\u001b[49m\u001b[43m)\u001b[49m\n\u001b[1;32m    556\u001b[0m \u001b[38;5;66;03m# decoder layers\u001b[39;00m\n\u001b[1;32m    557\u001b[0m all_hidden_states \u001b[38;5;241m=\u001b[39m () \u001b[38;5;28;01mif\u001b[39;00m output_hidden_states \u001b[38;5;28;01melse\u001b[39;00m \u001b[38;5;28;01mNone\u001b[39;00m\n",
      "File \u001b[0;32m~/nnsightusage/nns2env/lib/python3.10/site-packages/torch/nn/modules/module.py:1739\u001b[0m, in \u001b[0;36mModule._wrapped_call_impl\u001b[0;34m(self, *args, **kwargs)\u001b[0m\n\u001b[1;32m   1737\u001b[0m     \u001b[38;5;28;01mreturn\u001b[39;00m \u001b[38;5;28mself\u001b[39m\u001b[38;5;241m.\u001b[39m_compiled_call_impl(\u001b[38;5;241m*\u001b[39margs, \u001b[38;5;241m*\u001b[39m\u001b[38;5;241m*\u001b[39mkwargs)  \u001b[38;5;66;03m# type: ignore[misc]\u001b[39;00m\n\u001b[1;32m   1738\u001b[0m \u001b[38;5;28;01melse\u001b[39;00m:\n\u001b[0;32m-> 1739\u001b[0m     \u001b[38;5;28;01mreturn\u001b[39;00m \u001b[38;5;28;43mself\u001b[39;49m\u001b[38;5;241;43m.\u001b[39;49m\u001b[43m_call_impl\u001b[49m\u001b[43m(\u001b[49m\u001b[38;5;241;43m*\u001b[39;49m\u001b[43margs\u001b[49m\u001b[43m,\u001b[49m\u001b[43m \u001b[49m\u001b[38;5;241;43m*\u001b[39;49m\u001b[38;5;241;43m*\u001b[39;49m\u001b[43mkwargs\u001b[49m\u001b[43m)\u001b[49m\n",
      "File \u001b[0;32m~/nnsightusage/nns2env/lib/python3.10/site-packages/torch/nn/modules/module.py:1845\u001b[0m, in \u001b[0;36mModule._call_impl\u001b[0;34m(self, *args, **kwargs)\u001b[0m\n\u001b[1;32m   1842\u001b[0m     \u001b[38;5;28;01mreturn\u001b[39;00m inner()\n\u001b[1;32m   1844\u001b[0m \u001b[38;5;28;01mtry\u001b[39;00m:\n\u001b[0;32m-> 1845\u001b[0m     \u001b[38;5;28;01mreturn\u001b[39;00m \u001b[43minner\u001b[49m\u001b[43m(\u001b[49m\u001b[43m)\u001b[49m\n\u001b[1;32m   1846\u001b[0m \u001b[38;5;28;01mexcept\u001b[39;00m \u001b[38;5;167;01mException\u001b[39;00m:\n\u001b[1;32m   1847\u001b[0m     \u001b[38;5;66;03m# run always called hooks if they have not already been run\u001b[39;00m\n\u001b[1;32m   1848\u001b[0m     \u001b[38;5;66;03m# For now only forward hooks have the always_call option but perhaps\u001b[39;00m\n\u001b[1;32m   1849\u001b[0m     \u001b[38;5;66;03m# this functionality should be added to full backward hooks as well.\u001b[39;00m\n\u001b[1;32m   1850\u001b[0m     \u001b[38;5;28;01mfor\u001b[39;00m hook_id, hook \u001b[38;5;129;01min\u001b[39;00m _global_forward_hooks\u001b[38;5;241m.\u001b[39mitems():\n",
      "File \u001b[0;32m~/nnsightusage/nns2env/lib/python3.10/site-packages/torch/nn/modules/module.py:1793\u001b[0m, in \u001b[0;36mModule._call_impl.<locals>.inner\u001b[0;34m()\u001b[0m\n\u001b[1;32m   1790\u001b[0m     bw_hook \u001b[38;5;241m=\u001b[39m BackwardHook(\u001b[38;5;28mself\u001b[39m, full_backward_hooks, backward_pre_hooks)\n\u001b[1;32m   1791\u001b[0m     args \u001b[38;5;241m=\u001b[39m bw_hook\u001b[38;5;241m.\u001b[39msetup_input_hook(args)\n\u001b[0;32m-> 1793\u001b[0m result \u001b[38;5;241m=\u001b[39m \u001b[43mforward_call\u001b[49m\u001b[43m(\u001b[49m\u001b[38;5;241;43m*\u001b[39;49m\u001b[43margs\u001b[49m\u001b[43m,\u001b[49m\u001b[43m \u001b[49m\u001b[38;5;241;43m*\u001b[39;49m\u001b[38;5;241;43m*\u001b[39;49m\u001b[43mkwargs\u001b[49m\u001b[43m)\u001b[49m\n\u001b[1;32m   1794\u001b[0m \u001b[38;5;28;01mif\u001b[39;00m _global_forward_hooks \u001b[38;5;129;01mor\u001b[39;00m \u001b[38;5;28mself\u001b[39m\u001b[38;5;241m.\u001b[39m_forward_hooks:\n\u001b[1;32m   1795\u001b[0m     \u001b[38;5;28;01mfor\u001b[39;00m hook_id, hook \u001b[38;5;129;01min\u001b[39;00m (\n\u001b[1;32m   1796\u001b[0m         \u001b[38;5;241m*\u001b[39m_global_forward_hooks\u001b[38;5;241m.\u001b[39mitems(),\n\u001b[1;32m   1797\u001b[0m         \u001b[38;5;241m*\u001b[39m\u001b[38;5;28mself\u001b[39m\u001b[38;5;241m.\u001b[39m_forward_hooks\u001b[38;5;241m.\u001b[39mitems(),\n\u001b[1;32m   1798\u001b[0m     ):\n\u001b[1;32m   1799\u001b[0m         \u001b[38;5;66;03m# mark that always called hook is run\u001b[39;00m\n",
      "File \u001b[0;32m~/nnsightusage/nns2env/lib/python3.10/site-packages/torch/utils/_contextlib.py:116\u001b[0m, in \u001b[0;36mcontext_decorator.<locals>.decorate_context\u001b[0;34m(*args, **kwargs)\u001b[0m\n\u001b[1;32m    113\u001b[0m \u001b[38;5;129m@functools\u001b[39m\u001b[38;5;241m.\u001b[39mwraps(func)\n\u001b[1;32m    114\u001b[0m \u001b[38;5;28;01mdef\u001b[39;00m\u001b[38;5;250m \u001b[39m\u001b[38;5;21mdecorate_context\u001b[39m(\u001b[38;5;241m*\u001b[39margs, \u001b[38;5;241m*\u001b[39m\u001b[38;5;241m*\u001b[39mkwargs):\n\u001b[1;32m    115\u001b[0m     \u001b[38;5;28;01mwith\u001b[39;00m ctx_factory():\n\u001b[0;32m--> 116\u001b[0m         \u001b[38;5;28;01mreturn\u001b[39;00m \u001b[43mfunc\u001b[49m\u001b[43m(\u001b[49m\u001b[38;5;241;43m*\u001b[39;49m\u001b[43margs\u001b[49m\u001b[43m,\u001b[49m\u001b[43m \u001b[49m\u001b[38;5;241;43m*\u001b[39;49m\u001b[38;5;241;43m*\u001b[39;49m\u001b[43mkwargs\u001b[49m\u001b[43m)\u001b[49m\n",
      "File \u001b[0;32m~/nnsightusage/nns2env/lib/python3.10/site-packages/transformers/models/qwen2/modeling_qwen2.py:329\u001b[0m, in \u001b[0;36mQwen2RotaryEmbedding.forward\u001b[0;34m(self, x, position_ids)\u001b[0m\n\u001b[1;32m    327\u001b[0m \u001b[38;5;66;03m# Core RoPE block\u001b[39;00m\n\u001b[1;32m    328\u001b[0m inv_freq_expanded \u001b[38;5;241m=\u001b[39m \u001b[38;5;28mself\u001b[39m\u001b[38;5;241m.\u001b[39minv_freq[\u001b[38;5;28;01mNone\u001b[39;00m, :, \u001b[38;5;28;01mNone\u001b[39;00m]\u001b[38;5;241m.\u001b[39mfloat()\u001b[38;5;241m.\u001b[39mexpand(position_ids\u001b[38;5;241m.\u001b[39mshape[\u001b[38;5;241m0\u001b[39m], \u001b[38;5;241m-\u001b[39m\u001b[38;5;241m1\u001b[39m, \u001b[38;5;241m1\u001b[39m)\n\u001b[0;32m--> 329\u001b[0m position_ids_expanded \u001b[38;5;241m=\u001b[39m \u001b[43mposition_ids\u001b[49m\u001b[43m[\u001b[49m\u001b[43m:\u001b[49m\u001b[43m,\u001b[49m\u001b[43m \u001b[49m\u001b[38;5;28;43;01mNone\u001b[39;49;00m\u001b[43m,\u001b[49m\u001b[43m \u001b[49m\u001b[43m:\u001b[49m\u001b[43m]\u001b[49m\u001b[38;5;241;43m.\u001b[39;49m\u001b[43mfloat\u001b[49m\u001b[43m(\u001b[49m\u001b[43m)\u001b[49m\n\u001b[1;32m    330\u001b[0m \u001b[38;5;66;03m# Force float32 (see https://github.com/huggingface/transformers/pull/29285)\u001b[39;00m\n\u001b[1;32m    331\u001b[0m device_type \u001b[38;5;241m=\u001b[39m x\u001b[38;5;241m.\u001b[39mdevice\u001b[38;5;241m.\u001b[39mtype\n",
      "\u001b[0;31mKeyboardInterrupt\u001b[0m: "
     ]
    }
   ],
   "source": [
    "for i in range(100):\n",
    "    print(f\"Steering Experiment: {i}\")\n",
    "    generate_output(llm_2, prompt, print_ans=False, save_ans=True, ans_filename=f\"ans_{i}.txt\")"
   ]
  },
  {
   "cell_type": "code",
   "execution_count": null,
   "metadata": {},
   "outputs": [],
   "source": []
  }
 ],
 "metadata": {
  "kernelspec": {
   "display_name": "nns2env",
   "language": "python",
   "name": "python3"
  },
  "language_info": {
   "codemirror_mode": {
    "name": "ipython",
    "version": 3
   },
   "file_extension": ".py",
   "mimetype": "text/x-python",
   "name": "python",
   "nbconvert_exporter": "python",
   "pygments_lexer": "ipython3",
   "version": "3.10.0"
  }
 },
 "nbformat": 4,
 "nbformat_minor": 2
}
